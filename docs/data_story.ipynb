{
 "cells": [
  {
   "attachments": {},
   "cell_type": "markdown",
   "metadata": {},
   "source": [
    "# Eerste Markdown cell\n",
    "\n",
    "(last updated: June 19, 2023)"
   ]
  },
  {
   "attachments": {},
   "cell_type": "markdown",
   "metadata": {},
   "source": [
    "Test van Chris"
   ]
  },
  {
   "cell_type": "code",
   "execution_count": 1,
   "metadata": {},
   "outputs": [],
   "source": [
    "import pandas as pd\n",
    "import seaborn as sns\n",
    "import matplotlib.pyplot as plt\n",
    "import plotly.express as px\n",
    "import plotly.graph_objects as go"
   ]
  },
  {
   "cell_type": "code",
   "execution_count": 2,
   "metadata": {},
   "outputs": [],
   "source": [
    "temperature_data = pd.read_csv('Temperature_change_cleaned.csv')\n",
    "temperature_dataframe = pd.DataFrame(temperature_data)\n",
    "temperature_dataframe.head()\n",
    "\n",
    "df_melt = pd.melt(temperature_dataframe, id_vars=['Area Code', 'Area', 'Months Code', 'Months', 'Element Code', 'Element', 'Unit'], var_name='Year', value_name='Temperature')\n",
    "df_melt = df_melt.sort_values(by=['Area', 'Year'])\n",
    "df_melt['Year'] = df_melt['Year'].str.replace('Y', '')\n",
    "df_melt['std'] = ''\n",
    "for index, row in df_melt.iterrows():\n",
    "    if row['Element'] == 'Standard Deviation':\n",
    "        df_melt.at[index, 'std'] = row['Temperature']\n",
    "    else:\n",
    "        df_melt.at[index, 'std'] = df_melt.at[index + 1, 'Temperature']\n",
    "filtering = df_melt.drop(df_melt[df_melt['Element'] == 'Standard Deviation'].index)\n",
    "\n",
    "filtering['Mean'] = filtering.groupby(['Area', 'Months'])['Temperature'].transform('mean')\n",
    "filtering['z-score'] = (filtering['Temperature'] - filtering['Mean']) / filtering['std']\n",
    "filtering = filtering.drop(['std', 'Mean'], axis=1)\n",
    "\n",
    "filtering.to_csv('new_temperature.csv', index = False)"
   ]
  },
  {
   "cell_type": "code",
   "execution_count": 3,
   "metadata": {},
   "outputs": [
    {
     "data": {
      "text/html": [
       "<div>\n",
       "<style scoped>\n",
       "    .dataframe tbody tr th:only-of-type {\n",
       "        vertical-align: middle;\n",
       "    }\n",
       "\n",
       "    .dataframe tbody tr th {\n",
       "        vertical-align: top;\n",
       "    }\n",
       "\n",
       "    .dataframe thead th {\n",
       "        text-align: right;\n",
       "    }\n",
       "</style>\n",
       "<table border=\"1\" class=\"dataframe\">\n",
       "  <thead>\n",
       "    <tr style=\"text-align: right;\">\n",
       "      <th></th>\n",
       "      <th>country_code</th>\n",
       "      <th>country_name</th>\n",
       "      <th>year</th>\n",
       "      <th>value</th>\n",
       "    </tr>\n",
       "  </thead>\n",
       "  <tbody>\n",
       "    <tr>\n",
       "      <th>0</th>\n",
       "      <td>ABW</td>\n",
       "      <td>Aruba</td>\n",
       "      <td>1960</td>\n",
       "      <td>11092.675</td>\n",
       "    </tr>\n",
       "    <tr>\n",
       "      <th>1</th>\n",
       "      <td>ABW</td>\n",
       "      <td>Aruba</td>\n",
       "      <td>1961</td>\n",
       "      <td>11576.719</td>\n",
       "    </tr>\n",
       "    <tr>\n",
       "      <th>2</th>\n",
       "      <td>ABW</td>\n",
       "      <td>Aruba</td>\n",
       "      <td>1962</td>\n",
       "      <td>12713.489</td>\n",
       "    </tr>\n",
       "    <tr>\n",
       "      <th>3</th>\n",
       "      <td>ABW</td>\n",
       "      <td>Aruba</td>\n",
       "      <td>1963</td>\n",
       "      <td>12178.107</td>\n",
       "    </tr>\n",
       "    <tr>\n",
       "      <th>4</th>\n",
       "      <td>ABW</td>\n",
       "      <td>Aruba</td>\n",
       "      <td>1964</td>\n",
       "      <td>11840.743</td>\n",
       "    </tr>\n",
       "  </tbody>\n",
       "</table>\n",
       "</div>"
      ],
      "text/plain": [
       "  country_code country_name  year      value\n",
       "0          ABW        Aruba  1960  11092.675\n",
       "1          ABW        Aruba  1961  11576.719\n",
       "2          ABW        Aruba  1962  12713.489\n",
       "3          ABW        Aruba  1963  12178.107\n",
       "4          ABW        Aruba  1964  11840.743"
      ]
     },
     "execution_count": 3,
     "metadata": {},
     "output_type": "execute_result"
    }
   ],
   "source": [
    "co2_data = pd.read_csv('CO2_emissions_cleaned.csv')\n",
    "co2_dataframe = pd.DataFrame(co2_data)\n",
    "co2_dataframe.head()"
   ]
  },
  {
   "cell_type": "code",
   "execution_count": 4,
   "metadata": {},
   "outputs": [
    {
     "name": "stdout",
     "output_type": "stream",
     "text": [
      "          Country    Year Methane value\n",
      "5940  Afghanistan  1990.0          8.97\n",
      "5749  Afghanistan  1991.0          9.07\n",
      "5558  Afghanistan  1992.0          8.99\n",
      "5367  Afghanistan  1993.0          8.89\n",
      "5176  Afghanistan  1994.0          8.96\n",
      "...           ...     ...           ...\n",
      "1424     Zimbabwe  2014.0         10.82\n",
      "1233     Zimbabwe  2015.0         11.79\n",
      "1042     Zimbabwe  2016.0         11.38\n",
      "851      Zimbabwe  2017.0         11.56\n",
      "660      Zimbabwe  2018.0         11.85\n",
      "\n",
      "[5539 rows x 3 columns]\n"
     ]
    }
   ],
   "source": [
    "methane_data = pd.read_csv('Methane_emissions_cleaned.csv')\n",
    "methane_dataframe = pd.DataFrame(methane_data)\n",
    "methane_dataframe.head()\n",
    "\n",
    "\n",
    "df_transposed = pd.melt(methane_dataframe, id_vars=['Country'], var_name='Year', value_name='Methane value')\n",
    "df_transposed.sort_values(['Country', 'Year'], inplace=True)\n",
    "df_transposed['Year'] = pd.to_numeric(df_transposed['Year'], errors='coerce')\n",
    "df_transposed = df_transposed.dropna(subset=['Year'])\n",
    "\n",
    "print(df_transposed)\n",
    "\n",
    "df_transposed.to_csv('new_methane.csv', index = False)"
   ]
  },
  {
   "cell_type": "code",
   "execution_count": 5,
   "metadata": {},
   "outputs": [
    {
     "data": {
      "text/html": [
       "<div>\n",
       "<style scoped>\n",
       "    .dataframe tbody tr th:only-of-type {\n",
       "        vertical-align: middle;\n",
       "    }\n",
       "\n",
       "    .dataframe tbody tr th {\n",
       "        vertical-align: top;\n",
       "    }\n",
       "\n",
       "    .dataframe thead th {\n",
       "        text-align: right;\n",
       "    }\n",
       "</style>\n",
       "<table border=\"1\" class=\"dataframe\">\n",
       "  <thead>\n",
       "    <tr style=\"text-align: right;\">\n",
       "      <th></th>\n",
       "      <th>year</th>\n",
       "      <th>Jan</th>\n",
       "      <th>Feb</th>\n",
       "      <th>Mar</th>\n",
       "      <th>Apr</th>\n",
       "      <th>May</th>\n",
       "      <th>Jun</th>\n",
       "      <th>Jul</th>\n",
       "      <th>Aug</th>\n",
       "      <th>Sep</th>\n",
       "      <th>Oct</th>\n",
       "      <th>Nov</th>\n",
       "      <th>Dec</th>\n",
       "    </tr>\n",
       "  </thead>\n",
       "  <tbody>\n",
       "    <tr>\n",
       "      <th>0</th>\n",
       "      <td>1950</td>\n",
       "      <td>-0.5</td>\n",
       "      <td>-0.4</td>\n",
       "      <td>-0.4</td>\n",
       "      <td>-0.4</td>\n",
       "      <td>-0.6</td>\n",
       "      <td>-0.8</td>\n",
       "      <td>-0.8</td>\n",
       "      <td>-0.5</td>\n",
       "      <td>-0.2</td>\n",
       "      <td>0.2</td>\n",
       "      <td>0.4</td>\n",
       "      <td>0.6</td>\n",
       "    </tr>\n",
       "    <tr>\n",
       "      <th>1</th>\n",
       "      <td>1951</td>\n",
       "      <td>0.7</td>\n",
       "      <td>0.9</td>\n",
       "      <td>1.0</td>\n",
       "      <td>1.2</td>\n",
       "      <td>1.0</td>\n",
       "      <td>0.8</td>\n",
       "      <td>0.5</td>\n",
       "      <td>0.4</td>\n",
       "      <td>0.3</td>\n",
       "      <td>0.3</td>\n",
       "      <td>0.2</td>\n",
       "      <td>0.0</td>\n",
       "    </tr>\n",
       "    <tr>\n",
       "      <th>2</th>\n",
       "      <td>1952</td>\n",
       "      <td>-0.1</td>\n",
       "      <td>0.0</td>\n",
       "      <td>0.2</td>\n",
       "      <td>0.1</td>\n",
       "      <td>0.0</td>\n",
       "      <td>0.1</td>\n",
       "      <td>0.4</td>\n",
       "      <td>0.6</td>\n",
       "      <td>0.6</td>\n",
       "      <td>0.7</td>\n",
       "      <td>0.8</td>\n",
       "      <td>0.8</td>\n",
       "    </tr>\n",
       "    <tr>\n",
       "      <th>3</th>\n",
       "      <td>1953</td>\n",
       "      <td>0.7</td>\n",
       "      <td>0.7</td>\n",
       "      <td>0.8</td>\n",
       "      <td>0.8</td>\n",
       "      <td>0.8</td>\n",
       "      <td>0.8</td>\n",
       "      <td>0.8</td>\n",
       "      <td>0.5</td>\n",
       "      <td>0.0</td>\n",
       "      <td>-0.4</td>\n",
       "      <td>-0.5</td>\n",
       "      <td>-0.5</td>\n",
       "    </tr>\n",
       "    <tr>\n",
       "      <th>4</th>\n",
       "      <td>1954</td>\n",
       "      <td>-0.6</td>\n",
       "      <td>-0.8</td>\n",
       "      <td>-0.9</td>\n",
       "      <td>-0.8</td>\n",
       "      <td>-0.7</td>\n",
       "      <td>-0.7</td>\n",
       "      <td>-0.7</td>\n",
       "      <td>-0.6</td>\n",
       "      <td>-0.7</td>\n",
       "      <td>-0.8</td>\n",
       "      <td>-0.8</td>\n",
       "      <td>-0.7</td>\n",
       "    </tr>\n",
       "  </tbody>\n",
       "</table>\n",
       "</div>"
      ],
      "text/plain": [
       "   year  Jan  Feb  Mar  Apr  May  Jun  Jul  Aug  Sep  Oct  Nov  Dec\n",
       "0  1950 -0.5 -0.4 -0.4 -0.4 -0.6 -0.8 -0.8 -0.5 -0.2  0.2  0.4  0.6\n",
       "1  1951  0.7  0.9  1.0  1.2  1.0  0.8  0.5  0.4  0.3  0.3  0.2  0.0\n",
       "2  1952 -0.1  0.0  0.2  0.1  0.0  0.1  0.4  0.6  0.6  0.7  0.8  0.8\n",
       "3  1953  0.7  0.7  0.8  0.8  0.8  0.8  0.8  0.5  0.0 -0.4 -0.5 -0.5\n",
       "4  1954 -0.6 -0.8 -0.9 -0.8 -0.7 -0.7 -0.7 -0.6 -0.7 -0.8 -0.8 -0.7"
      ]
     },
     "execution_count": 5,
     "metadata": {},
     "output_type": "execute_result"
    }
   ],
   "source": [
    "elnino_data = pd.read_csv('ElNino_LaNina_cleaned.csv')\n",
    "elnino_dataframe = pd.DataFrame(elnino_data)\n",
    "elnino_dataframe.head()"
   ]
  },
  {
   "cell_type": "code",
   "execution_count": 7,
   "metadata": {},
   "outputs": [
    {
     "data": {
      "image/png": "[encoded data removed]",
      "text/plain": [
       "<Figure size 500x500 with 1 Axes>"
      ]
     },
     "metadata": {},
     "output_type": "display_data"
    },
    {
     "data": {
      "image/png": "[encoded data removed]",
      "text/plain": [
       "<Figure size 500x500 with 1 Axes>"
      ]
     },
     "metadata": {},
     "output_type": "display_data"
    }
   ],
   "source": [
    "# Daniel\n",
    "\n",
    "co2_df = pd.read_csv('CO2_emissions_cleaned.csv')\n",
    "\n",
    "elnino_df = pd.read_csv('ElNino_LaNina_cleaned.csv')\n",
    "\n",
    "merged_df = pd.merge(co2_df, elnino_df, on='year')\n",
    "\n",
    "merged_df.sort_values(['country_code', 'year'], inplace=True)\n",
    "\n",
    "merged_df['Classification'] = ''\n",
    "\n",
    "for index, row in merged_df.iterrows():\n",
    "    elnino_values = row['Jan':'Dec']\n",
    "    max_abs_value = elnino_values.abs().max()\n",
    "    \n",
    "    if max_abs_value >= 0.5:\n",
    "        max_value = elnino_values.max()\n",
    "        if abs(max_value) == max_abs_value:\n",
    "            merged_df.at[index, 'Classification'] = '2' #elnino\n",
    "        else:\n",
    "            merged_df.at[index, 'Classification'] = '0' #lanina\n",
    "    else:\n",
    "        merged_df.at[index, 'Classification'] = '1' #neither\n",
    "\n",
    "merged_df.to_csv('CO2_merge_elnino_lanina.csv')\n",
    "\n",
    "CO2_elnino_df = pd.read_csv('CO2_merge_elnino_lanina.csv')\n",
    "\n",
    "\n",
    "sns.lmplot(data=CO2_elnino_df, x='value', y='Classification')\n",
    "plt.yticks([0, 1, 2], ['La Nina', 'Neither', 'El Nino'])\n",
    "plt.xlabel('Value')\n",
    "plt.ylabel('Classification')\n",
    "plt.title('Linear Regression: Value vs. Classification')\n",
    "plt.show()\n",
    "\n",
    "sns.lmplot(data=CO2_elnino_df, x='year', y='Classification')\n",
    "plt.yticks([0, 1, 2], ['La Nina', 'Neither', 'El Nino'])\n",
    "plt.xlabel('year')\n",
    "plt.ylabel('Classification')\n",
    "plt.title('Linear Regression: Value vs. Classification')\n",
    "plt.show()\n"
   ]
  },
  {
   "cell_type": "code",
   "execution_count": 18,
   "metadata": {},
   "outputs": [
    {
     "data": {
      "text/html": [
       "<div>\n",
       "<style scoped>\n",
       "    .dataframe tbody tr th:only-of-type {\n",
       "        vertical-align: middle;\n",
       "    }\n",
       "\n",
       "    .dataframe tbody tr th {\n",
       "        vertical-align: top;\n",
       "    }\n",
       "\n",
       "    .dataframe thead th {\n",
       "        text-align: right;\n",
       "    }\n",
       "</style>\n",
       "<table border=\"1\" class=\"dataframe\">\n",
       "  <thead>\n",
       "    <tr style=\"text-align: right;\">\n",
       "      <th></th>\n",
       "      <th>Area Code</th>\n",
       "      <th>Area</th>\n",
       "      <th>Months Code</th>\n",
       "      <th>Months</th>\n",
       "      <th>Element Code</th>\n",
       "      <th>Element</th>\n",
       "      <th>Unit</th>\n",
       "      <th>Year</th>\n",
       "      <th>Temperature</th>\n",
       "      <th>z-score</th>\n",
       "    </tr>\n",
       "  </thead>\n",
       "  <tbody>\n",
       "    <tr>\n",
       "      <th>0</th>\n",
       "      <td>2</td>\n",
       "      <td>Afghanistan</td>\n",
       "      <td>7001</td>\n",
       "      <td>January</td>\n",
       "      <td>7271</td>\n",
       "      <td>Temperature change</td>\n",
       "      <td>°C</td>\n",
       "      <td>1961</td>\n",
       "      <td>0.777</td>\n",
       "      <td>0.169300</td>\n",
       "    </tr>\n",
       "    <tr>\n",
       "      <th>1</th>\n",
       "      <td>2</td>\n",
       "      <td>Afghanistan</td>\n",
       "      <td>7002</td>\n",
       "      <td>February</td>\n",
       "      <td>7271</td>\n",
       "      <td>Temperature change</td>\n",
       "      <td>°C</td>\n",
       "      <td>1961</td>\n",
       "      <td>-1.743</td>\n",
       "      <td>-0.700639</td>\n",
       "    </tr>\n",
       "    <tr>\n",
       "      <th>2</th>\n",
       "      <td>2</td>\n",
       "      <td>Afghanistan</td>\n",
       "      <td>7003</td>\n",
       "      <td>March</td>\n",
       "      <td>7271</td>\n",
       "      <td>Temperature change</td>\n",
       "      <td>°C</td>\n",
       "      <td>1961</td>\n",
       "      <td>0.516</td>\n",
       "      <td>0.123397</td>\n",
       "    </tr>\n",
       "    <tr>\n",
       "      <th>3</th>\n",
       "      <td>2</td>\n",
       "      <td>Afghanistan</td>\n",
       "      <td>7004</td>\n",
       "      <td>April</td>\n",
       "      <td>7271</td>\n",
       "      <td>Temperature change</td>\n",
       "      <td>°C</td>\n",
       "      <td>1961</td>\n",
       "      <td>-1.709</td>\n",
       "      <td>-1.543048</td>\n",
       "    </tr>\n",
       "    <tr>\n",
       "      <th>4</th>\n",
       "      <td>2</td>\n",
       "      <td>Afghanistan</td>\n",
       "      <td>7005</td>\n",
       "      <td>May</td>\n",
       "      <td>7271</td>\n",
       "      <td>Temperature change</td>\n",
       "      <td>°C</td>\n",
       "      <td>1961</td>\n",
       "      <td>1.412</td>\n",
       "      <td>0.541270</td>\n",
       "    </tr>\n",
       "  </tbody>\n",
       "</table>\n",
       "</div>"
      ],
      "text/plain": [
       "   Area Code         Area  Months Code    Months  Element Code  \\\n",
       "0          2  Afghanistan         7001   January          7271   \n",
       "1          2  Afghanistan         7002  February          7271   \n",
       "2          2  Afghanistan         7003     March          7271   \n",
       "3          2  Afghanistan         7004     April          7271   \n",
       "4          2  Afghanistan         7005       May          7271   \n",
       "\n",
       "              Element Unit  Year  Temperature   z-score  \n",
       "0  Temperature change   °C  1961        0.777  0.169300  \n",
       "1  Temperature change   °C  1961       -1.743 -0.700639  \n",
       "2  Temperature change   °C  1961        0.516  0.123397  \n",
       "3  Temperature change   °C  1961       -1.709 -1.543048  \n",
       "4  Temperature change   °C  1961        1.412  0.541270  "
      ]
     },
     "execution_count": 18,
     "metadata": {},
     "output_type": "execute_result"
    }
   ],
   "source": [
    "new_temperature_data = pd.read_csv('new_temperature.csv')\n",
    "new_temperature_dataframe = pd.DataFrame(new_temperature_data)\n",
    "new_temperature_dataframe.head()"
   ]
  },
  {
   "cell_type": "code",
   "execution_count": 9,
   "metadata": {},
   "outputs": [
    {
     "data": {
      "text/html": [
       "<div>\n",
       "<style scoped>\n",
       "    .dataframe tbody tr th:only-of-type {\n",
       "        vertical-align: middle;\n",
       "    }\n",
       "\n",
       "    .dataframe tbody tr th {\n",
       "        vertical-align: top;\n",
       "    }\n",
       "\n",
       "    .dataframe thead th {\n",
       "        text-align: right;\n",
       "    }\n",
       "</style>\n",
       "<table border=\"1\" class=\"dataframe\">\n",
       "  <thead>\n",
       "    <tr style=\"text-align: right;\">\n",
       "      <th></th>\n",
       "      <th>Country</th>\n",
       "      <th>Year</th>\n",
       "      <th>Methane value</th>\n",
       "    </tr>\n",
       "  </thead>\n",
       "  <tbody>\n",
       "    <tr>\n",
       "      <th>0</th>\n",
       "      <td>Afghanistan</td>\n",
       "      <td>1990.0</td>\n",
       "      <td>8.97</td>\n",
       "    </tr>\n",
       "    <tr>\n",
       "      <th>1</th>\n",
       "      <td>Afghanistan</td>\n",
       "      <td>1991.0</td>\n",
       "      <td>9.07</td>\n",
       "    </tr>\n",
       "    <tr>\n",
       "      <th>2</th>\n",
       "      <td>Afghanistan</td>\n",
       "      <td>1992.0</td>\n",
       "      <td>8.99</td>\n",
       "    </tr>\n",
       "    <tr>\n",
       "      <th>3</th>\n",
       "      <td>Afghanistan</td>\n",
       "      <td>1993.0</td>\n",
       "      <td>8.89</td>\n",
       "    </tr>\n",
       "    <tr>\n",
       "      <th>4</th>\n",
       "      <td>Afghanistan</td>\n",
       "      <td>1994.0</td>\n",
       "      <td>8.96</td>\n",
       "    </tr>\n",
       "  </tbody>\n",
       "</table>\n",
       "</div>"
      ],
      "text/plain": [
       "       Country    Year  Methane value\n",
       "0  Afghanistan  1990.0           8.97\n",
       "1  Afghanistan  1991.0           9.07\n",
       "2  Afghanistan  1992.0           8.99\n",
       "3  Afghanistan  1993.0           8.89\n",
       "4  Afghanistan  1994.0           8.96"
      ]
     },
     "execution_count": 9,
     "metadata": {},
     "output_type": "execute_result"
    }
   ],
   "source": [
    "new_methane_data = pd.read_csv('new_methane.csv')\n",
    "new_methane_dataframe = pd.DataFrame(new_methane_data)\n",
    "new_methane_dataframe.head()"
   ]
  },
  {
   "cell_type": "code",
   "execution_count": 10,
   "metadata": {},
   "outputs": [],
   "source": [
    "new_methane_dataframe['Mean'] = new_methane_dataframe.groupby('Country')['Methane value'].transform('mean')\n",
    "new_methane_dataframe['Std'] = new_methane_dataframe.groupby('Country')['Methane value'].transform('std')\n",
    "new_methane_dataframe['z-score'] = (new_methane_dataframe['Methane value'] - new_methane_dataframe['Mean']) / new_methane_dataframe['Std']\n",
    "\n",
    "new_methane_dataframe = new_methane_dataframe[['Country', 'Year', 'Methane value', 'z-score']]\n",
    "\n",
    "new_methane_dataframe.to_csv('new_methane.csv', index = False)"
   ]
  },
  {
   "cell_type": "code",
   "execution_count": 11,
   "metadata": {},
   "outputs": [
    {
     "data": {
      "text/html": [
       "<div>\n",
       "<style scoped>\n",
       "    .dataframe tbody tr th:only-of-type {\n",
       "        vertical-align: middle;\n",
       "    }\n",
       "\n",
       "    .dataframe tbody tr th {\n",
       "        vertical-align: top;\n",
       "    }\n",
       "\n",
       "    .dataframe thead th {\n",
       "        text-align: right;\n",
       "    }\n",
       "</style>\n",
       "<table border=\"1\" class=\"dataframe\">\n",
       "  <thead>\n",
       "    <tr style=\"text-align: right;\">\n",
       "      <th></th>\n",
       "      <th>Country</th>\n",
       "      <th>Year</th>\n",
       "      <th>Methane value</th>\n",
       "      <th>z-score</th>\n",
       "    </tr>\n",
       "  </thead>\n",
       "  <tbody>\n",
       "    <tr>\n",
       "      <th>0</th>\n",
       "      <td>Afghanistan</td>\n",
       "      <td>1990.0</td>\n",
       "      <td>8.97</td>\n",
       "      <td>-0.722564</td>\n",
       "    </tr>\n",
       "    <tr>\n",
       "      <th>1</th>\n",
       "      <td>Afghanistan</td>\n",
       "      <td>1991.0</td>\n",
       "      <td>9.07</td>\n",
       "      <td>-0.718711</td>\n",
       "    </tr>\n",
       "    <tr>\n",
       "      <th>2</th>\n",
       "      <td>Afghanistan</td>\n",
       "      <td>1992.0</td>\n",
       "      <td>8.99</td>\n",
       "      <td>-0.721793</td>\n",
       "    </tr>\n",
       "    <tr>\n",
       "      <th>3</th>\n",
       "      <td>Afghanistan</td>\n",
       "      <td>1993.0</td>\n",
       "      <td>8.89</td>\n",
       "      <td>-0.725647</td>\n",
       "    </tr>\n",
       "    <tr>\n",
       "      <th>4</th>\n",
       "      <td>Afghanistan</td>\n",
       "      <td>1994.0</td>\n",
       "      <td>8.96</td>\n",
       "      <td>-0.722950</td>\n",
       "    </tr>\n",
       "  </tbody>\n",
       "</table>\n",
       "</div>"
      ],
      "text/plain": [
       "       Country    Year  Methane value   z-score\n",
       "0  Afghanistan  1990.0           8.97 -0.722564\n",
       "1  Afghanistan  1991.0           9.07 -0.718711\n",
       "2  Afghanistan  1992.0           8.99 -0.721793\n",
       "3  Afghanistan  1993.0           8.89 -0.725647\n",
       "4  Afghanistan  1994.0           8.96 -0.722950"
      ]
     },
     "execution_count": 11,
     "metadata": {},
     "output_type": "execute_result"
    }
   ],
   "source": [
    "new_methane_data = pd.read_csv('new_methane.csv')\n",
    "new_methane_dataframe = pd.DataFrame(new_methane_data)\n",
    "new_methane_dataframe.head()"
   ]
  },
  {
   "cell_type": "code",
   "execution_count": 12,
   "metadata": {},
   "outputs": [],
   "source": [
    "co2_dataframe['Mean'] = co2_dataframe.groupby('country_code')['value'].transform('mean')\n",
    "co2_dataframe['Std'] = co2_dataframe.groupby('country_code')['value'].transform('std')\n",
    "co2_dataframe['z-score'] = (co2_dataframe['value'] - co2_dataframe['Mean']) / co2_dataframe['Std']\n",
    "\n",
    "new_co2_dataframe = co2_dataframe[['country_code', 'country_name', 'year', 'value', 'z-score']]\n",
    "\n",
    "new_co2_dataframe.to_csv('new_co2.csv', index=False)\n"
   ]
  },
  {
   "cell_type": "code",
   "execution_count": 13,
   "metadata": {},
   "outputs": [
    {
     "data": {
      "text/html": [
       "<div>\n",
       "<style scoped>\n",
       "    .dataframe tbody tr th:only-of-type {\n",
       "        vertical-align: middle;\n",
       "    }\n",
       "\n",
       "    .dataframe tbody tr th {\n",
       "        vertical-align: top;\n",
       "    }\n",
       "\n",
       "    .dataframe thead th {\n",
       "        text-align: right;\n",
       "    }\n",
       "</style>\n",
       "<table border=\"1\" class=\"dataframe\">\n",
       "  <thead>\n",
       "    <tr style=\"text-align: right;\">\n",
       "      <th></th>\n",
       "      <th>country_code</th>\n",
       "      <th>country_name</th>\n",
       "      <th>year</th>\n",
       "      <th>value</th>\n",
       "      <th>z-score</th>\n",
       "    </tr>\n",
       "  </thead>\n",
       "  <tbody>\n",
       "    <tr>\n",
       "      <th>0</th>\n",
       "      <td>ABW</td>\n",
       "      <td>Aruba</td>\n",
       "      <td>1960</td>\n",
       "      <td>11092.675</td>\n",
       "      <td>0.769185</td>\n",
       "    </tr>\n",
       "    <tr>\n",
       "      <th>1</th>\n",
       "      <td>ABW</td>\n",
       "      <td>Aruba</td>\n",
       "      <td>1961</td>\n",
       "      <td>11576.719</td>\n",
       "      <td>0.850040</td>\n",
       "    </tr>\n",
       "    <tr>\n",
       "      <th>2</th>\n",
       "      <td>ABW</td>\n",
       "      <td>Aruba</td>\n",
       "      <td>1962</td>\n",
       "      <td>12713.489</td>\n",
       "      <td>1.039926</td>\n",
       "    </tr>\n",
       "    <tr>\n",
       "      <th>3</th>\n",
       "      <td>ABW</td>\n",
       "      <td>Aruba</td>\n",
       "      <td>1963</td>\n",
       "      <td>12178.107</td>\n",
       "      <td>0.950496</td>\n",
       "    </tr>\n",
       "    <tr>\n",
       "      <th>4</th>\n",
       "      <td>ABW</td>\n",
       "      <td>Aruba</td>\n",
       "      <td>1964</td>\n",
       "      <td>11840.743</td>\n",
       "      <td>0.894143</td>\n",
       "    </tr>\n",
       "  </tbody>\n",
       "</table>\n",
       "</div>"
      ],
      "text/plain": [
       "  country_code country_name  year      value   z-score\n",
       "0          ABW        Aruba  1960  11092.675  0.769185\n",
       "1          ABW        Aruba  1961  11576.719  0.850040\n",
       "2          ABW        Aruba  1962  12713.489  1.039926\n",
       "3          ABW        Aruba  1963  12178.107  0.950496\n",
       "4          ABW        Aruba  1964  11840.743  0.894143"
      ]
     },
     "execution_count": 13,
     "metadata": {},
     "output_type": "execute_result"
    }
   ],
   "source": [
    "new_co2_data = pd.read_csv('new_co2.csv')\n",
    "new_co2_dataframe = pd.DataFrame(new_co2_data)\n",
    "new_co2_dataframe.head()"
   ]
  },
  {
   "cell_type": "code",
   "execution_count": 14,
   "metadata": {},
   "outputs": [
    {
     "data": {
      "image/png": "[encoded data removed]",
      "text/plain": [
       "<Figure size 640x480 with 1 Axes>"
      ]
     },
     "metadata": {},
     "output_type": "display_data"
    }
   ],
   "source": [
    "co2_china = new_co2_dataframe[(new_co2_dataframe['country_name'] == 'China') & (new_co2_dataframe['year'].between(1960, 2023))]\n",
    "methane_china = new_methane_dataframe[(new_methane_dataframe['Country'] == 'China') & (new_methane_dataframe['Year'].between(1960, 2023))]\n",
    "temperature_china = new_temperature_dataframe[(new_temperature_dataframe['Area'] == 'China') & (new_temperature_dataframe['Year'].between(1960, 2023)) & (new_temperature_dataframe['Months'] == 'Meteorological year')]\n",
    "\n",
    "plt.plot(co2_china['year'], co2_china['z-score'], label='CO2', color='blue')\n",
    "plt.plot(methane_china['Year'], methane_china['z-score'], label='Methane', color='green')\n",
    "plt.plot(temperature_china['Year'], temperature_china['Temperature'], label='Temperature', color='red')\n",
    "\n",
    "plt.xlabel('Year')\n",
    "plt.ylabel('Z-score')\n",
    "plt.title('Z-scores of CO2 and methane emissions and temperature change in China')\n",
    "plt.legend()\n",
    "plt.show()\n"
   ]
  },
  {
   "cell_type": "code",
   "execution_count": 15,
   "metadata": {},
   "outputs": [
    {
     "data": {
      "image/png": "[encoded data removed]",
      "text/plain": [
       "<Figure size 640x480 with 1 Axes>"
      ]
     },
     "metadata": {},
     "output_type": "display_data"
    }
   ],
   "source": [
    "co2_afghanistan = new_co2_dataframe[(new_co2_dataframe['country_name'] == 'Afghanistan') & (new_co2_dataframe['year'].between(1960, 2023))]\n",
    "methane_afghanistan = new_methane_dataframe[(new_methane_dataframe['Country'] == 'Afghanistan') & (new_methane_dataframe['Year'].between(1960, 2023))]\n",
    "temperature_afghanistan = new_temperature_dataframe[(new_temperature_dataframe['Area'] == 'Afghanistan') & (new_temperature_dataframe['Year'].between(1960, 2023)) & (new_temperature_dataframe['Months'] == 'Meteorological year')]\n",
    "\n",
    "plt.plot(co2_afghanistan['year'], co2_afghanistan['z-score'], label='CO2', color='blue')\n",
    "plt.plot(methane_afghanistan['Year'], methane_afghanistan['z-score'], label='Methane', color='green')\n",
    "plt.plot(temperature_afghanistan['Year'], temperature_afghanistan['Temperature'], label='Temperature', color='red')\n",
    "\n",
    "plt.xlabel('Year')\n",
    "plt.ylabel('Z-score')\n",
    "plt.title('Z-scores of CO2 and methane emissions and temperature change in Afghanistan')\n",
    "plt.legend()\n",
    "plt.show()\n"
   ]
  },
  {
   "cell_type": "code",
   "execution_count": 16,
   "metadata": {},
   "outputs": [
    {
     "data": {
      "application/vnd.plotly.v1+json": {
       "config": {
        "plotlyServerURL": "https://plot.ly"
       },
       "data": [
        {
         "hovertemplate": "<b>CO2: %{x}</b><br><b>Methane: %{y}</b><br><b>Temperature Z-Score: %{marker.size}</b><br>",
         "marker": {
          "cmax": 1.579,
          "cmin": -0.411,
          "color": [
           0.264,
           -0.138,
           0.291,
           -0.021,
           0.081,
           0.185,
           -0.278,
           -0.411,
           -0.216,
           -0.309,
           0.035,
           0.013,
           0.411,
           -0.01,
           0.276,
           -0.395,
           -0.058,
           0.237,
           0.293,
           0.247,
           0.217,
           0.376,
           0.127,
           -0.144,
           -0.121,
           -0.038,
           0.434,
           0.399,
           0.426,
           0.847,
           0.514,
           0.122,
           0.273,
           0.725,
           0.567,
           0.2,
           0.728,
           1.269,
           1.228,
           0.573,
           1.037,
           1.132,
           0.823,
           1.111,
           1.049,
           1.228,
           1.531,
           1.088,
           1.333,
           0.961,
           0.788,
           0.626,
           1.082,
           1.069,
           1.286,
           1.321,
           1.579,
           1.389,
           1.423
          ],
          "colorscale": [
           [
            0,
            "#440154"
           ],
           [
            0.1111111111111111,
            "#482878"
           ],
           [
            0.2222222222222222,
            "#3e4989"
           ],
           [
            0.3333333333333333,
            "#31688e"
           ],
           [
            0.4444444444444444,
            "#26828e"
           ],
           [
            0.5555555555555556,
            "#1f9e89"
           ],
           [
            0.6666666666666666,
            "#35b779"
           ],
           [
            0.7777777777777778,
            "#6ece58"
           ],
           [
            0.8888888888888888,
            "#b5de2b"
           ],
           [
            1,
            "#fde725"
           ]
          ],
          "showscale": true,
          "size": [
           2.64,
           1.3800000000000001,
           2.9099999999999997,
           0.21000000000000002,
           0.81,
           1.85,
           2.7800000000000002,
           4.109999999999999,
           2.16,
           3.09,
           0.35000000000000003,
           0.13,
           4.109999999999999,
           0.1,
           2.7600000000000002,
           3.95,
           0.5800000000000001,
           2.37,
           2.9299999999999997,
           2.4699999999999998,
           2.17,
           3.76,
           1.27,
           1.44,
           1.21,
           0.38,
           4.34,
           3.99,
           4.26,
           8.469999999999999,
           5.140000000000001,
           1.22,
           2.7300000000000004,
           7.25,
           5.67,
           2,
           7.279999999999999,
           12.69,
           12.28,
           5.7299999999999995,
           10.37,
           11.319999999999999,
           8.23,
           11.11,
           10.489999999999998,
           12.28,
           15.309999999999999,
           10.88,
           13.33,
           9.61,
           7.880000000000001,
           6.26,
           10.82,
           10.69,
           12.86,
           13.209999999999999,
           15.79,
           13.89,
           14.23
          ],
          "sizemode": "diameter",
          "sizeref": 0.1
         },
         "mode": "markers",
         "text": [
          -0.852486966412867,
          -0.9216296465459084,
          -0.9554081676969256,
          -0.9565158965033425,
          -0.9564471485694106,
          -0.9446391364978094,
          -0.930482606296088,
          -0.9575626392393356,
          -0.9467692136120498,
          -0.9140185849570768,
          -0.8552413191207136,
          -0.8234864266701067,
          -0.8068727122491471,
          -0.7956945199593723,
          -0.7898065920694107,
          -0.7421531854782633,
          -0.7268567701784477,
          -0.6923497426952826,
          -0.646430558179446,
          -0.6365452705826458,
          -0.6449114506070829,
          -0.6496561668860181,
          -0.610721550690119,
          -0.5844842343563577,
          -0.5397681386843267,
          -0.4939132667518456,
          -0.4629445401908778,
          -0.4203873514118328,
          -0.372068642234249,
          -0.3602639566755802,
          -0.4313785211634289,
          -0.3924255718021298,
          -0.3573491696447731,
          -0.2886387311773924,
          -0.2516694128346474,
          -0.1546196604863402,
          -0.1600958125817689,
          -0.1408642679506664,
          -0.1099698196022429,
          -0.134952684656043,
          -0.0766321184138931,
          -0.0214321424326391,
          0.0635313880279817,
          0.2467300231354339,
          0.4610920973329345,
          0.6727026063760184,
          0.8580149679671919,
          1.0260520892835086,
          1.0884699185333158,
          1.2455486171322674,
          1.474104668822508,
          1.718318035752078,
          1.7967320320350213,
          1.930596946568828,
          1.9372794878270867,
          1.8932615324527584,
          1.897362008277424,
          1.964294317896487,
          2.087339893978622,
          2.149113683348435
         ],
         "type": "scatter",
         "x": [
          -0.852486966412867,
          -0.9216296465459084,
          -0.9554081676969256,
          -0.9565158965033425,
          -0.9564471485694106,
          -0.9446391364978094,
          -0.930482606296088,
          -0.9575626392393356,
          -0.9467692136120498,
          -0.9140185849570768,
          -0.8552413191207136,
          -0.8234864266701067,
          -0.8068727122491471,
          -0.7956945199593723,
          -0.7898065920694107,
          -0.7421531854782633,
          -0.7268567701784477,
          -0.6923497426952826,
          -0.646430558179446,
          -0.6365452705826458,
          -0.6449114506070829,
          -0.6496561668860181,
          -0.610721550690119,
          -0.5844842343563577,
          -0.5397681386843267,
          -0.4939132667518456,
          -0.4629445401908778,
          -0.4203873514118328,
          -0.372068642234249,
          -0.3602639566755802,
          -0.4313785211634289,
          -0.3924255718021298,
          -0.3573491696447731,
          -0.2886387311773924,
          -0.2516694128346474,
          -0.1546196604863402,
          -0.1600958125817689,
          -0.1408642679506664,
          -0.1099698196022429,
          -0.134952684656043,
          -0.0766321184138931,
          -0.0214321424326391,
          0.0635313880279817,
          0.2467300231354339,
          0.4610920973329345,
          0.6727026063760184,
          0.8580149679671919,
          1.0260520892835086,
          1.0884699185333158,
          1.2455486171322674,
          1.474104668822508,
          1.718318035752078,
          1.7967320320350213,
          1.930596946568828,
          1.9372794878270867,
          1.8932615324527584,
          1.897362008277424,
          1.964294317896487,
          2.087339893978622,
          2.149113683348435
         ],
         "y": [
          -1.1465699056772678,
          -1.0765730787449632,
          -1.0293403416398186,
          -0.9968987643499054,
          -0.9084267340796164,
          -0.7720621380135396,
          -0.6323434127700317,
          -0.8090125446895088,
          -0.6874940941628842,
          -0.6222810252377364,
          -0.6007266213434214,
          -0.630638855319206,
          -0.6541727452854481,
          -0.6760570635250847,
          -0.6002317498254394,
          -0.5564081276219468,
          -0.305178353659889,
          -0.0951328871387557,
          0.1909028502546838,
          0.440153138144814,
          0.6871490113419165,
          0.9200685391386508,
          1.1670094266115325,
          1.31503099621229,
          1.4700357527890116,
          1.6421960553224326,
          1.6676544456363822,
          1.6510487569218844,
          1.648299470710875
         ]
        }
       ],
       "layout": {
        "hovermode": "closest",
        "template": {
         "data": {
          "bar": [
           {
            "error_x": {
             "color": "#2a3f5f"
            },
            "error_y": {
             "color": "#2a3f5f"
            },
            "marker": {
             "line": {
              "color": "#E5ECF6",
              "width": 0.5
             },
             "pattern": {
              "fillmode": "overlay",
              "size": 10,
              "solidity": 0.2
             }
            },
            "type": "bar"
           }
          ],
          "barpolar": [
           {
            "marker": {
             "line": {
              "color": "#E5ECF6",
              "width": 0.5
             },
             "pattern": {
              "fillmode": "overlay",
              "size": 10,
              "solidity": 0.2
             }
            },
            "type": "barpolar"
           }
          ],
          "carpet": [
           {
            "aaxis": {
             "endlinecolor": "#2a3f5f",
             "gridcolor": "white",
             "linecolor": "white",
             "minorgridcolor": "white",
             "startlinecolor": "#2a3f5f"
            },
            "baxis": {
             "endlinecolor": "#2a3f5f",
             "gridcolor": "white",
             "linecolor": "white",
             "minorgridcolor": "white",
             "startlinecolor": "#2a3f5f"
            },
            "type": "carpet"
           }
          ],
          "choropleth": [
           {
            "colorbar": {
             "outlinewidth": 0,
             "ticks": ""
            },
            "type": "choropleth"
           }
          ],
          "contour": [
           {
            "colorbar": {
             "outlinewidth": 0,
             "ticks": ""
            },
            "colorscale": [
             [
              0,
              "#0d0887"
             ],
             [
              0.1111111111111111,
              "#46039f"
             ],
             [
              0.2222222222222222,
              "#7201a8"
             ],
             [
              0.3333333333333333,
              "#9c179e"
             ],
             [
              0.4444444444444444,
              "#bd3786"
             ],
             [
              0.5555555555555556,
              "#d8576b"
             ],
             [
              0.6666666666666666,
              "#ed7953"
             ],
             [
              0.7777777777777778,
              "#fb9f3a"
             ],
             [
              0.8888888888888888,
              "#fdca26"
             ],
             [
              1,
              "#f0f921"
             ]
            ],
            "type": "contour"
           }
          ],
          "contourcarpet": [
           {
            "colorbar": {
             "outlinewidth": 0,
             "ticks": ""
            },
            "type": "contourcarpet"
           }
          ],
          "heatmap": [
           {
            "colorbar": {
             "outlinewidth": 0,
             "ticks": ""
            },
            "colorscale": [
             [
              0,
              "#0d0887"
             ],
             [
              0.1111111111111111,
              "#46039f"
             ],
             [
              0.2222222222222222,
              "#7201a8"
             ],
             [
              0.3333333333333333,
              "#9c179e"
             ],
             [
              0.4444444444444444,
              "#bd3786"
             ],
             [
              0.5555555555555556,
              "#d8576b"
             ],
             [
              0.6666666666666666,
              "#ed7953"
             ],
             [
              0.7777777777777778,
              "#fb9f3a"
             ],
             [
              0.8888888888888888,
              "#fdca26"
             ],
             [
              1,
              "#f0f921"
             ]
            ],
            "type": "heatmap"
           }
          ],
          "heatmapgl": [
           {
            "colorbar": {
             "outlinewidth": 0,
             "ticks": ""
            },
            "colorscale": [
             [
              0,
              "#0d0887"
             ],
             [
              0.1111111111111111,
              "#46039f"
             ],
             [
              0.2222222222222222,
              "#7201a8"
             ],
             [
              0.3333333333333333,
              "#9c179e"
             ],
             [
              0.4444444444444444,
              "#bd3786"
             ],
             [
              0.5555555555555556,
              "#d8576b"
             ],
             [
              0.6666666666666666,
              "#ed7953"
             ],
             [
              0.7777777777777778,
              "#fb9f3a"
             ],
             [
              0.8888888888888888,
              "#fdca26"
             ],
             [
              1,
              "#f0f921"
             ]
            ],
            "type": "heatmapgl"
           }
          ],
          "histogram": [
           {
            "marker": {
             "pattern": {
              "fillmode": "overlay",
              "size": 10,
              "solidity": 0.2
             }
            },
            "type": "histogram"
           }
          ],
          "histogram2d": [
           {
            "colorbar": {
             "outlinewidth": 0,
             "ticks": ""
            },
            "colorscale": [
             [
              0,
              "#0d0887"
             ],
             [
              0.1111111111111111,
              "#46039f"
             ],
             [
              0.2222222222222222,
              "#7201a8"
             ],
             [
              0.3333333333333333,
              "#9c179e"
             ],
             [
              0.4444444444444444,
              "#bd3786"
             ],
             [
              0.5555555555555556,
              "#d8576b"
             ],
             [
              0.6666666666666666,
              "#ed7953"
             ],
             [
              0.7777777777777778,
              "#fb9f3a"
             ],
             [
              0.8888888888888888,
              "#fdca26"
             ],
             [
              1,
              "#f0f921"
             ]
            ],
            "type": "histogram2d"
           }
          ],
          "histogram2dcontour": [
           {
            "colorbar": {
             "outlinewidth": 0,
             "ticks": ""
            },
            "colorscale": [
             [
              0,
              "#0d0887"
             ],
             [
              0.1111111111111111,
              "#46039f"
             ],
             [
              0.2222222222222222,
              "#7201a8"
             ],
             [
              0.3333333333333333,
              "#9c179e"
             ],
             [
              0.4444444444444444,
              "#bd3786"
             ],
             [
              0.5555555555555556,
              "#d8576b"
             ],
             [
              0.6666666666666666,
              "#ed7953"
             ],
             [
              0.7777777777777778,
              "#fb9f3a"
             ],
             [
              0.8888888888888888,
              "#fdca26"
             ],
             [
              1,
              "#f0f921"
             ]
            ],
            "type": "histogram2dcontour"
           }
          ],
          "mesh3d": [
           {
            "colorbar": {
             "outlinewidth": 0,
             "ticks": ""
            },
            "type": "mesh3d"
           }
          ],
          "parcoords": [
           {
            "line": {
             "colorbar": {
              "outlinewidth": 0,
              "ticks": ""
             }
            },
            "type": "parcoords"
           }
          ],
          "pie": [
           {
            "automargin": true,
            "type": "pie"
           }
          ],
          "scatter": [
           {
            "fillpattern": {
             "fillmode": "overlay",
             "size": 10,
             "solidity": 0.2
            },
            "type": "scatter"
           }
          ],
          "scatter3d": [
           {
            "line": {
             "colorbar": {
              "outlinewidth": 0,
              "ticks": ""
             }
            },
            "marker": {
             "colorbar": {
              "outlinewidth": 0,
              "ticks": ""
             }
            },
            "type": "scatter3d"
           }
          ],
          "scattercarpet": [
           {
            "marker": {
             "colorbar": {
              "outlinewidth": 0,
              "ticks": ""
             }
            },
            "type": "scattercarpet"
           }
          ],
          "scattergeo": [
           {
            "marker": {
             "colorbar": {
              "outlinewidth": 0,
              "ticks": ""
             }
            },
            "type": "scattergeo"
           }
          ],
          "scattergl": [
           {
            "marker": {
             "colorbar": {
              "outlinewidth": 0,
              "ticks": ""
             }
            },
            "type": "scattergl"
           }
          ],
          "scattermapbox": [
           {
            "marker": {
             "colorbar": {
              "outlinewidth": 0,
              "ticks": ""
             }
            },
            "type": "scattermapbox"
           }
          ],
          "scatterpolar": [
           {
            "marker": {
             "colorbar": {
              "outlinewidth": 0,
              "ticks": ""
             }
            },
            "type": "scatterpolar"
           }
          ],
          "scatterpolargl": [
           {
            "marker": {
             "colorbar": {
              "outlinewidth": 0,
              "ticks": ""
             }
            },
            "type": "scatterpolargl"
           }
          ],
          "scatterternary": [
           {
            "marker": {
             "colorbar": {
              "outlinewidth": 0,
              "ticks": ""
             }
            },
            "type": "scatterternary"
           }
          ],
          "surface": [
           {
            "colorbar": {
             "outlinewidth": 0,
             "ticks": ""
            },
            "colorscale": [
             [
              0,
              "#0d0887"
             ],
             [
              0.1111111111111111,
              "#46039f"
             ],
             [
              0.2222222222222222,
              "#7201a8"
             ],
             [
              0.3333333333333333,
              "#9c179e"
             ],
             [
              0.4444444444444444,
              "#bd3786"
             ],
             [
              0.5555555555555556,
              "#d8576b"
             ],
             [
              0.6666666666666666,
              "#ed7953"
             ],
             [
              0.7777777777777778,
              "#fb9f3a"
             ],
             [
              0.8888888888888888,
              "#fdca26"
             ],
             [
              1,
              "#f0f921"
             ]
            ],
            "type": "surface"
           }
          ],
          "table": [
           {
            "cells": {
             "fill": {
              "color": "#EBF0F8"
             },
             "line": {
              "color": "white"
             }
            },
            "header": {
             "fill": {
              "color": "#C8D4E3"
             },
             "line": {
              "color": "white"
             }
            },
            "type": "table"
           }
          ]
         },
         "layout": {
          "annotationdefaults": {
           "arrowcolor": "#2a3f5f",
           "arrowhead": 0,
           "arrowwidth": 1
          },
          "autotypenumbers": "strict",
          "coloraxis": {
           "colorbar": {
            "outlinewidth": 0,
            "ticks": ""
           }
          },
          "colorscale": {
           "diverging": [
            [
             0,
             "#8e0152"
            ],
            [
             0.1,
             "#c51b7d"
            ],
            [
             0.2,
             "#de77ae"
            ],
            [
             0.3,
             "#f1b6da"
            ],
            [
             0.4,
             "#fde0ef"
            ],
            [
             0.5,
             "#f7f7f7"
            ],
            [
             0.6,
             "#e6f5d0"
            ],
            [
             0.7,
             "#b8e186"
            ],
            [
             0.8,
             "#7fbc41"
            ],
            [
             0.9,
             "#4d9221"
            ],
            [
             1,
             "#276419"
            ]
           ],
           "sequential": [
            [
             0,
             "#0d0887"
            ],
            [
             0.1111111111111111,
             "#46039f"
            ],
            [
             0.2222222222222222,
             "#7201a8"
            ],
            [
             0.3333333333333333,
             "#9c179e"
            ],
            [
             0.4444444444444444,
             "#bd3786"
            ],
            [
             0.5555555555555556,
             "#d8576b"
            ],
            [
             0.6666666666666666,
             "#ed7953"
            ],
            [
             0.7777777777777778,
             "#fb9f3a"
            ],
            [
             0.8888888888888888,
             "#fdca26"
            ],
            [
             1,
             "#f0f921"
            ]
           ],
           "sequentialminus": [
            [
             0,
             "#0d0887"
            ],
            [
             0.1111111111111111,
             "#46039f"
            ],
            [
             0.2222222222222222,
             "#7201a8"
            ],
            [
             0.3333333333333333,
             "#9c179e"
            ],
            [
             0.4444444444444444,
             "#bd3786"
            ],
            [
             0.5555555555555556,
             "#d8576b"
            ],
            [
             0.6666666666666666,
             "#ed7953"
            ],
            [
             0.7777777777777778,
             "#fb9f3a"
            ],
            [
             0.8888888888888888,
             "#fdca26"
            ],
            [
             1,
             "#f0f921"
            ]
           ]
          },
          "colorway": [
           "#636efa",
           "#EF553B",
           "#00cc96",
           "#ab63fa",
           "#FFA15A",
           "#19d3f3",
           "#FF6692",
           "#B6E880",
           "#FF97FF",
           "#FECB52"
          ],
          "font": {
           "color": "#2a3f5f"
          },
          "geo": {
           "bgcolor": "white",
           "lakecolor": "white",
           "landcolor": "#E5ECF6",
           "showlakes": true,
           "showland": true,
           "subunitcolor": "white"
          },
          "hoverlabel": {
           "align": "left"
          },
          "hovermode": "closest",
          "mapbox": {
           "style": "light"
          },
          "paper_bgcolor": "white",
          "plot_bgcolor": "#E5ECF6",
          "polar": {
           "angularaxis": {
            "gridcolor": "white",
            "linecolor": "white",
            "ticks": ""
           },
           "bgcolor": "#E5ECF6",
           "radialaxis": {
            "gridcolor": "white",
            "linecolor": "white",
            "ticks": ""
           }
          },
          "scene": {
           "xaxis": {
            "backgroundcolor": "#E5ECF6",
            "gridcolor": "white",
            "gridwidth": 2,
            "linecolor": "white",
            "showbackground": true,
            "ticks": "",
            "zerolinecolor": "white"
           },
           "yaxis": {
            "backgroundcolor": "#E5ECF6",
            "gridcolor": "white",
            "gridwidth": 2,
            "linecolor": "white",
            "showbackground": true,
            "ticks": "",
            "zerolinecolor": "white"
           },
           "zaxis": {
            "backgroundcolor": "#E5ECF6",
            "gridcolor": "white",
            "gridwidth": 2,
            "linecolor": "white",
            "showbackground": true,
            "ticks": "",
            "zerolinecolor": "white"
           }
          },
          "shapedefaults": {
           "line": {
            "color": "#2a3f5f"
           }
          },
          "ternary": {
           "aaxis": {
            "gridcolor": "white",
            "linecolor": "white",
            "ticks": ""
           },
           "baxis": {
            "gridcolor": "white",
            "linecolor": "white",
            "ticks": ""
           },
           "bgcolor": "#E5ECF6",
           "caxis": {
            "gridcolor": "white",
            "linecolor": "white",
            "ticks": ""
           }
          },
          "title": {
           "x": 0.05
          },
          "xaxis": {
           "automargin": true,
           "gridcolor": "white",
           "linecolor": "white",
           "ticks": "",
           "title": {
            "standoff": 15
           },
           "zerolinecolor": "white",
           "zerolinewidth": 2
          },
          "yaxis": {
           "automargin": true,
           "gridcolor": "white",
           "linecolor": "white",
           "ticks": "",
           "title": {
            "standoff": 15
           },
           "zerolinecolor": "white",
           "zerolinewidth": 2
          }
         }
        },
        "title": {
         "text": "CO2, Methane, and Temperature Z-Scores in China"
        },
        "xaxis": {
         "title": {
          "text": "CO2"
         }
        },
        "yaxis": {
         "title": {
          "text": "Methane"
         }
        }
       }
      }
     },
     "metadata": {},
     "output_type": "display_data"
    }
   ],
   "source": [
    "\n",
    "trace = go.Scatter(\n",
    "    x=co2_china['z-score'],\n",
    "    y=methane_china['z-score'],\n",
    "    mode='markers',\n",
    "    marker=dict(\n",
    "        size=abs(temperature_china['Temperature']) * 10,\n",
    "        sizemode='diameter',\n",
    "        sizeref=0.1,\n",
    "        color=temperature_china['Temperature'],\n",
    "        colorscale='Viridis',\n",
    "        showscale=True,\n",
    "        cmin=temperature_china['Temperature'].min(),\n",
    "        cmax=temperature_china['Temperature'].max()\n",
    "    ),\n",
    "    text=co2_china['z-score'],\n",
    "    hovertemplate=\n",
    "    '<b>CO2: %{x}</b><br>'+\n",
    "    '<b>Methane: %{y}</b><br>'+\n",
    "    '<b>Temperature Z-Score: %{marker.size}</b><br>',\n",
    ")\n",
    "\n",
    "layout = go.Layout(\n",
    "    title='CO2, Methane, and Temperature Z-Scores in China',\n",
    "    xaxis=dict(title='CO2'),\n",
    "    yaxis=dict(title='Methane'),\n",
    "    hovermode='closest',\n",
    ")\n",
    "\n",
    "fig = go.Figure(data=[trace], layout=layout)\n",
    "\n",
    "fig.show()\n",
    "\n"
   ]
  },
  {
   "cell_type": "code",
   "execution_count": 17,
   "metadata": {},
   "outputs": [
    {
     "data": {
      "application/vnd.plotly.v1+json": {
       "config": {
        "plotlyServerURL": "https://plot.ly"
       },
       "data": [
        {
         "hovertemplate": "<b>CO2: %{x}</b><br><b>Methane: %{y}</b><br><b>Temperature Z-Score: %{marker.size}</b><br>",
         "marker": {
          "cmax": 1.647,
          "cmin": -1.131,
          "color": [
           -0.08,
           -0.12,
           0.882,
           -0.727,
           -0.2,
           0.176,
           -0.361,
           -0.373,
           -0.491,
           0.858,
           0.617,
           -1.131,
           0.22,
           -0.487,
           -0.468,
           -0.292,
           0.529,
           0.137,
           0.334,
           0.583,
           0.469,
           -0.35,
           0.134,
           0.123,
           0.237,
           -0.105,
           0.349,
           0.872,
           -0.167,
           0.766,
           -0.178,
           -0.32,
           0.172,
           0.423,
           0.363,
           -0.106,
           0.48,
           0.669,
           1.178,
           0.996,
           1.315,
           1.317,
           0.598,
           1.317,
           0.386,
           1.647,
           0.616,
           0.671,
           0.841,
           1.564,
           1.342,
           0.102,
           1.237,
           0.474,
           1.096,
           1.473,
           1.483,
           1.524,
           0.893
          ],
          "colorscale": [
           [
            0,
            "#440154"
           ],
           [
            0.1111111111111111,
            "#482878"
           ],
           [
            0.2222222222222222,
            "#3e4989"
           ],
           [
            0.3333333333333333,
            "#31688e"
           ],
           [
            0.4444444444444444,
            "#26828e"
           ],
           [
            0.5555555555555556,
            "#1f9e89"
           ],
           [
            0.6666666666666666,
            "#35b779"
           ],
           [
            0.7777777777777778,
            "#6ece58"
           ],
           [
            0.8888888888888888,
            "#b5de2b"
           ],
           [
            1,
            "#fde725"
           ]
          ],
          "showscale": true,
          "size": [
           0.56,
           0.84,
           6.174,
           5.0889999999999995,
           1.4000000000000001,
           1.232,
           2.527,
           2.6109999999999998,
           3.437,
           6.006,
           4.319,
           7.917,
           1.54,
           3.409,
           3.2760000000000002,
           2.044,
           3.7030000000000003,
           0.9590000000000001,
           2.338,
           4.0809999999999995,
           3.283,
           2.4499999999999997,
           0.9380000000000001,
           0.861,
           1.6589999999999998,
           0.735,
           2.4429999999999996,
           6.104,
           1.169,
           5.362,
           1.246,
           2.24,
           1.204,
           2.961,
           2.541,
           0.742,
           3.36,
           4.683,
           8.245999999999999,
           6.9719999999999995,
           9.205,
           9.219,
           4.186,
           9.219,
           2.702,
           11.529,
           4.312,
           4.697,
           5.887,
           10.948,
           9.394,
           0.714,
           8.659,
           3.3179999999999996,
           7.672000000000001,
           10.311,
           10.381,
           10.668,
           6.251
          ],
          "sizemode": "diameter",
          "sizeref": 0.1
         },
         "mode": "markers",
         "text": [
          -1.0556799669404862,
          -1.0168060212784855,
          -0.9168444467190549,
          -0.9075887453709592,
          -0.8409476956646722,
          -0.7557952432621942,
          -0.7132190170609551,
          -0.6169597230407626,
          -0.646577967354668,
          -0.7891157681153378,
          -0.4207388544611394,
          -0.3078192980143751,
          -0.4910821847066647,
          -0.4373991168877112,
          -0.2967124563966606,
          -0.1911974610283725,
          -0.261540791273898,
          -0.0579153616157983,
          -0.1745371986018009,
          -0.133812112670181,
          -0.3763114879902813,
          -0.263391931543517,
          -0.2041554429157063,
          0.0087256880904888,
          0.164221470738492,
          0.5066824206180232,
          0.3215683936561145,
          0.3123126923080191,
          0.1827328734346829,
          0.1364543666942057,
          -0.0634097195908554,
          -0.1391313013860184,
          -0.5631721594389318,
          -0.5884126867039862,
          -0.6136532139690405,
          -0.6388937412340949,
          -0.6691823739521601,
          -0.7095672175762471,
          -0.7398558502943123,
          -0.8559622757135624,
          -0.8812028029786168,
          -0.8963471193376494,
          -0.744903970190069,
          -0.6489899376973709,
          -0.744903970190069,
          -0.4824024962620025,
          -0.3763922624917764,
          -0.3713441618530175,
          0.532266694978936,
          1.198616701432846,
          2.324344227082765,
          3.243099506187218,
          2.814010350111352,
          1.7589562334041031,
          1.198616701432846,
          1.7387638308490576,
          1.410637168973288,
          1.1481356950452215,
          1.7993412792266312,
          1.804389259509177
         ],
         "type": "scatter",
         "x": [
          -1.0556799669404862,
          -1.0168060212784855,
          -0.9168444467190549,
          -0.9075887453709592,
          -0.8409476956646722,
          -0.7557952432621942,
          -0.7132190170609551,
          -0.6169597230407626,
          -0.646577967354668,
          -0.7891157681153378,
          -0.4207388544611394,
          -0.3078192980143751,
          -0.4910821847066647,
          -0.4373991168877112,
          -0.2967124563966606,
          -0.1911974610283725,
          -0.261540791273898,
          -0.0579153616157983,
          -0.1745371986018009,
          -0.133812112670181,
          -0.3763114879902813,
          -0.263391931543517,
          -0.2041554429157063,
          0.0087256880904888,
          0.164221470738492,
          0.5066824206180232,
          0.3215683936561145,
          0.3123126923080191,
          0.1827328734346829,
          0.1364543666942057,
          -0.0634097195908554,
          -0.1391313013860184,
          -0.5631721594389318,
          -0.5884126867039862,
          -0.6136532139690405,
          -0.6388937412340949,
          -0.6691823739521601,
          -0.7095672175762471,
          -0.7398558502943123,
          -0.8559622757135624,
          -0.8812028029786168,
          -0.8963471193376494,
          -0.744903970190069,
          -0.6489899376973709,
          -0.744903970190069,
          -0.4824024962620025,
          -0.3763922624917764,
          -0.3713441618530175,
          0.532266694978936,
          1.198616701432846,
          2.324344227082765,
          3.243099506187218,
          2.814010350111352,
          1.7589562334041031,
          1.198616701432846,
          1.7387638308490576,
          1.410637168973288,
          1.1481356950452215,
          1.7993412792266312,
          1.804389259509177
         ],
         "y": [
          -0.7225642074613481,
          -0.7187106025591158,
          -0.7217934864809018,
          -0.7256470913831341,
          -0.7229495679515714,
          -0.7160130791275531,
          -0.6855696003999169,
          -0.6597504475549596,
          -0.6404824230437974,
          -0.6108096652966076,
          -0.6601358080451828,
          -0.7075351483426418,
          -0.6370141786317881,
          -0.6258387244153141,
          -0.6266094453957605,
          -0.6185168751010724,
          -0.4944307972491879,
          -0.3707300798875266,
          -0.2138883603666664,
          -0.0882608405538891,
          0.0882342639683565,
          0.4531706482097681,
          0.811555904117385,
          1.171867962476118,
          1.5433554750513243,
          1.883243427428226,
          1.943359663903052,
          1.9996222954756453,
          2.0728407886180618
         ]
        }
       ],
       "layout": {
        "hovermode": "closest",
        "template": {
         "data": {
          "bar": [
           {
            "error_x": {
             "color": "#2a3f5f"
            },
            "error_y": {
             "color": "#2a3f5f"
            },
            "marker": {
             "line": {
              "color": "#E5ECF6",
              "width": 0.5
             },
             "pattern": {
              "fillmode": "overlay",
              "size": 10,
              "solidity": 0.2
             }
            },
            "type": "bar"
           }
          ],
          "barpolar": [
           {
            "marker": {
             "line": {
              "color": "#E5ECF6",
              "width": 0.5
             },
             "pattern": {
              "fillmode": "overlay",
              "size": 10,
              "solidity": 0.2
             }
            },
            "type": "barpolar"
           }
          ],
          "carpet": [
           {
            "aaxis": {
             "endlinecolor": "#2a3f5f",
             "gridcolor": "white",
             "linecolor": "white",
             "minorgridcolor": "white",
             "startlinecolor": "#2a3f5f"
            },
            "baxis": {
             "endlinecolor": "#2a3f5f",
             "gridcolor": "white",
             "linecolor": "white",
             "minorgridcolor": "white",
             "startlinecolor": "#2a3f5f"
            },
            "type": "carpet"
           }
          ],
          "choropleth": [
           {
            "colorbar": {
             "outlinewidth": 0,
             "ticks": ""
            },
            "type": "choropleth"
           }
          ],
          "contour": [
           {
            "colorbar": {
             "outlinewidth": 0,
             "ticks": ""
            },
            "colorscale": [
             [
              0,
              "#0d0887"
             ],
             [
              0.1111111111111111,
              "#46039f"
             ],
             [
              0.2222222222222222,
              "#7201a8"
             ],
             [
              0.3333333333333333,
              "#9c179e"
             ],
             [
              0.4444444444444444,
              "#bd3786"
             ],
             [
              0.5555555555555556,
              "#d8576b"
             ],
             [
              0.6666666666666666,
              "#ed7953"
             ],
             [
              0.7777777777777778,
              "#fb9f3a"
             ],
             [
              0.8888888888888888,
              "#fdca26"
             ],
             [
              1,
              "#f0f921"
             ]
            ],
            "type": "contour"
           }
          ],
          "contourcarpet": [
           {
            "colorbar": {
             "outlinewidth": 0,
             "ticks": ""
            },
            "type": "contourcarpet"
           }
          ],
          "heatmap": [
           {
            "colorbar": {
             "outlinewidth": 0,
             "ticks": ""
            },
            "colorscale": [
             [
              0,
              "#0d0887"
             ],
             [
              0.1111111111111111,
              "#46039f"
             ],
             [
              0.2222222222222222,
              "#7201a8"
             ],
             [
              0.3333333333333333,
              "#9c179e"
             ],
             [
              0.4444444444444444,
              "#bd3786"
             ],
             [
              0.5555555555555556,
              "#d8576b"
             ],
             [
              0.6666666666666666,
              "#ed7953"
             ],
             [
              0.7777777777777778,
              "#fb9f3a"
             ],
             [
              0.8888888888888888,
              "#fdca26"
             ],
             [
              1,
              "#f0f921"
             ]
            ],
            "type": "heatmap"
           }
          ],
          "heatmapgl": [
           {
            "colorbar": {
             "outlinewidth": 0,
             "ticks": ""
            },
            "colorscale": [
             [
              0,
              "#0d0887"
             ],
             [
              0.1111111111111111,
              "#46039f"
             ],
             [
              0.2222222222222222,
              "#7201a8"
             ],
             [
              0.3333333333333333,
              "#9c179e"
             ],
             [
              0.4444444444444444,
              "#bd3786"
             ],
             [
              0.5555555555555556,
              "#d8576b"
             ],
             [
              0.6666666666666666,
              "#ed7953"
             ],
             [
              0.7777777777777778,
              "#fb9f3a"
             ],
             [
              0.8888888888888888,
              "#fdca26"
             ],
             [
              1,
              "#f0f921"
             ]
            ],
            "type": "heatmapgl"
           }
          ],
          "histogram": [
           {
            "marker": {
             "pattern": {
              "fillmode": "overlay",
              "size": 10,
              "solidity": 0.2
             }
            },
            "type": "histogram"
           }
          ],
          "histogram2d": [
           {
            "colorbar": {
             "outlinewidth": 0,
             "ticks": ""
            },
            "colorscale": [
             [
              0,
              "#0d0887"
             ],
             [
              0.1111111111111111,
              "#46039f"
             ],
             [
              0.2222222222222222,
              "#7201a8"
             ],
             [
              0.3333333333333333,
              "#9c179e"
             ],
             [
              0.4444444444444444,
              "#bd3786"
             ],
             [
              0.5555555555555556,
              "#d8576b"
             ],
             [
              0.6666666666666666,
              "#ed7953"
             ],
             [
              0.7777777777777778,
              "#fb9f3a"
             ],
             [
              0.8888888888888888,
              "#fdca26"
             ],
             [
              1,
              "#f0f921"
             ]
            ],
            "type": "histogram2d"
           }
          ],
          "histogram2dcontour": [
           {
            "colorbar": {
             "outlinewidth": 0,
             "ticks": ""
            },
            "colorscale": [
             [
              0,
              "#0d0887"
             ],
             [
              0.1111111111111111,
              "#46039f"
             ],
             [
              0.2222222222222222,
              "#7201a8"
             ],
             [
              0.3333333333333333,
              "#9c179e"
             ],
             [
              0.4444444444444444,
              "#bd3786"
             ],
             [
              0.5555555555555556,
              "#d8576b"
             ],
             [
              0.6666666666666666,
              "#ed7953"
             ],
             [
              0.7777777777777778,
              "#fb9f3a"
             ],
             [
              0.8888888888888888,
              "#fdca26"
             ],
             [
              1,
              "#f0f921"
             ]
            ],
            "type": "histogram2dcontour"
           }
          ],
          "mesh3d": [
           {
            "colorbar": {
             "outlinewidth": 0,
             "ticks": ""
            },
            "type": "mesh3d"
           }
          ],
          "parcoords": [
           {
            "line": {
             "colorbar": {
              "outlinewidth": 0,
              "ticks": ""
             }
            },
            "type": "parcoords"
           }
          ],
          "pie": [
           {
            "automargin": true,
            "type": "pie"
           }
          ],
          "scatter": [
           {
            "fillpattern": {
             "fillmode": "overlay",
             "size": 10,
             "solidity": 0.2
            },
            "type": "scatter"
           }
          ],
          "scatter3d": [
           {
            "line": {
             "colorbar": {
              "outlinewidth": 0,
              "ticks": ""
             }
            },
            "marker": {
             "colorbar": {
              "outlinewidth": 0,
              "ticks": ""
             }
            },
            "type": "scatter3d"
           }
          ],
          "scattercarpet": [
           {
            "marker": {
             "colorbar": {
              "outlinewidth": 0,
              "ticks": ""
             }
            },
            "type": "scattercarpet"
           }
          ],
          "scattergeo": [
           {
            "marker": {
             "colorbar": {
              "outlinewidth": 0,
              "ticks": ""
             }
            },
            "type": "scattergeo"
           }
          ],
          "scattergl": [
           {
            "marker": {
             "colorbar": {
              "outlinewidth": 0,
              "ticks": ""
             }
            },
            "type": "scattergl"
           }
          ],
          "scattermapbox": [
           {
            "marker": {
             "colorbar": {
              "outlinewidth": 0,
              "ticks": ""
             }
            },
            "type": "scattermapbox"
           }
          ],
          "scatterpolar": [
           {
            "marker": {
             "colorbar": {
              "outlinewidth": 0,
              "ticks": ""
             }
            },
            "type": "scatterpolar"
           }
          ],
          "scatterpolargl": [
           {
            "marker": {
             "colorbar": {
              "outlinewidth": 0,
              "ticks": ""
             }
            },
            "type": "scatterpolargl"
           }
          ],
          "scatterternary": [
           {
            "marker": {
             "colorbar": {
              "outlinewidth": 0,
              "ticks": ""
             }
            },
            "type": "scatterternary"
           }
          ],
          "surface": [
           {
            "colorbar": {
             "outlinewidth": 0,
             "ticks": ""
            },
            "colorscale": [
             [
              0,
              "#0d0887"
             ],
             [
              0.1111111111111111,
              "#46039f"
             ],
             [
              0.2222222222222222,
              "#7201a8"
             ],
             [
              0.3333333333333333,
              "#9c179e"
             ],
             [
              0.4444444444444444,
              "#bd3786"
             ],
             [
              0.5555555555555556,
              "#d8576b"
             ],
             [
              0.6666666666666666,
              "#ed7953"
             ],
             [
              0.7777777777777778,
              "#fb9f3a"
             ],
             [
              0.8888888888888888,
              "#fdca26"
             ],
             [
              1,
              "#f0f921"
             ]
            ],
            "type": "surface"
           }
          ],
          "table": [
           {
            "cells": {
             "fill": {
              "color": "#EBF0F8"
             },
             "line": {
              "color": "white"
             }
            },
            "header": {
             "fill": {
              "color": "#C8D4E3"
             },
             "line": {
              "color": "white"
             }
            },
            "type": "table"
           }
          ]
         },
         "layout": {
          "annotationdefaults": {
           "arrowcolor": "#2a3f5f",
           "arrowhead": 0,
           "arrowwidth": 1
          },
          "autotypenumbers": "strict",
          "coloraxis": {
           "colorbar": {
            "outlinewidth": 0,
            "ticks": ""
           }
          },
          "colorscale": {
           "diverging": [
            [
             0,
             "#8e0152"
            ],
            [
             0.1,
             "#c51b7d"
            ],
            [
             0.2,
             "#de77ae"
            ],
            [
             0.3,
             "#f1b6da"
            ],
            [
             0.4,
             "#fde0ef"
            ],
            [
             0.5,
             "#f7f7f7"
            ],
            [
             0.6,
             "#e6f5d0"
            ],
            [
             0.7,
             "#b8e186"
            ],
            [
             0.8,
             "#7fbc41"
            ],
            [
             0.9,
             "#4d9221"
            ],
            [
             1,
             "#276419"
            ]
           ],
           "sequential": [
            [
             0,
             "#0d0887"
            ],
            [
             0.1111111111111111,
             "#46039f"
            ],
            [
             0.2222222222222222,
             "#7201a8"
            ],
            [
             0.3333333333333333,
             "#9c179e"
            ],
            [
             0.4444444444444444,
             "#bd3786"
            ],
            [
             0.5555555555555556,
             "#d8576b"
            ],
            [
             0.6666666666666666,
             "#ed7953"
            ],
            [
             0.7777777777777778,
             "#fb9f3a"
            ],
            [
             0.8888888888888888,
             "#fdca26"
            ],
            [
             1,
             "#f0f921"
            ]
           ],
           "sequentialminus": [
            [
             0,
             "#0d0887"
            ],
            [
             0.1111111111111111,
             "#46039f"
            ],
            [
             0.2222222222222222,
             "#7201a8"
            ],
            [
             0.3333333333333333,
             "#9c179e"
            ],
            [
             0.4444444444444444,
             "#bd3786"
            ],
            [
             0.5555555555555556,
             "#d8576b"
            ],
            [
             0.6666666666666666,
             "#ed7953"
            ],
            [
             0.7777777777777778,
             "#fb9f3a"
            ],
            [
             0.8888888888888888,
             "#fdca26"
            ],
            [
             1,
             "#f0f921"
            ]
           ]
          },
          "colorway": [
           "#636efa",
           "#EF553B",
           "#00cc96",
           "#ab63fa",
           "#FFA15A",
           "#19d3f3",
           "#FF6692",
           "#B6E880",
           "#FF97FF",
           "#FECB52"
          ],
          "font": {
           "color": "#2a3f5f"
          },
          "geo": {
           "bgcolor": "white",
           "lakecolor": "white",
           "landcolor": "#E5ECF6",
           "showlakes": true,
           "showland": true,
           "subunitcolor": "white"
          },
          "hoverlabel": {
           "align": "left"
          },
          "hovermode": "closest",
          "mapbox": {
           "style": "light"
          },
          "paper_bgcolor": "white",
          "plot_bgcolor": "#E5ECF6",
          "polar": {
           "angularaxis": {
            "gridcolor": "white",
            "linecolor": "white",
            "ticks": ""
           },
           "bgcolor": "#E5ECF6",
           "radialaxis": {
            "gridcolor": "white",
            "linecolor": "white",
            "ticks": ""
           }
          },
          "scene": {
           "xaxis": {
            "backgroundcolor": "#E5ECF6",
            "gridcolor": "white",
            "gridwidth": 2,
            "linecolor": "white",
            "showbackground": true,
            "ticks": "",
            "zerolinecolor": "white"
           },
           "yaxis": {
            "backgroundcolor": "#E5ECF6",
            "gridcolor": "white",
            "gridwidth": 2,
            "linecolor": "white",
            "showbackground": true,
            "ticks": "",
            "zerolinecolor": "white"
           },
           "zaxis": {
            "backgroundcolor": "#E5ECF6",
            "gridcolor": "white",
            "gridwidth": 2,
            "linecolor": "white",
            "showbackground": true,
            "ticks": "",
            "zerolinecolor": "white"
           }
          },
          "shapedefaults": {
           "line": {
            "color": "#2a3f5f"
           }
          },
          "ternary": {
           "aaxis": {
            "gridcolor": "white",
            "linecolor": "white",
            "ticks": ""
           },
           "baxis": {
            "gridcolor": "white",
            "linecolor": "white",
            "ticks": ""
           },
           "bgcolor": "#E5ECF6",
           "caxis": {
            "gridcolor": "white",
            "linecolor": "white",
            "ticks": ""
           }
          },
          "title": {
           "x": 0.05
          },
          "xaxis": {
           "automargin": true,
           "gridcolor": "white",
           "linecolor": "white",
           "ticks": "",
           "title": {
            "standoff": 15
           },
           "zerolinecolor": "white",
           "zerolinewidth": 2
          },
          "yaxis": {
           "automargin": true,
           "gridcolor": "white",
           "linecolor": "white",
           "ticks": "",
           "title": {
            "standoff": 15
           },
           "zerolinecolor": "white",
           "zerolinewidth": 2
          }
         }
        },
        "title": {
         "text": "CO2, Methane, and Temperature Z-Scores in Afghanistan"
        },
        "xaxis": {
         "title": {
          "text": "CO2"
         }
        },
        "yaxis": {
         "title": {
          "text": "Methane"
         }
        }
       }
      }
     },
     "metadata": {},
     "output_type": "display_data"
    }
   ],
   "source": [
    "trace = go.Scatter(\n",
    "    x=co2_afghanistan['z-score'],\n",
    "    y=methane_afghanistan['z-score'],\n",
    "    mode='markers',\n",
    "    marker=dict(\n",
    "        size=abs(temperature_afghanistan['Temperature']) * 7,\n",
    "        sizemode='diameter',\n",
    "        sizeref=0.1,\n",
    "        color=temperature_afghanistan['Temperature'],\n",
    "        colorscale='Viridis',\n",
    "        showscale=True,\n",
    "        cmin=temperature_afghanistan['Temperature'].min(),\n",
    "        cmax=temperature_afghanistan['Temperature'].max()\n",
    "    ),\n",
    "    text=co2_afghanistan['z-score'],\n",
    "    hovertemplate=\n",
    "    '<b>CO2: %{x}</b><br>'+\n",
    "    '<b>Methane: %{y}</b><br>'+\n",
    "    '<b>Temperature Z-Score: %{marker.size}</b><br>',\n",
    ")\n",
    "\n",
    "layout = go.Layout(\n",
    "    title='CO2, Methane, and Temperature Z-Scores in Afghanistan',\n",
    "    xaxis=dict(title='CO2'),\n",
    "    yaxis=dict(title='Methane'),\n",
    "    hovermode='closest',\n",
    ")\n",
    "\n",
    "fig = go.Figure(data=[trace], layout=layout)\n",
    "\n",
    "fig.show()"
   ]
  }
 ],
 "metadata": {
  "kernelspec": {
   "display_name": "jupyterbook",
   "language": "python",
   "name": "python3"
  },
  "language_info": {
   "codemirror_mode": {
    "name": "ipython",
    "version": 3
   },
   "file_extension": ".py",
   "mimetype": "text/x-python",
   "name": "python",
   "nbconvert_exporter": "python",
   "pygments_lexer": "ipython3",
   "version": "3.9.16"
  },
  "orig_nbformat": 4
 },
 "nbformat": 4,
 "nbformat_minor": 2
}
