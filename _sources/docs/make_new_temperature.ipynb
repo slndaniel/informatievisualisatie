{
 "cells": [
  {
   "cell_type": "code",
   "execution_count": 1,
   "metadata": {},
   "outputs": [],
   "source": [
    "import pandas as pd\n",
    "\n",
    "temperature_data = pd.read_csv('Temperature_change_cleaned.csv')\n",
    "temperature_dataframe = pd.DataFrame(temperature_data)\n",
    "\n",
    "df_melt = pd.melt(temperature_dataframe, id_vars=['Area Code', 'Area', 'Months Code', 'Months', 'Element Code', 'Element', 'Unit'], var_name='Year', value_name='Temperature')\n",
    "df_melt = df_melt.sort_values(by=['Area', 'Year'])\n",
    "df_melt['Year'] = df_melt['Year'].str.replace('Y', '')\n",
    "df_melt['std'] = ''\n",
    "for index, row in df_melt.iterrows():\n",
    "    if row['Element'] == 'Standard Deviation':\n",
    "        df_melt.at[index, 'std'] = row['Temperature']\n",
    "    else:\n",
    "        df_melt.at[index, 'std'] = df_melt.at[index + 1, 'Temperature']\n",
    "filtering = df_melt.drop(df_melt[df_melt['Element'] == 'Standard Deviation'].index)\n",
    "\n",
    "filtering['Mean'] = filtering.groupby(['Area', 'Months'])['Temperature'].transform('mean')\n",
    "filtering['z-score'] = (filtering['Temperature'] - filtering['Mean']) / filtering['std']\n",
    "filtering = filtering.drop(['std', 'Mean'], axis=1)\n",
    "\n",
    "filtering.to_csv('new_temperature.csv', index = False)"
   ]
  }
 ],
 "metadata": {
  "kernelspec": {
   "display_name": "jupyterbook",
   "language": "python",
   "name": "python3"
  },
  "language_info": {
   "codemirror_mode": {
    "name": "ipython",
    "version": 3
   },
   "file_extension": ".py",
   "mimetype": "text/x-python",
   "name": "python",
   "nbconvert_exporter": "python",
   "pygments_lexer": "ipython3",
   "version": "3.10.10"
  },
  "orig_nbformat": 4
 },
 "nbformat": 4,
 "nbformat_minor": 2
}
