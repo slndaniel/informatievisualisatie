{
 "cells": [
  {
   "cell_type": "code",
   "execution_count": 1,
   "metadata": {},
   "outputs": [
    {
     "name": "stdout",
     "output_type": "stream",
     "text": [
      "    country_code country_name  year      value  Jan  Feb  Mar  Apr  May  Jun  \\\n",
      "0            ABW        Aruba  1960  11092.675  0.1  0.2  0.3  0.2  0.1  0.1   \n",
      "203          ABW        Aruba  1961  11576.719  0.1 -0.1 -0.3 -0.3 -0.2 -0.2   \n",
      "407          ABW        Aruba  1962  12713.489  0.0 -0.1 -0.1 -0.2 -0.3 -0.4   \n",
      "613          ABW        Aruba  1963  12178.107  0.9  1.1  1.2  1.3  1.4  1.3   \n",
      "820          ABW        Aruba  1964  11840.743 -0.6 -0.7 -0.8 -0.8 -0.8 -0.8   \n",
      "\n",
      "     Jul  Aug  Sep  Oct  Nov  Dec Classification  \n",
      "0    0.0  0.0  0.0  0.1  0.2  0.3              1  \n",
      "203 -0.2 -0.2 -0.2 -0.3 -0.3 -0.2              1  \n",
      "407 -0.4 -0.2  0.2  0.3  0.3  0.5              2  \n",
      "613  1.1  0.6  0.1 -0.3 -0.6 -0.6              2  \n",
      "820 -0.6 -0.3 -0.1  0.2  0.5  0.8              2  \n"
     ]
    }
   ],
   "source": [
    "import pandas as pd\n",
    "\n",
    "co2_df = pd.read_csv('CO2_emissions_cleaned.csv')\n",
    "\n",
    "elnino_df = pd.read_csv('ElNino_LaNina_cleaned.csv')\n",
    "\n",
    "merged_df = pd.merge(co2_df, elnino_df, on='year')\n",
    "\n",
    "merged_df.sort_values(['country_code', 'year'], inplace=True)\n",
    "\n",
    "merged_df['Classification'] = ''\n",
    "\n",
    "for index, row in merged_df.iterrows():\n",
    "    elnino_values = row['Jan':'Dec']\n",
    "    max_abs_value = elnino_values.abs().max()\n",
    "    \n",
    "    if max_abs_value >= 0.5:\n",
    "        max_value = elnino_values.max()\n",
    "        if abs(max_value) == max_abs_value:\n",
    "            merged_df.at[index, 'Classification'] = '2' #elnino\n",
    "        else:\n",
    "            merged_df.at[index, 'Classification'] = '0' #lanina\n",
    "    else:\n",
    "        merged_df.at[index, 'Classification'] = '1' #neither\n",
    "\n",
    "print(merged_df.head())\n",
    "merged_df.to_csv('CO2_merge_elnino_lanina.csv')"
   ]
  }
 ],
 "metadata": {
  "kernelspec": {
   "display_name": "jupyterbook",
   "language": "python",
   "name": "python3"
  },
  "language_info": {
   "codemirror_mode": {
    "name": "ipython",
    "version": 3
   },
   "file_extension": ".py",
   "mimetype": "text/x-python",
   "name": "python",
   "nbconvert_exporter": "python",
   "pygments_lexer": "ipython3",
   "version": "3.9.16"
  }
 },
 "nbformat": 4,
 "nbformat_minor": 2
}