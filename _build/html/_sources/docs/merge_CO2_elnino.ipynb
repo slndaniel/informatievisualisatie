{
 "cells": [
  {
   "cell_type": "code",
   "execution_count": 3,
   "metadata": {},
   "outputs": [],
   "source": [
    "import pandas as pd\n",
    "\n",
    "co2_df = pd.read_csv('new_co2.csv')\n",
    "\n",
    "elnino_df = pd.read_csv('new_elnino_lanina.csv')\n",
    "\n",
    "merged_df = pd.merge(co2_df, elnino_df, on='year')\n",
    "\n",
    "merged_df.sort_values(['country_code', 'year'], inplace=True)\n",
    "\n",
    "#merged_df['Classification'] = ''\n",
    "#\n",
    "#for index, row in merged_df.iterrows():\n",
    "#    elnino_values = row['Jan':'Dec']\n",
    "#    max_abs_value = elnino_values.abs().max()\n",
    "#    \n",
    "#    if max_abs_value >= 0.5:\n",
    "#        max_value = elnino_values.max()\n",
    "#        if abs(max_value) == max_abs_value:\n",
    "#            merged_df.at[index, 'Classification'] = '2' #elnino\n",
    "#        else:\n",
    "#            merged_df.at[index, 'Classification'] = '0' #lanina\n",
    "#    else:\n",
    "#        merged_df.at[index, 'Classification'] = '1' #neither\n",
    "\n",
    "merged_df.to_csv('CO2_merge_elnino_lanina.csv', index=False)"
   ]
  }
 ],
 "metadata": {
  "kernelspec": {
   "display_name": "jupyterbook",
   "language": "python",
   "name": "python3"
  },
  "language_info": {
   "codemirror_mode": {
    "name": "ipython",
    "version": 3
   },
   "file_extension": ".py",
   "mimetype": "text/x-python",
   "name": "python",
   "nbconvert_exporter": "python",
   "pygments_lexer": "ipython3",
   "version": "3.10.10"
  },
  "orig_nbformat": 4
 },
 "nbformat": 4,
 "nbformat_minor": 2
}
