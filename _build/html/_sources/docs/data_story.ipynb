{
 "cells": [
  {
   "attachments": {},
   "cell_type": "markdown",
   "metadata": {},
   "source": [
    "# Is it a climate disaster?\n",
    "\n",
    "(last updated: June 22, 2023)"
   ]
  },
  {
   "attachments": {},
   "cell_type": "markdown",
   "metadata": {},
   "source": [
    "repository: https://github.com/slndaniel/informatievisualisatie/tree/main"
   ]
  },
  {
   "attachments": {},
   "cell_type": "markdown",
   "metadata": {},
   "source": [
    "# Introduction"
   ]
  },
  {
   "attachments": {},
   "cell_type": "markdown",
   "metadata": {},
   "source": [
    "In this data story, we explore the complex connections between climate change, El Nino/La Nina occurrences, and greenhouse gas emissions. We seek to identify potential relationships and correlations among these influencing factors using data visualization and analysis from three different angles. We want to obtain deeper understanding of how these variables interact and have an impact on one another by investigating temperature variations, CO2 emissions, methane emissions, and El Nino/La Nina events.\n",
    "\n",
    "**Perspective 1** <br>\n",
    "**Greenhouse Gas Emissions do have an influence on global warming:** <br>\n",
    "CO2 and methane emissions serve as contributing factors to climate change, intensifying its effects and potentially influencing the occurrence of more frequent and severe El-Nino and La-Nina weather events. The rise in greenhouse gas levels, leading to global warming, creates a plausible connection between emissions and these climatic phenomena.\n",
    "\n",
    "**Perspective 2** <br>\n",
    "**Greenhouse Gas Emissions do not have an influence on global warming:** <br>\n",
    "Alternatively, some argue that CO2 and methane emissions have minimal impact on climate change and, consequently, little influence on El-Nino and La-Nina occurrences. This perspective challenges the notion that emissions play a significant role in shaping these weather events, suggesting that other factors may be more substantial contributors.\n",
    "\n",
    "**Perspective 3** <br>\n",
    "**El-Nino's/La-Nina's causes CO2 levels to rise:** <br>\n",
    "Conversely, an intriguing perspective highlights the potential influence of El-Nino and La-Nina on CO2 emissions. The hypothesis posits that these weather phenomena could contribute to increased levels of CO2 in the atmosphere. Factors such as weakened trade winds may disrupt the typical release of CO2 from the ocean's depths, leading to an accumulation of carbon dioxide in the sea, lowering the CO2 atmospheric levels.\n",
    "\n",
    "By examining these different perspectives and their corresponding arguments, we aim to shed light on the intricate interplay between greenhouse gas emissions, El-Nino/La-Nina, and climate change. Through data exploration and visualizations, we hope to unravel the complexities of these relationships and contribute to a better understanding of our changing climate.\n"
   ]
  },
  {
   "attachments": {},
   "cell_type": "markdown",
   "metadata": {},
   "source": [
    "# Dataset and preprocessing"
   ]
  },
  {
   "attachments": {},
   "cell_type": "markdown",
   "metadata": {},
   "source": [
    "For this project we use four datasets. Below you can find the heads of the datasets as well as a description of the set and variables and a link to the download.\n",
    "\n",
    "Before we used the datasets here, we cleaned them. The code for this can be found in the \"Datasets cleaning.ipynb\" file in the repository. Now follows an explanation for how we cleaned the datasets.\n",
    "\n",
    "The first step was to remove all rows with empty values from all datasets, we did this using the .dropna() function. \n",
    "Then we renamed the columns for the months in the El-Nino/La-Nina dataset to Jan, Feb, etc. using the .rename() function. The reason for this is because the names to describe the months were confusing and hard to understand (Jan was JJA, Feb was JAS etc.). We also renamed the 'Season' column to 'year' for convenience. The values of the years in this column were formatted like this: 1990-1991, 1991-1992. And so we renamed these so that it just says the left year (so 1990-1991 becomes 1990).\n",
    "That was everything we did to preprocess the datasets."
   ]
  },
  {
   "cell_type": "code",
   "execution_count": 3,
   "metadata": {
    "tags": [
     "hide-input"
    ]
   },
   "outputs": [],
   "source": [
    "import pandas as pd\n",
    "import numpy as np\n",
    "import matplotlib.pyplot as plt\n",
    "import plotly.express as px\n",
    "import plotly.graph_objects as go\n",
    "import seaborn as sns\n",
    "import numpy as np\n",
    "import cartopy.crs as ccrs\n",
    "import cartopy.feature as cfeature\n",
    "from mpl_toolkits.axes_grid1 import make_axes_locatable\n",
    "from ipywidgets import interact\n",
    "from ipywidgets import IntSlider\n",
    "from ipywidgets import Dropdown\n",
    "\n"
   ]
  },
  {
   "attachments": {},
   "cell_type": "markdown",
   "metadata": {},
   "source": [
    "This dataset is called ‘Temperature change’ and is available for download on Kaggle. This dataset contains information about temperature changes by country for every month, season and year for the years 1961-2019. This dataset can be used to study possible patterns in temperature or impacts of global warming over the years.\n",
    "Now follows a brief description of the variables in this dataset:\n",
    "\n",
    "- Area Code: Code of the country.\n",
    "- Area: Country name.\n",
    "- Months Code: Code of the month.\n",
    "- Months: Name of the month. Also contains seasons (3 months) and meteorological year.\n",
    "- Element Code: Code of the element.\n",
    "- Element: What element it is, so temperature change or standard deviation.\n",
    "- Unit: Type of unit for the temperature.\n",
    "- Y1961-Y2019: These are all the years, and the rows contain the temperature data for that year.\n",
    "\n",
    "\n",
    "Link to the Temperature change dataset: https://www.kaggle.com/datasets/sevgisarac/temperature-change"
   ]
  },
  {
   "cell_type": "code",
   "execution_count": 4,
   "metadata": {
    "tags": [
     "hide-input"
    ]
   },
   "outputs": [
    {
     "data": {
      "text/html": [
       "<div>\n",
       "<style scoped>\n",
       "    .dataframe tbody tr th:only-of-type {\n",
       "        vertical-align: middle;\n",
       "    }\n",
       "\n",
       "    .dataframe tbody tr th {\n",
       "        vertical-align: top;\n",
       "    }\n",
       "\n",
       "    .dataframe thead th {\n",
       "        text-align: right;\n",
       "    }\n",
       "</style>\n",
       "<table border=\"1\" class=\"dataframe\">\n",
       "  <thead>\n",
       "    <tr style=\"text-align: right;\">\n",
       "      <th></th>\n",
       "      <th>Area Code</th>\n",
       "      <th>Area</th>\n",
       "      <th>Months Code</th>\n",
       "      <th>Months</th>\n",
       "      <th>Element Code</th>\n",
       "      <th>Element</th>\n",
       "      <th>Unit</th>\n",
       "      <th>Y1961</th>\n",
       "      <th>Y1962</th>\n",
       "      <th>Y1963</th>\n",
       "      <th>...</th>\n",
       "      <th>Y2010</th>\n",
       "      <th>Y2011</th>\n",
       "      <th>Y2012</th>\n",
       "      <th>Y2013</th>\n",
       "      <th>Y2014</th>\n",
       "      <th>Y2015</th>\n",
       "      <th>Y2016</th>\n",
       "      <th>Y2017</th>\n",
       "      <th>Y2018</th>\n",
       "      <th>Y2019</th>\n",
       "    </tr>\n",
       "  </thead>\n",
       "  <tbody>\n",
       "    <tr>\n",
       "      <th>0</th>\n",
       "      <td>2</td>\n",
       "      <td>Afghanistan</td>\n",
       "      <td>7001</td>\n",
       "      <td>January</td>\n",
       "      <td>7271</td>\n",
       "      <td>Temperature change</td>\n",
       "      <td>°C</td>\n",
       "      <td>0.777</td>\n",
       "      <td>0.062</td>\n",
       "      <td>2.744</td>\n",
       "      <td>...</td>\n",
       "      <td>3.601</td>\n",
       "      <td>1.179</td>\n",
       "      <td>-0.583</td>\n",
       "      <td>1.233</td>\n",
       "      <td>1.755</td>\n",
       "      <td>1.943</td>\n",
       "      <td>3.416</td>\n",
       "      <td>1.201</td>\n",
       "      <td>1.996</td>\n",
       "      <td>2.951</td>\n",
       "    </tr>\n",
       "    <tr>\n",
       "      <th>1</th>\n",
       "      <td>2</td>\n",
       "      <td>Afghanistan</td>\n",
       "      <td>7001</td>\n",
       "      <td>January</td>\n",
       "      <td>6078</td>\n",
       "      <td>Standard Deviation</td>\n",
       "      <td>°C</td>\n",
       "      <td>1.950</td>\n",
       "      <td>1.950</td>\n",
       "      <td>1.950</td>\n",
       "      <td>...</td>\n",
       "      <td>1.950</td>\n",
       "      <td>1.950</td>\n",
       "      <td>1.950</td>\n",
       "      <td>1.950</td>\n",
       "      <td>1.950</td>\n",
       "      <td>1.950</td>\n",
       "      <td>1.950</td>\n",
       "      <td>1.950</td>\n",
       "      <td>1.950</td>\n",
       "      <td>1.950</td>\n",
       "    </tr>\n",
       "    <tr>\n",
       "      <th>2</th>\n",
       "      <td>2</td>\n",
       "      <td>Afghanistan</td>\n",
       "      <td>7002</td>\n",
       "      <td>February</td>\n",
       "      <td>7271</td>\n",
       "      <td>Temperature change</td>\n",
       "      <td>°C</td>\n",
       "      <td>-1.743</td>\n",
       "      <td>2.465</td>\n",
       "      <td>3.919</td>\n",
       "      <td>...</td>\n",
       "      <td>1.212</td>\n",
       "      <td>0.321</td>\n",
       "      <td>-3.201</td>\n",
       "      <td>1.494</td>\n",
       "      <td>-3.187</td>\n",
       "      <td>2.699</td>\n",
       "      <td>2.251</td>\n",
       "      <td>-0.323</td>\n",
       "      <td>2.705</td>\n",
       "      <td>0.086</td>\n",
       "    </tr>\n",
       "    <tr>\n",
       "      <th>3</th>\n",
       "      <td>2</td>\n",
       "      <td>Afghanistan</td>\n",
       "      <td>7002</td>\n",
       "      <td>February</td>\n",
       "      <td>6078</td>\n",
       "      <td>Standard Deviation</td>\n",
       "      <td>°C</td>\n",
       "      <td>2.597</td>\n",
       "      <td>2.597</td>\n",
       "      <td>2.597</td>\n",
       "      <td>...</td>\n",
       "      <td>2.597</td>\n",
       "      <td>2.597</td>\n",
       "      <td>2.597</td>\n",
       "      <td>2.597</td>\n",
       "      <td>2.597</td>\n",
       "      <td>2.597</td>\n",
       "      <td>2.597</td>\n",
       "      <td>2.597</td>\n",
       "      <td>2.597</td>\n",
       "      <td>2.597</td>\n",
       "    </tr>\n",
       "    <tr>\n",
       "      <th>4</th>\n",
       "      <td>2</td>\n",
       "      <td>Afghanistan</td>\n",
       "      <td>7003</td>\n",
       "      <td>March</td>\n",
       "      <td>7271</td>\n",
       "      <td>Temperature change</td>\n",
       "      <td>°C</td>\n",
       "      <td>0.516</td>\n",
       "      <td>1.336</td>\n",
       "      <td>0.403</td>\n",
       "      <td>...</td>\n",
       "      <td>3.390</td>\n",
       "      <td>0.748</td>\n",
       "      <td>-0.527</td>\n",
       "      <td>2.246</td>\n",
       "      <td>-0.076</td>\n",
       "      <td>-0.497</td>\n",
       "      <td>2.296</td>\n",
       "      <td>0.834</td>\n",
       "      <td>4.418</td>\n",
       "      <td>0.234</td>\n",
       "    </tr>\n",
       "  </tbody>\n",
       "</table>\n",
       "<p>5 rows × 66 columns</p>\n",
       "</div>"
      ],
      "text/plain": [
       "   Area Code         Area  Months Code    Months  Element Code  \\\n",
       "0          2  Afghanistan         7001   January          7271   \n",
       "1          2  Afghanistan         7001   January          6078   \n",
       "2          2  Afghanistan         7002  February          7271   \n",
       "3          2  Afghanistan         7002  February          6078   \n",
       "4          2  Afghanistan         7003     March          7271   \n",
       "\n",
       "              Element Unit  Y1961  Y1962  Y1963  ...  Y2010  Y2011  Y2012  \\\n",
       "0  Temperature change   °C  0.777  0.062  2.744  ...  3.601  1.179 -0.583   \n",
       "1  Standard Deviation   °C  1.950  1.950  1.950  ...  1.950  1.950  1.950   \n",
       "2  Temperature change   °C -1.743  2.465  3.919  ...  1.212  0.321 -3.201   \n",
       "3  Standard Deviation   °C  2.597  2.597  2.597  ...  2.597  2.597  2.597   \n",
       "4  Temperature change   °C  0.516  1.336  0.403  ...  3.390  0.748 -0.527   \n",
       "\n",
       "   Y2013  Y2014  Y2015  Y2016  Y2017  Y2018  Y2019  \n",
       "0  1.233  1.755  1.943  3.416  1.201  1.996  2.951  \n",
       "1  1.950  1.950  1.950  1.950  1.950  1.950  1.950  \n",
       "2  1.494 -3.187  2.699  2.251 -0.323  2.705  0.086  \n",
       "3  2.597  2.597  2.597  2.597  2.597  2.597  2.597  \n",
       "4  2.246 -0.076 -0.497  2.296  0.834  4.418  0.234  \n",
       "\n",
       "[5 rows x 66 columns]"
      ]
     },
     "execution_count": 4,
     "metadata": {},
     "output_type": "execute_result"
    }
   ],
   "source": [
    "temperature_data = pd.read_csv('Temperature_change_cleaned.csv')\n",
    "temperature_dataframe = pd.DataFrame(temperature_data)\n",
    "temperature_dataframe.head()\n"
   ]
  },
  {
   "attachments": {},
   "cell_type": "markdown",
   "metadata": {},
   "source": [
    "This is the temperature dataset, but processed so that the years are rows instead of columns. Also the z-score is calculated and added in a new column."
   ]
  },
  {
   "cell_type": "code",
   "execution_count": 5,
   "metadata": {
    "tags": [
     "hide-input"
    ]
   },
   "outputs": [
    {
     "data": {
      "text/html": [
       "<div>\n",
       "<style scoped>\n",
       "    .dataframe tbody tr th:only-of-type {\n",
       "        vertical-align: middle;\n",
       "    }\n",
       "\n",
       "    .dataframe tbody tr th {\n",
       "        vertical-align: top;\n",
       "    }\n",
       "\n",
       "    .dataframe thead th {\n",
       "        text-align: right;\n",
       "    }\n",
       "</style>\n",
       "<table border=\"1\" class=\"dataframe\">\n",
       "  <thead>\n",
       "    <tr style=\"text-align: right;\">\n",
       "      <th></th>\n",
       "      <th>Area Code</th>\n",
       "      <th>Area</th>\n",
       "      <th>Months Code</th>\n",
       "      <th>Months</th>\n",
       "      <th>Element Code</th>\n",
       "      <th>Element</th>\n",
       "      <th>Unit</th>\n",
       "      <th>Year</th>\n",
       "      <th>Temperature</th>\n",
       "      <th>z-score</th>\n",
       "    </tr>\n",
       "  </thead>\n",
       "  <tbody>\n",
       "    <tr>\n",
       "      <th>0</th>\n",
       "      <td>2</td>\n",
       "      <td>Afghanistan</td>\n",
       "      <td>7001</td>\n",
       "      <td>January</td>\n",
       "      <td>7271</td>\n",
       "      <td>Temperature change</td>\n",
       "      <td>°C</td>\n",
       "      <td>1961</td>\n",
       "      <td>0.777</td>\n",
       "      <td>0.169300</td>\n",
       "    </tr>\n",
       "    <tr>\n",
       "      <th>1</th>\n",
       "      <td>2</td>\n",
       "      <td>Afghanistan</td>\n",
       "      <td>7002</td>\n",
       "      <td>February</td>\n",
       "      <td>7271</td>\n",
       "      <td>Temperature change</td>\n",
       "      <td>°C</td>\n",
       "      <td>1961</td>\n",
       "      <td>-1.743</td>\n",
       "      <td>-0.700639</td>\n",
       "    </tr>\n",
       "    <tr>\n",
       "      <th>2</th>\n",
       "      <td>2</td>\n",
       "      <td>Afghanistan</td>\n",
       "      <td>7003</td>\n",
       "      <td>March</td>\n",
       "      <td>7271</td>\n",
       "      <td>Temperature change</td>\n",
       "      <td>°C</td>\n",
       "      <td>1961</td>\n",
       "      <td>0.516</td>\n",
       "      <td>0.123397</td>\n",
       "    </tr>\n",
       "    <tr>\n",
       "      <th>3</th>\n",
       "      <td>2</td>\n",
       "      <td>Afghanistan</td>\n",
       "      <td>7004</td>\n",
       "      <td>April</td>\n",
       "      <td>7271</td>\n",
       "      <td>Temperature change</td>\n",
       "      <td>°C</td>\n",
       "      <td>1961</td>\n",
       "      <td>-1.709</td>\n",
       "      <td>-1.543048</td>\n",
       "    </tr>\n",
       "    <tr>\n",
       "      <th>4</th>\n",
       "      <td>2</td>\n",
       "      <td>Afghanistan</td>\n",
       "      <td>7005</td>\n",
       "      <td>May</td>\n",
       "      <td>7271</td>\n",
       "      <td>Temperature change</td>\n",
       "      <td>°C</td>\n",
       "      <td>1961</td>\n",
       "      <td>1.412</td>\n",
       "      <td>0.541270</td>\n",
       "    </tr>\n",
       "  </tbody>\n",
       "</table>\n",
       "</div>"
      ],
      "text/plain": [
       "   Area Code         Area  Months Code    Months  Element Code  \\\n",
       "0          2  Afghanistan         7001   January          7271   \n",
       "1          2  Afghanistan         7002  February          7271   \n",
       "2          2  Afghanistan         7003     March          7271   \n",
       "3          2  Afghanistan         7004     April          7271   \n",
       "4          2  Afghanistan         7005       May          7271   \n",
       "\n",
       "              Element Unit  Year  Temperature   z-score  \n",
       "0  Temperature change   °C  1961        0.777  0.169300  \n",
       "1  Temperature change   °C  1961       -1.743 -0.700639  \n",
       "2  Temperature change   °C  1961        0.516  0.123397  \n",
       "3  Temperature change   °C  1961       -1.709 -1.543048  \n",
       "4  Temperature change   °C  1961        1.412  0.541270  "
      ]
     },
     "execution_count": 5,
     "metadata": {},
     "output_type": "execute_result"
    }
   ],
   "source": [
    "new_temperature_data = pd.read_csv('new_temperature.csv')\n",
    "new_temperature_dataframe = pd.DataFrame(new_temperature_data)\n",
    "new_temperature_dataframe.head()"
   ]
  },
  {
   "attachments": {},
   "cell_type": "markdown",
   "metadata": {},
   "source": [
    "This data is called \"CO2 Emissions by country\" and contains information about the CO2 emission from each country between 1960 till 2019. The Dataset covers each country on this world and is compiled from multiple sources. To know the amount of CO2 emission is very important. This is important because we then get a better understanding, and new policies can be made that ensure that emissions are reduced. Now follows a brief description of the variables in this dataset.\n",
    "\n",
    "- country_code: Code of the country.\n",
    "- country_name: Name of the country.\n",
    "- year: Which year the data is about.\n",
    "- value: The CO2 emission value in kiloton.\n",
    "\n",
    "Link to the CO2 Emissions dataset: https://www.kaggle.com/datasets/ulrikthygepedersen/co2-emissions-by-country"
   ]
  },
  {
   "cell_type": "code",
   "execution_count": 6,
   "metadata": {
    "tags": [
     "hide-input"
    ]
   },
   "outputs": [
    {
     "data": {
      "text/html": [
       "<div>\n",
       "<style scoped>\n",
       "    .dataframe tbody tr th:only-of-type {\n",
       "        vertical-align: middle;\n",
       "    }\n",
       "\n",
       "    .dataframe tbody tr th {\n",
       "        vertical-align: top;\n",
       "    }\n",
       "\n",
       "    .dataframe thead th {\n",
       "        text-align: right;\n",
       "    }\n",
       "</style>\n",
       "<table border=\"1\" class=\"dataframe\">\n",
       "  <thead>\n",
       "    <tr style=\"text-align: right;\">\n",
       "      <th></th>\n",
       "      <th>country_code</th>\n",
       "      <th>country_name</th>\n",
       "      <th>year</th>\n",
       "      <th>value</th>\n",
       "    </tr>\n",
       "  </thead>\n",
       "  <tbody>\n",
       "    <tr>\n",
       "      <th>0</th>\n",
       "      <td>ABW</td>\n",
       "      <td>Aruba</td>\n",
       "      <td>1960</td>\n",
       "      <td>11092.675</td>\n",
       "    </tr>\n",
       "    <tr>\n",
       "      <th>1</th>\n",
       "      <td>ABW</td>\n",
       "      <td>Aruba</td>\n",
       "      <td>1961</td>\n",
       "      <td>11576.719</td>\n",
       "    </tr>\n",
       "    <tr>\n",
       "      <th>2</th>\n",
       "      <td>ABW</td>\n",
       "      <td>Aruba</td>\n",
       "      <td>1962</td>\n",
       "      <td>12713.489</td>\n",
       "    </tr>\n",
       "    <tr>\n",
       "      <th>3</th>\n",
       "      <td>ABW</td>\n",
       "      <td>Aruba</td>\n",
       "      <td>1963</td>\n",
       "      <td>12178.107</td>\n",
       "    </tr>\n",
       "    <tr>\n",
       "      <th>4</th>\n",
       "      <td>ABW</td>\n",
       "      <td>Aruba</td>\n",
       "      <td>1964</td>\n",
       "      <td>11840.743</td>\n",
       "    </tr>\n",
       "  </tbody>\n",
       "</table>\n",
       "</div>"
      ],
      "text/plain": [
       "  country_code country_name  year      value\n",
       "0          ABW        Aruba  1960  11092.675\n",
       "1          ABW        Aruba  1961  11576.719\n",
       "2          ABW        Aruba  1962  12713.489\n",
       "3          ABW        Aruba  1963  12178.107\n",
       "4          ABW        Aruba  1964  11840.743"
      ]
     },
     "execution_count": 6,
     "metadata": {},
     "output_type": "execute_result"
    }
   ],
   "source": [
    "co2_data = pd.read_csv('CO2_emissions_cleaned.csv')\n",
    "co2_dataframe = pd.DataFrame(co2_data)\n",
    "co2_dataframe.head()"
   ]
  },
  {
   "attachments": {},
   "cell_type": "markdown",
   "metadata": {},
   "source": [
    "Here the z score is calculated and added as a new column."
   ]
  },
  {
   "cell_type": "code",
   "execution_count": 7,
   "metadata": {
    "tags": [
     "hide-input"
    ]
   },
   "outputs": [
    {
     "data": {
      "text/html": [
       "<div>\n",
       "<style scoped>\n",
       "    .dataframe tbody tr th:only-of-type {\n",
       "        vertical-align: middle;\n",
       "    }\n",
       "\n",
       "    .dataframe tbody tr th {\n",
       "        vertical-align: top;\n",
       "    }\n",
       "\n",
       "    .dataframe thead th {\n",
       "        text-align: right;\n",
       "    }\n",
       "</style>\n",
       "<table border=\"1\" class=\"dataframe\">\n",
       "  <thead>\n",
       "    <tr style=\"text-align: right;\">\n",
       "      <th></th>\n",
       "      <th>country_code</th>\n",
       "      <th>country_name</th>\n",
       "      <th>year</th>\n",
       "      <th>value</th>\n",
       "      <th>z-score</th>\n",
       "    </tr>\n",
       "  </thead>\n",
       "  <tbody>\n",
       "    <tr>\n",
       "      <th>0</th>\n",
       "      <td>ABW</td>\n",
       "      <td>Aruba</td>\n",
       "      <td>1960</td>\n",
       "      <td>11092.675</td>\n",
       "      <td>0.769185</td>\n",
       "    </tr>\n",
       "    <tr>\n",
       "      <th>1</th>\n",
       "      <td>ABW</td>\n",
       "      <td>Aruba</td>\n",
       "      <td>1961</td>\n",
       "      <td>11576.719</td>\n",
       "      <td>0.850040</td>\n",
       "    </tr>\n",
       "    <tr>\n",
       "      <th>2</th>\n",
       "      <td>ABW</td>\n",
       "      <td>Aruba</td>\n",
       "      <td>1962</td>\n",
       "      <td>12713.489</td>\n",
       "      <td>1.039926</td>\n",
       "    </tr>\n",
       "    <tr>\n",
       "      <th>3</th>\n",
       "      <td>ABW</td>\n",
       "      <td>Aruba</td>\n",
       "      <td>1963</td>\n",
       "      <td>12178.107</td>\n",
       "      <td>0.950496</td>\n",
       "    </tr>\n",
       "    <tr>\n",
       "      <th>4</th>\n",
       "      <td>ABW</td>\n",
       "      <td>Aruba</td>\n",
       "      <td>1964</td>\n",
       "      <td>11840.743</td>\n",
       "      <td>0.894143</td>\n",
       "    </tr>\n",
       "  </tbody>\n",
       "</table>\n",
       "</div>"
      ],
      "text/plain": [
       "  country_code country_name  year      value   z-score\n",
       "0          ABW        Aruba  1960  11092.675  0.769185\n",
       "1          ABW        Aruba  1961  11576.719  0.850040\n",
       "2          ABW        Aruba  1962  12713.489  1.039926\n",
       "3          ABW        Aruba  1963  12178.107  0.950496\n",
       "4          ABW        Aruba  1964  11840.743  0.894143"
      ]
     },
     "execution_count": 7,
     "metadata": {},
     "output_type": "execute_result"
    }
   ],
   "source": [
    "co2_dataframe['Mean'] = co2_dataframe.groupby('country_code')['value'].transform('mean')\n",
    "co2_dataframe['Std'] = co2_dataframe.groupby('country_code')['value'].transform('std')\n",
    "co2_dataframe['z-score'] = (co2_dataframe['value'] - co2_dataframe['Mean']) / co2_dataframe['Std']\n",
    "\n",
    "new_co2_dataframe = co2_dataframe[['country_code', 'country_name', 'year', 'value', 'z-score']]\n",
    "\n",
    "new_co2_dataframe.to_csv('new_co2.csv', index=False)\n",
    "\n",
    "new_co2_data = pd.read_csv('new_co2.csv')\n",
    "new_co2_dataframe = pd.DataFrame(new_co2_data)\n",
    "new_co2_dataframe.head()"
   ]
  },
  {
   "attachments": {},
   "cell_type": "markdown",
   "metadata": {},
   "source": [
    "This dataset is called \"Methane Emissions around the world\" and contains the methane(CH4) emissions per year for 195 countries and for a total of 28 years. Methane is the second biggest green house gas after carbon dioxide. This dataset only measures the emissions in the regions of the specified country and doesn’t take into account the possible extra effects of e.g. deforestation, since these effects can take place in another part of the world than where the deforestation has taken place. The values are in metric tons of carbon dioxide equivalent, The unit \"MTCO2e\" represents an amount of a green house gas whose atmospheric impact has been standardized to that of one unit mass of carbon dioxide. Now follows a brief description of the variables in this dataset.\n",
    "\n",
    "- Country: Which country the data is about.\n",
    "- Sector: Which sector the data is about.\n",
    "- Gas: The type of gas.\n",
    "- Unit: The type of unit.\n",
    "- 2018-1990: These are all the years, and the rows contain the methane data for that year.\n",
    "\n",
    "Link to the Methane emissions dataset: https://www.kaggle.com/datasets/kkhandekar/methane-emissions-across-the-world-19902018"
   ]
  },
  {
   "cell_type": "code",
   "execution_count": 8,
   "metadata": {
    "tags": [
     "hide-input"
    ]
   },
   "outputs": [
    {
     "data": {
      "text/html": [
       "<div>\n",
       "<style scoped>\n",
       "    .dataframe tbody tr th:only-of-type {\n",
       "        vertical-align: middle;\n",
       "    }\n",
       "\n",
       "    .dataframe tbody tr th {\n",
       "        vertical-align: top;\n",
       "    }\n",
       "\n",
       "    .dataframe thead th {\n",
       "        text-align: right;\n",
       "    }\n",
       "</style>\n",
       "<table border=\"1\" class=\"dataframe\">\n",
       "  <thead>\n",
       "    <tr style=\"text-align: right;\">\n",
       "      <th></th>\n",
       "      <th>Country</th>\n",
       "      <th>Sector</th>\n",
       "      <th>Gas</th>\n",
       "      <th>Unit</th>\n",
       "      <th>2018</th>\n",
       "      <th>2017</th>\n",
       "      <th>2016</th>\n",
       "      <th>2015</th>\n",
       "      <th>2014</th>\n",
       "      <th>2013</th>\n",
       "      <th>...</th>\n",
       "      <th>1999</th>\n",
       "      <th>1998</th>\n",
       "      <th>1997</th>\n",
       "      <th>1996</th>\n",
       "      <th>1995</th>\n",
       "      <th>1994</th>\n",
       "      <th>1993</th>\n",
       "      <th>1992</th>\n",
       "      <th>1991</th>\n",
       "      <th>1990</th>\n",
       "    </tr>\n",
       "  </thead>\n",
       "  <tbody>\n",
       "    <tr>\n",
       "      <th>0</th>\n",
       "      <td>China</td>\n",
       "      <td>Total excluding LUCF</td>\n",
       "      <td>CH4</td>\n",
       "      <td>MTCO2e</td>\n",
       "      <td>1238.63</td>\n",
       "      <td>1239.13</td>\n",
       "      <td>1242.15</td>\n",
       "      <td>1237.52</td>\n",
       "      <td>1206.21</td>\n",
       "      <td>1178.02</td>\n",
       "      <td>...</td>\n",
       "      <td>825.69</td>\n",
       "      <td>813.83</td>\n",
       "      <td>791.73</td>\n",
       "      <td>823.86</td>\n",
       "      <td>798.45</td>\n",
       "      <td>773.65</td>\n",
       "      <td>757.56</td>\n",
       "      <td>751.66</td>\n",
       "      <td>743.07</td>\n",
       "      <td>730.34</td>\n",
       "    </tr>\n",
       "    <tr>\n",
       "      <th>1</th>\n",
       "      <td>Russia</td>\n",
       "      <td>Total excluding LUCF</td>\n",
       "      <td>CH4</td>\n",
       "      <td>MTCO2e</td>\n",
       "      <td>849.57</td>\n",
       "      <td>850.17</td>\n",
       "      <td>852.55</td>\n",
       "      <td>835.56</td>\n",
       "      <td>830.22</td>\n",
       "      <td>825.64</td>\n",
       "      <td>...</td>\n",
       "      <td>598.70</td>\n",
       "      <td>597.72</td>\n",
       "      <td>610.38</td>\n",
       "      <td>622.22</td>\n",
       "      <td>639.73</td>\n",
       "      <td>666.92</td>\n",
       "      <td>724.72</td>\n",
       "      <td>780.89</td>\n",
       "      <td>863.52</td>\n",
       "      <td>929.97</td>\n",
       "    </tr>\n",
       "    <tr>\n",
       "      <th>2</th>\n",
       "      <td>India</td>\n",
       "      <td>Total excluding LUCF</td>\n",
       "      <td>CH4</td>\n",
       "      <td>MTCO2e</td>\n",
       "      <td>666.51</td>\n",
       "      <td>661.61</td>\n",
       "      <td>657.69</td>\n",
       "      <td>652.00</td>\n",
       "      <td>653.67</td>\n",
       "      <td>653.53</td>\n",
       "      <td>...</td>\n",
       "      <td>584.49</td>\n",
       "      <td>577.29</td>\n",
       "      <td>567.46</td>\n",
       "      <td>560.74</td>\n",
       "      <td>551.49</td>\n",
       "      <td>543.90</td>\n",
       "      <td>539.00</td>\n",
       "      <td>533.31</td>\n",
       "      <td>528.53</td>\n",
       "      <td>522.74</td>\n",
       "    </tr>\n",
       "    <tr>\n",
       "      <th>3</th>\n",
       "      <td>United States</td>\n",
       "      <td>Total excluding LUCF</td>\n",
       "      <td>CH4</td>\n",
       "      <td>MTCO2e</td>\n",
       "      <td>622.59</td>\n",
       "      <td>614.50</td>\n",
       "      <td>609.20</td>\n",
       "      <td>617.17</td>\n",
       "      <td>620.81</td>\n",
       "      <td>618.41</td>\n",
       "      <td>...</td>\n",
       "      <td>688.34</td>\n",
       "      <td>702.98</td>\n",
       "      <td>722.83</td>\n",
       "      <td>738.60</td>\n",
       "      <td>745.84</td>\n",
       "      <td>758.52</td>\n",
       "      <td>751.48</td>\n",
       "      <td>768.67</td>\n",
       "      <td>769.82</td>\n",
       "      <td>766.55</td>\n",
       "    </tr>\n",
       "    <tr>\n",
       "      <th>4</th>\n",
       "      <td>Brazil</td>\n",
       "      <td>Total excluding LUCF</td>\n",
       "      <td>CH4</td>\n",
       "      <td>MTCO2e</td>\n",
       "      <td>416.28</td>\n",
       "      <td>421.66</td>\n",
       "      <td>424.80</td>\n",
       "      <td>422.28</td>\n",
       "      <td>416.35</td>\n",
       "      <td>411.88</td>\n",
       "      <td>...</td>\n",
       "      <td>322.94</td>\n",
       "      <td>318.14</td>\n",
       "      <td>311.06</td>\n",
       "      <td>304.62</td>\n",
       "      <td>311.55</td>\n",
       "      <td>311.16</td>\n",
       "      <td>305.47</td>\n",
       "      <td>304.56</td>\n",
       "      <td>300.17</td>\n",
       "      <td>285.24</td>\n",
       "    </tr>\n",
       "  </tbody>\n",
       "</table>\n",
       "<p>5 rows × 33 columns</p>\n",
       "</div>"
      ],
      "text/plain": [
       "         Country                Sector  Gas    Unit     2018     2017  \\\n",
       "0          China  Total excluding LUCF  CH4  MTCO2e  1238.63  1239.13   \n",
       "1         Russia  Total excluding LUCF  CH4  MTCO2e   849.57   850.17   \n",
       "2          India  Total excluding LUCF  CH4  MTCO2e   666.51   661.61   \n",
       "3  United States  Total excluding LUCF  CH4  MTCO2e   622.59   614.50   \n",
       "4         Brazil  Total excluding LUCF  CH4  MTCO2e   416.28   421.66   \n",
       "\n",
       "      2016     2015     2014     2013  ...    1999    1998    1997    1996  \\\n",
       "0  1242.15  1237.52  1206.21  1178.02  ...  825.69  813.83  791.73  823.86   \n",
       "1   852.55   835.56   830.22   825.64  ...  598.70  597.72  610.38  622.22   \n",
       "2   657.69   652.00   653.67   653.53  ...  584.49  577.29  567.46  560.74   \n",
       "3   609.20   617.17   620.81   618.41  ...  688.34  702.98  722.83  738.60   \n",
       "4   424.80   422.28   416.35   411.88  ...  322.94  318.14  311.06  304.62   \n",
       "\n",
       "     1995    1994    1993    1992    1991    1990  \n",
       "0  798.45  773.65  757.56  751.66  743.07  730.34  \n",
       "1  639.73  666.92  724.72  780.89  863.52  929.97  \n",
       "2  551.49  543.90  539.00  533.31  528.53  522.74  \n",
       "3  745.84  758.52  751.48  768.67  769.82  766.55  \n",
       "4  311.55  311.16  305.47  304.56  300.17  285.24  \n",
       "\n",
       "[5 rows x 33 columns]"
      ]
     },
     "execution_count": 8,
     "metadata": {},
     "output_type": "execute_result"
    }
   ],
   "source": [
    "methane_data = pd.read_csv('Methane_emissions_cleaned.csv')\n",
    "methane_dataframe = pd.DataFrame(methane_data)\n",
    "methane_dataframe.head()\n"
   ]
  },
  {
   "attachments": {},
   "cell_type": "markdown",
   "metadata": {},
   "source": [
    "This cell transforms the methane dataset so that the years are rows instead of columns. Also the z score is calculated and added as a new column."
   ]
  },
  {
   "cell_type": "code",
   "execution_count": 9,
   "metadata": {
    "tags": [
     "hide-input"
    ]
   },
   "outputs": [
    {
     "data": {
      "text/html": [
       "<div>\n",
       "<style scoped>\n",
       "    .dataframe tbody tr th:only-of-type {\n",
       "        vertical-align: middle;\n",
       "    }\n",
       "\n",
       "    .dataframe tbody tr th {\n",
       "        vertical-align: top;\n",
       "    }\n",
       "\n",
       "    .dataframe thead th {\n",
       "        text-align: right;\n",
       "    }\n",
       "</style>\n",
       "<table border=\"1\" class=\"dataframe\">\n",
       "  <thead>\n",
       "    <tr style=\"text-align: right;\">\n",
       "      <th></th>\n",
       "      <th>Country</th>\n",
       "      <th>Year</th>\n",
       "      <th>Methane value</th>\n",
       "      <th>z-score</th>\n",
       "    </tr>\n",
       "  </thead>\n",
       "  <tbody>\n",
       "    <tr>\n",
       "      <th>0</th>\n",
       "      <td>Afghanistan</td>\n",
       "      <td>1990.0</td>\n",
       "      <td>8.97</td>\n",
       "      <td>-0.722564</td>\n",
       "    </tr>\n",
       "    <tr>\n",
       "      <th>1</th>\n",
       "      <td>Afghanistan</td>\n",
       "      <td>1991.0</td>\n",
       "      <td>9.07</td>\n",
       "      <td>-0.718711</td>\n",
       "    </tr>\n",
       "    <tr>\n",
       "      <th>2</th>\n",
       "      <td>Afghanistan</td>\n",
       "      <td>1992.0</td>\n",
       "      <td>8.99</td>\n",
       "      <td>-0.721793</td>\n",
       "    </tr>\n",
       "    <tr>\n",
       "      <th>3</th>\n",
       "      <td>Afghanistan</td>\n",
       "      <td>1993.0</td>\n",
       "      <td>8.89</td>\n",
       "      <td>-0.725647</td>\n",
       "    </tr>\n",
       "    <tr>\n",
       "      <th>4</th>\n",
       "      <td>Afghanistan</td>\n",
       "      <td>1994.0</td>\n",
       "      <td>8.96</td>\n",
       "      <td>-0.722950</td>\n",
       "    </tr>\n",
       "  </tbody>\n",
       "</table>\n",
       "</div>"
      ],
      "text/plain": [
       "       Country    Year  Methane value   z-score\n",
       "0  Afghanistan  1990.0           8.97 -0.722564\n",
       "1  Afghanistan  1991.0           9.07 -0.718711\n",
       "2  Afghanistan  1992.0           8.99 -0.721793\n",
       "3  Afghanistan  1993.0           8.89 -0.725647\n",
       "4  Afghanistan  1994.0           8.96 -0.722950"
      ]
     },
     "execution_count": 9,
     "metadata": {},
     "output_type": "execute_result"
    }
   ],
   "source": [
    "df_transposed = pd.melt(methane_dataframe, id_vars=['Country'], var_name='Year', value_name='Methane value')\n",
    "df_transposed.sort_values(['Country', 'Year'], inplace=True)\n",
    "df_transposed['Year'] = pd.to_numeric(df_transposed['Year'], errors='coerce')\n",
    "df_transposed = df_transposed.dropna(subset=['Year'])\n",
    "\n",
    "df_transposed.to_csv('new_methane.csv', index = False)\n",
    "\n",
    "new_methane_data = pd.read_csv('new_methane.csv')\n",
    "new_methane_dataframe = pd.DataFrame(new_methane_data)\n",
    "\n",
    "new_methane_dataframe['Mean'] = new_methane_dataframe.groupby('Country')['Methane value'].transform('mean')\n",
    "new_methane_dataframe['Std'] = new_methane_dataframe.groupby('Country')['Methane value'].transform('std')\n",
    "new_methane_dataframe['z-score'] = (new_methane_dataframe['Methane value'] - new_methane_dataframe['Mean']) / new_methane_dataframe['Std']\n",
    "\n",
    "new_methane_dataframe = new_methane_dataframe[['Country', 'Year', 'Methane value', 'z-score']]\n",
    "\n",
    "new_methane_dataframe.to_csv('new_methane.csv', index = False)\n",
    "\n",
    "new_methane_dataframe.head()"
   ]
  },
  {
   "attachments": {},
   "cell_type": "markdown",
   "metadata": {},
   "source": [
    "This dataset is called \"El-Nino/La-Nina\" and contains information about the El Nino and La Nina per season and between the years 1950-2018. El nino and La Nina are natural phenomenons that can cause extreme floods and/or drought. The Datasets main function is to predict the weather of El Nino and La Nina with the LSTM model. Now follows a brief description of the variables in this dataset.\n",
    "\n",
    "- year: The year of which the data is about.\n",
    "- Jan-Dec: The months of which the data is about.\n",
    "\n",
    "Link to the El-Nino/La-Nina dataset: https://www.kaggle.com/datasets/bhaskar100/elnino-lanina"
   ]
  },
  {
   "cell_type": "code",
   "execution_count": 10,
   "metadata": {
    "tags": [
     "hide-input"
    ]
   },
   "outputs": [
    {
     "data": {
      "text/html": [
       "<div>\n",
       "<style scoped>\n",
       "    .dataframe tbody tr th:only-of-type {\n",
       "        vertical-align: middle;\n",
       "    }\n",
       "\n",
       "    .dataframe tbody tr th {\n",
       "        vertical-align: top;\n",
       "    }\n",
       "\n",
       "    .dataframe thead th {\n",
       "        text-align: right;\n",
       "    }\n",
       "</style>\n",
       "<table border=\"1\" class=\"dataframe\">\n",
       "  <thead>\n",
       "    <tr style=\"text-align: right;\">\n",
       "      <th></th>\n",
       "      <th>year</th>\n",
       "      <th>Jan</th>\n",
       "      <th>Feb</th>\n",
       "      <th>Mar</th>\n",
       "      <th>Apr</th>\n",
       "      <th>May</th>\n",
       "      <th>Jun</th>\n",
       "      <th>Jul</th>\n",
       "      <th>Aug</th>\n",
       "      <th>Sep</th>\n",
       "      <th>Oct</th>\n",
       "      <th>Nov</th>\n",
       "      <th>Dec</th>\n",
       "    </tr>\n",
       "  </thead>\n",
       "  <tbody>\n",
       "    <tr>\n",
       "      <th>0</th>\n",
       "      <td>1950</td>\n",
       "      <td>-0.5</td>\n",
       "      <td>-0.4</td>\n",
       "      <td>-0.4</td>\n",
       "      <td>-0.4</td>\n",
       "      <td>-0.6</td>\n",
       "      <td>-0.8</td>\n",
       "      <td>-0.8</td>\n",
       "      <td>-0.5</td>\n",
       "      <td>-0.2</td>\n",
       "      <td>0.2</td>\n",
       "      <td>0.4</td>\n",
       "      <td>0.6</td>\n",
       "    </tr>\n",
       "    <tr>\n",
       "      <th>1</th>\n",
       "      <td>1951</td>\n",
       "      <td>0.7</td>\n",
       "      <td>0.9</td>\n",
       "      <td>1.0</td>\n",
       "      <td>1.2</td>\n",
       "      <td>1.0</td>\n",
       "      <td>0.8</td>\n",
       "      <td>0.5</td>\n",
       "      <td>0.4</td>\n",
       "      <td>0.3</td>\n",
       "      <td>0.3</td>\n",
       "      <td>0.2</td>\n",
       "      <td>0.0</td>\n",
       "    </tr>\n",
       "    <tr>\n",
       "      <th>2</th>\n",
       "      <td>1952</td>\n",
       "      <td>-0.1</td>\n",
       "      <td>0.0</td>\n",
       "      <td>0.2</td>\n",
       "      <td>0.1</td>\n",
       "      <td>0.0</td>\n",
       "      <td>0.1</td>\n",
       "      <td>0.4</td>\n",
       "      <td>0.6</td>\n",
       "      <td>0.6</td>\n",
       "      <td>0.7</td>\n",
       "      <td>0.8</td>\n",
       "      <td>0.8</td>\n",
       "    </tr>\n",
       "    <tr>\n",
       "      <th>3</th>\n",
       "      <td>1953</td>\n",
       "      <td>0.7</td>\n",
       "      <td>0.7</td>\n",
       "      <td>0.8</td>\n",
       "      <td>0.8</td>\n",
       "      <td>0.8</td>\n",
       "      <td>0.8</td>\n",
       "      <td>0.8</td>\n",
       "      <td>0.5</td>\n",
       "      <td>0.0</td>\n",
       "      <td>-0.4</td>\n",
       "      <td>-0.5</td>\n",
       "      <td>-0.5</td>\n",
       "    </tr>\n",
       "    <tr>\n",
       "      <th>4</th>\n",
       "      <td>1954</td>\n",
       "      <td>-0.6</td>\n",
       "      <td>-0.8</td>\n",
       "      <td>-0.9</td>\n",
       "      <td>-0.8</td>\n",
       "      <td>-0.7</td>\n",
       "      <td>-0.7</td>\n",
       "      <td>-0.7</td>\n",
       "      <td>-0.6</td>\n",
       "      <td>-0.7</td>\n",
       "      <td>-0.8</td>\n",
       "      <td>-0.8</td>\n",
       "      <td>-0.7</td>\n",
       "    </tr>\n",
       "  </tbody>\n",
       "</table>\n",
       "</div>"
      ],
      "text/plain": [
       "   year  Jan  Feb  Mar  Apr  May  Jun  Jul  Aug  Sep  Oct  Nov  Dec\n",
       "0  1950 -0.5 -0.4 -0.4 -0.4 -0.6 -0.8 -0.8 -0.5 -0.2  0.2  0.4  0.6\n",
       "1  1951  0.7  0.9  1.0  1.2  1.0  0.8  0.5  0.4  0.3  0.3  0.2  0.0\n",
       "2  1952 -0.1  0.0  0.2  0.1  0.0  0.1  0.4  0.6  0.6  0.7  0.8  0.8\n",
       "3  1953  0.7  0.7  0.8  0.8  0.8  0.8  0.8  0.5  0.0 -0.4 -0.5 -0.5\n",
       "4  1954 -0.6 -0.8 -0.9 -0.8 -0.7 -0.7 -0.7 -0.6 -0.7 -0.8 -0.8 -0.7"
      ]
     },
     "execution_count": 10,
     "metadata": {},
     "output_type": "execute_result"
    }
   ],
   "source": [
    "elnino_data = pd.read_csv('ElNino_LaNina_cleaned.csv')\n",
    "elnino_dataframe = pd.DataFrame(elnino_data)\n",
    "elnino_dataframe.head()\n"
   ]
  },
  {
   "cell_type": "code",
   "execution_count": 11,
   "metadata": {
    "tags": [
     "hide-input"
    ]
   },
   "outputs": [
    {
     "data": {
      "text/html": [
       "<div>\n",
       "<style scoped>\n",
       "    .dataframe tbody tr th:only-of-type {\n",
       "        vertical-align: middle;\n",
       "    }\n",
       "\n",
       "    .dataframe tbody tr th {\n",
       "        vertical-align: top;\n",
       "    }\n",
       "\n",
       "    .dataframe thead th {\n",
       "        text-align: right;\n",
       "    }\n",
       "</style>\n",
       "<table border=\"1\" class=\"dataframe\">\n",
       "  <thead>\n",
       "    <tr style=\"text-align: right;\">\n",
       "      <th></th>\n",
       "      <th>year</th>\n",
       "      <th>z-score</th>\n",
       "    </tr>\n",
       "  </thead>\n",
       "  <tbody>\n",
       "    <tr>\n",
       "      <th>0</th>\n",
       "      <td>1950</td>\n",
       "      <td>-0.784710</td>\n",
       "    </tr>\n",
       "    <tr>\n",
       "      <th>1</th>\n",
       "      <td>1951</td>\n",
       "      <td>0.904352</td>\n",
       "    </tr>\n",
       "    <tr>\n",
       "      <th>2</th>\n",
       "      <td>1952</td>\n",
       "      <td>0.566540</td>\n",
       "    </tr>\n",
       "    <tr>\n",
       "      <th>3</th>\n",
       "      <td>1953</td>\n",
       "      <td>0.566540</td>\n",
       "    </tr>\n",
       "    <tr>\n",
       "      <th>4</th>\n",
       "      <td>1954</td>\n",
       "      <td>-0.869164</td>\n",
       "    </tr>\n",
       "  </tbody>\n",
       "</table>\n",
       "</div>"
      ],
      "text/plain": [
       "   year   z-score\n",
       "0  1950 -0.784710\n",
       "1  1951  0.904352\n",
       "2  1952  0.566540\n",
       "3  1953  0.566540\n",
       "4  1954 -0.869164"
      ]
     },
     "execution_count": 11,
     "metadata": {},
     "output_type": "execute_result"
    }
   ],
   "source": [
    "new_elnino_data = pd.read_csv('ElNino_LaNina_cleaned.csv')\n",
    "new_elnino_dataframe = pd.DataFrame(new_elnino_data)\n",
    "\n",
    "max_values = new_elnino_dataframe.iloc[:, 1:].max(axis=1)\n",
    "min_values = new_elnino_dataframe.iloc[:, 1:].min(axis=1)\n",
    "\n",
    "values_to_use = np.where(max_values.abs() >= min_values.abs(), max_values, min_values)\n",
    "\n",
    "mean_value = values_to_use.mean()\n",
    "std_value = values_to_use.std()\n",
    "\n",
    "z_scores = (values_to_use - mean_value) / std_value\n",
    "\n",
    "new_elnino_dataframe['z-score'] = z_scores\n",
    "\n",
    "new_elnino_dataframe = new_elnino_dataframe[['year', 'z-score']]\n",
    "\n",
    "new_elnino_dataframe.to_csv('new_elnino_lanina.csv')\n",
    "\n",
    "new_elnino_dataframe.head()\n",
    "\n"
   ]
  },
  {
   "attachments": {},
   "cell_type": "markdown",
   "metadata": {},
   "source": [
    "# Greenhouse Gas Emissions do have a influence on global warming"
   ]
  },
  {
   "cell_type": "code",
   "execution_count": 12,
   "metadata": {
    "tags": [
     "hide-input"
    ]
   },
   "outputs": [
    {
     "data": {
      "image/png": "[encoded data removed]",
      "text/plain": [
       "<Figure size 1500x600 with 2 Axes>"
      ]
     },
     "metadata": {},
     "output_type": "display_data"
    }
   ],
   "source": [
    "# Chris\n",
    "\n",
    "fig, (chart1, chart2) = plt.subplots(1, 2, figsize=(15, 6))\n",
    "\n",
    "# Algeria\n",
    "co2_algeria = new_co2_dataframe[\n",
    "    (new_co2_dataframe['country_name'] == 'Algeria') &\n",
    "    (new_co2_dataframe['year'].between(1960, 2023))\n",
    "]\n",
    "\n",
    "methane_algeria = new_methane_dataframe[\n",
    "    (new_methane_dataframe['Country'] == 'Algeria') &\n",
    "    (new_methane_dataframe['Year'].between(1960, 2023))\n",
    "]\n",
    "\n",
    "temperature_algeria = new_temperature_dataframe[\n",
    "    (new_temperature_dataframe['Area'] == 'Algeria') &\n",
    "    (new_temperature_dataframe['Year'].between(1960, 2023)) &\n",
    "    (new_temperature_dataframe['Months'] == 'Meteorological year')\n",
    "]\n",
    "\n",
    "chart1.plot(co2_algeria['year'], co2_algeria['z-score'], label='CO2', color='blue')\n",
    "chart1.plot(methane_algeria['Year'], methane_algeria['z-score'], label='Methane', color='green')\n",
    "chart1.plot(temperature_algeria['Year'], temperature_algeria['Temperature'], label='Temperature', color='red')\n",
    "\n",
    "chart1.set_xlabel('Year')\n",
    "chart1.set_ylabel('Z-score')\n",
    "chart1.set_title('Z-scores of CO2 and methane emissions and temperature change in Algeria')\n",
    "chart1.legend()\n",
    "\n",
    "# Bahrain\n",
    "co2_bahrain = new_co2_dataframe[\n",
    "    (new_co2_dataframe['country_name'] == 'Bahrain') &\n",
    "    (new_co2_dataframe['year'].between(1960, 2023))\n",
    "]\n",
    "\n",
    "methane_bahrain = new_methane_dataframe[\n",
    "    (new_methane_dataframe['Country'] == 'Bahrain') &\n",
    "    (new_methane_dataframe['Year'].between(1960, 2023))\n",
    "]\n",
    "\n",
    "temperature_bahrain = new_temperature_dataframe[\n",
    "    (new_temperature_dataframe['Area'] == 'Bahrain') &\n",
    "    (new_temperature_dataframe['Year'].between(1960, 2023)) &\n",
    "    (new_temperature_dataframe['Months'] == 'Meteorological year')\n",
    "]\n",
    "\n",
    "chart2.plot(co2_bahrain['year'], co2_bahrain['z-score'], label='CO2', color='blue')\n",
    "chart2.plot(methane_bahrain['Year'], methane_bahrain['z-score'], label='Methane', color='green')\n",
    "chart2.plot(temperature_bahrain['Year'], temperature_bahrain['Temperature'], label='Temperature', color='red')\n",
    "\n",
    "chart2.set_xlabel('Year')\n",
    "chart2.set_ylabel('Z-score')\n",
    "chart2.set_title('Z-scores of CO2 and methane emissions and temperature change in Bahrain')\n",
    "chart2.legend()\n",
    "\n",
    "captiontext = '''These are two line charts that each contain three lines: CO2 emissions, methane emissions, \n",
    "and temperature change. The x-axis represents the years from 1960 to 2020, with methane emissions data starting from 1990.\n",
    "The y-axis represents the z-score, which is used to normalize the different values in the datasets,\n",
    "ranging between -1.5 and 2.5. As you can see in both Algeria and Bahrain, the temperature rises slowly but surely with the CO2 and methane emissions.\n",
    "Thus, we can conclude that these emissions are contributing factors to climate change.'''\n",
    "\n",
    "fig.text(0.5, -0.15, captiontext, horizontalalignment='center', fontsize=11)\n",
    "\n",
    "plt.tight_layout()\n",
    "plt.show()"
   ]
  },
  {
   "cell_type": "code",
   "execution_count": 13,
   "metadata": {
    "tags": [
     "hide-input"
    ]
   },
   "outputs": [
    {
     "data": {
      "application/vnd.plotly.v1+json": {
       "config": {
        "plotlyServerURL": "https://plot.ly"
       },
       "data": [
        {
         "hovertemplate": "<b>CO2: %{x}</b><br><b>Methane: %{y}</b><br><b>Temperature Z-Score: %{marker.size}</b><br>",
         "marker": {
          "cmax": 1.579,
          "cmin": -0.411,
          "color": [
           0.264,
           -0.138,
           0.291,
           -0.021,
           0.081,
           0.185,
           -0.278,
           -0.411,
           -0.216,
           -0.309,
           0.035,
           0.013,
           0.411,
           -0.01,
           0.276,
           -0.395,
           -0.058,
           0.237,
           0.293,
           0.247,
           0.217,
           0.376,
           0.127,
           -0.144,
           -0.121,
           -0.038,
           0.434,
           0.399,
           0.426,
           0.847,
           0.514,
           0.122,
           0.273,
           0.725,
           0.567,
           0.2,
           0.728,
           1.269,
           1.228,
           0.573,
           1.037,
           1.132,
           0.823,
           1.111,
           1.049,
           1.228,
           1.531,
           1.088,
           1.333,
           0.961,
           0.788,
           0.626,
           1.082,
           1.069,
           1.286,
           1.321,
           1.579,
           1.389,
           1.423
          ],
          "colorscale": [
           [
            0,
            "#440154"
           ],
           [
            0.1111111111111111,
            "#482878"
           ],
           [
            0.2222222222222222,
            "#3e4989"
           ],
           [
            0.3333333333333333,
            "#31688e"
           ],
           [
            0.4444444444444444,
            "#26828e"
           ],
           [
            0.5555555555555556,
            "#1f9e89"
           ],
           [
            0.6666666666666666,
            "#35b779"
           ],
           [
            0.7777777777777778,
            "#6ece58"
           ],
           [
            0.8888888888888888,
            "#b5de2b"
           ],
           [
            1,
            "#fde725"
           ]
          ],
          "showscale": true,
          "size": [
           2.64,
           1.3800000000000001,
           2.9099999999999997,
           0.21000000000000002,
           0.81,
           1.85,
           2.7800000000000002,
           4.109999999999999,
           2.16,
           3.09,
           0.35000000000000003,
           0.13,
           4.109999999999999,
           0.1,
           2.7600000000000002,
           3.95,
           0.5800000000000001,
           2.37,
           2.9299999999999997,
           2.4699999999999998,
           2.17,
           3.76,
           1.27,
           1.44,
           1.21,
           0.38,
           4.34,
           3.99,
           4.26,
           8.469999999999999,
           5.140000000000001,
           1.22,
           2.7300000000000004,
           7.25,
           5.67,
           2,
           7.279999999999999,
           12.69,
           12.28,
           5.7299999999999995,
           10.37,
           11.319999999999999,
           8.23,
           11.11,
           10.489999999999998,
           12.28,
           15.309999999999999,
           10.88,
           13.33,
           9.61,
           7.880000000000001,
           6.26,
           10.82,
           10.69,
           12.86,
           13.209999999999999,
           15.79,
           13.89,
           14.23
          ],
          "sizemode": "diameter",
          "sizeref": 0.1
         },
         "mode": "markers",
         "text": [
          -0.852486966412867,
          -0.9216296465459084,
          -0.9554081676969256,
          -0.9565158965033425,
          -0.9564471485694106,
          -0.9446391364978094,
          -0.930482606296088,
          -0.9575626392393356,
          -0.9467692136120498,
          -0.9140185849570768,
          -0.8552413191207136,
          -0.8234864266701067,
          -0.8068727122491471,
          -0.7956945199593723,
          -0.7898065920694107,
          -0.7421531854782633,
          -0.7268567701784477,
          -0.6923497426952826,
          -0.646430558179446,
          -0.6365452705826458,
          -0.6449114506070829,
          -0.6496561668860181,
          -0.610721550690119,
          -0.5844842343563577,
          -0.5397681386843267,
          -0.4939132667518456,
          -0.4629445401908778,
          -0.4203873514118328,
          -0.372068642234249,
          -0.3602639566755802,
          -0.4313785211634289,
          -0.3924255718021298,
          -0.3573491696447731,
          -0.2886387311773924,
          -0.2516694128346474,
          -0.1546196604863402,
          -0.1600958125817689,
          -0.1408642679506664,
          -0.1099698196022429,
          -0.134952684656043,
          -0.0766321184138931,
          -0.0214321424326391,
          0.0635313880279817,
          0.2467300231354339,
          0.4610920973329345,
          0.6727026063760184,
          0.8580149679671919,
          1.0260520892835086,
          1.0884699185333158,
          1.2455486171322674,
          1.474104668822508,
          1.718318035752078,
          1.7967320320350213,
          1.930596946568828,
          1.9372794878270867,
          1.8932615324527584,
          1.897362008277424,
          1.964294317896487,
          2.087339893978622,
          2.149113683348435
         ],
         "type": "scatter",
         "x": [
          -0.852486966412867,
          -0.9216296465459084,
          -0.9554081676969256,
          -0.9565158965033425,
          -0.9564471485694106,
          -0.9446391364978094,
          -0.930482606296088,
          -0.9575626392393356,
          -0.9467692136120498,
          -0.9140185849570768,
          -0.8552413191207136,
          -0.8234864266701067,
          -0.8068727122491471,
          -0.7956945199593723,
          -0.7898065920694107,
          -0.7421531854782633,
          -0.7268567701784477,
          -0.6923497426952826,
          -0.646430558179446,
          -0.6365452705826458,
          -0.6449114506070829,
          -0.6496561668860181,
          -0.610721550690119,
          -0.5844842343563577,
          -0.5397681386843267,
          -0.4939132667518456,
          -0.4629445401908778,
          -0.4203873514118328,
          -0.372068642234249,
          -0.3602639566755802,
          -0.4313785211634289,
          -0.3924255718021298,
          -0.3573491696447731,
          -0.2886387311773924,
          -0.2516694128346474,
          -0.1546196604863402,
          -0.1600958125817689,
          -0.1408642679506664,
          -0.1099698196022429,
          -0.134952684656043,
          -0.0766321184138931,
          -0.0214321424326391,
          0.0635313880279817,
          0.2467300231354339,
          0.4610920973329345,
          0.6727026063760184,
          0.8580149679671919,
          1.0260520892835086,
          1.0884699185333158,
          1.2455486171322674,
          1.474104668822508,
          1.718318035752078,
          1.7967320320350213,
          1.930596946568828,
          1.9372794878270867,
          1.8932615324527584,
          1.897362008277424,
          1.964294317896487,
          2.087339893978622,
          2.149113683348435
         ],
         "y": [
          -1.1465699056772678,
          -1.0765730787449632,
          -1.0293403416398186,
          -0.9968987643499054,
          -0.9084267340796163,
          -0.7720621380135396,
          -0.6323434127700317,
          -0.8090125446895088,
          -0.6874940941628842,
          -0.6222810252377364,
          -0.6007266213434214,
          -0.630638855319206,
          -0.6541727452854481,
          -0.6760570635250847,
          -0.6002317498254394,
          -0.5564081276219468,
          -0.305178353659889,
          -0.09513288713875573,
          0.19090285025468387,
          0.44015313814481405,
          0.6871490113419165,
          0.9200685391386508,
          1.1670094266115325,
          1.31503099621229,
          1.4700357527890116,
          1.6421960553224326,
          1.6676544456363822,
          1.6510487569218844,
          1.6482994707108747
         ]
        }
       ],
       "layout": {
        "annotations": [
         {
          "font": {
           "color": "black",
           "size": 12
          },
          "showarrow": false,
          "text": "Caption: Bubble chart showing the relationship between CO2 and Methane z-scores in China, <br>with the size of the dots representing the intensity of the Temperature Z-Scores. <br>The blue dots represent a higher temperature than the purple dots, <br>indicating a relationship between higher temperatures and rising CO2 and methane levels.",
          "x": 0,
          "xref": "paper",
          "y": -0.42,
          "yref": "paper"
         }
        ],
        "height": 500,
        "hovermode": "closest",
        "margin": {
         "b": 130,
         "l": 100,
         "r": 80,
         "t": 100
        },
        "template": {
         "data": {
          "bar": [
           {
            "error_x": {
             "color": "#2a3f5f"
            },
            "error_y": {
             "color": "#2a3f5f"
            },
            "marker": {
             "line": {
              "color": "#E5ECF6",
              "width": 0.5
             },
             "pattern": {
              "fillmode": "overlay",
              "size": 10,
              "solidity": 0.2
             }
            },
            "type": "bar"
           }
          ],
          "barpolar": [
           {
            "marker": {
             "line": {
              "color": "#E5ECF6",
              "width": 0.5
             },
             "pattern": {
              "fillmode": "overlay",
              "size": 10,
              "solidity": 0.2
             }
            },
            "type": "barpolar"
           }
          ],
          "carpet": [
           {
            "aaxis": {
             "endlinecolor": "#2a3f5f",
             "gridcolor": "white",
             "linecolor": "white",
             "minorgridcolor": "white",
             "startlinecolor": "#2a3f5f"
            },
            "baxis": {
             "endlinecolor": "#2a3f5f",
             "gridcolor": "white",
             "linecolor": "white",
             "minorgridcolor": "white",
             "startlinecolor": "#2a3f5f"
            },
            "type": "carpet"
           }
          ],
          "choropleth": [
           {
            "colorbar": {
             "outlinewidth": 0,
             "ticks": ""
            },
            "type": "choropleth"
           }
          ],
          "contour": [
           {
            "colorbar": {
             "outlinewidth": 0,
             "ticks": ""
            },
            "colorscale": [
             [
              0,
              "#0d0887"
             ],
             [
              0.1111111111111111,
              "#46039f"
             ],
             [
              0.2222222222222222,
              "#7201a8"
             ],
             [
              0.3333333333333333,
              "#9c179e"
             ],
             [
              0.4444444444444444,
              "#bd3786"
             ],
             [
              0.5555555555555556,
              "#d8576b"
             ],
             [
              0.6666666666666666,
              "#ed7953"
             ],
             [
              0.7777777777777778,
              "#fb9f3a"
             ],
             [
              0.8888888888888888,
              "#fdca26"
             ],
             [
              1,
              "#f0f921"
             ]
            ],
            "type": "contour"
           }
          ],
          "contourcarpet": [
           {
            "colorbar": {
             "outlinewidth": 0,
             "ticks": ""
            },
            "type": "contourcarpet"
           }
          ],
          "heatmap": [
           {
            "colorbar": {
             "outlinewidth": 0,
             "ticks": ""
            },
            "colorscale": [
             [
              0,
              "#0d0887"
             ],
             [
              0.1111111111111111,
              "#46039f"
             ],
             [
              0.2222222222222222,
              "#7201a8"
             ],
             [
              0.3333333333333333,
              "#9c179e"
             ],
             [
              0.4444444444444444,
              "#bd3786"
             ],
             [
              0.5555555555555556,
              "#d8576b"
             ],
             [
              0.6666666666666666,
              "#ed7953"
             ],
             [
              0.7777777777777778,
              "#fb9f3a"
             ],
             [
              0.8888888888888888,
              "#fdca26"
             ],
             [
              1,
              "#f0f921"
             ]
            ],
            "type": "heatmap"
           }
          ],
          "heatmapgl": [
           {
            "colorbar": {
             "outlinewidth": 0,
             "ticks": ""
            },
            "colorscale": [
             [
              0,
              "#0d0887"
             ],
             [
              0.1111111111111111,
              "#46039f"
             ],
             [
              0.2222222222222222,
              "#7201a8"
             ],
             [
              0.3333333333333333,
              "#9c179e"
             ],
             [
              0.4444444444444444,
              "#bd3786"
             ],
             [
              0.5555555555555556,
              "#d8576b"
             ],
             [
              0.6666666666666666,
              "#ed7953"
             ],
             [
              0.7777777777777778,
              "#fb9f3a"
             ],
             [
              0.8888888888888888,
              "#fdca26"
             ],
             [
              1,
              "#f0f921"
             ]
            ],
            "type": "heatmapgl"
           }
          ],
          "histogram": [
           {
            "marker": {
             "pattern": {
              "fillmode": "overlay",
              "size": 10,
              "solidity": 0.2
             }
            },
            "type": "histogram"
           }
          ],
          "histogram2d": [
           {
            "colorbar": {
             "outlinewidth": 0,
             "ticks": ""
            },
            "colorscale": [
             [
              0,
              "#0d0887"
             ],
             [
              0.1111111111111111,
              "#46039f"
             ],
             [
              0.2222222222222222,
              "#7201a8"
             ],
             [
              0.3333333333333333,
              "#9c179e"
             ],
             [
              0.4444444444444444,
              "#bd3786"
             ],
             [
              0.5555555555555556,
              "#d8576b"
             ],
             [
              0.6666666666666666,
              "#ed7953"
             ],
             [
              0.7777777777777778,
              "#fb9f3a"
             ],
             [
              0.8888888888888888,
              "#fdca26"
             ],
             [
              1,
              "#f0f921"
             ]
            ],
            "type": "histogram2d"
           }
          ],
          "histogram2dcontour": [
           {
            "colorbar": {
             "outlinewidth": 0,
             "ticks": ""
            },
            "colorscale": [
             [
              0,
              "#0d0887"
             ],
             [
              0.1111111111111111,
              "#46039f"
             ],
             [
              0.2222222222222222,
              "#7201a8"
             ],
             [
              0.3333333333333333,
              "#9c179e"
             ],
             [
              0.4444444444444444,
              "#bd3786"
             ],
             [
              0.5555555555555556,
              "#d8576b"
             ],
             [
              0.6666666666666666,
              "#ed7953"
             ],
             [
              0.7777777777777778,
              "#fb9f3a"
             ],
             [
              0.8888888888888888,
              "#fdca26"
             ],
             [
              1,
              "#f0f921"
             ]
            ],
            "type": "histogram2dcontour"
           }
          ],
          "mesh3d": [
           {
            "colorbar": {
             "outlinewidth": 0,
             "ticks": ""
            },
            "type": "mesh3d"
           }
          ],
          "parcoords": [
           {
            "line": {
             "colorbar": {
              "outlinewidth": 0,
              "ticks": ""
             }
            },
            "type": "parcoords"
           }
          ],
          "pie": [
           {
            "automargin": true,
            "type": "pie"
           }
          ],
          "scatter": [
           {
            "fillpattern": {
             "fillmode": "overlay",
             "size": 10,
             "solidity": 0.2
            },
            "type": "scatter"
           }
          ],
          "scatter3d": [
           {
            "line": {
             "colorbar": {
              "outlinewidth": 0,
              "ticks": ""
             }
            },
            "marker": {
             "colorbar": {
              "outlinewidth": 0,
              "ticks": ""
             }
            },
            "type": "scatter3d"
           }
          ],
          "scattercarpet": [
           {
            "marker": {
             "colorbar": {
              "outlinewidth": 0,
              "ticks": ""
             }
            },
            "type": "scattercarpet"
           }
          ],
          "scattergeo": [
           {
            "marker": {
             "colorbar": {
              "outlinewidth": 0,
              "ticks": ""
             }
            },
            "type": "scattergeo"
           }
          ],
          "scattergl": [
           {
            "marker": {
             "colorbar": {
              "outlinewidth": 0,
              "ticks": ""
             }
            },
            "type": "scattergl"
           }
          ],
          "scattermapbox": [
           {
            "marker": {
             "colorbar": {
              "outlinewidth": 0,
              "ticks": ""
             }
            },
            "type": "scattermapbox"
           }
          ],
          "scatterpolar": [
           {
            "marker": {
             "colorbar": {
              "outlinewidth": 0,
              "ticks": ""
             }
            },
            "type": "scatterpolar"
           }
          ],
          "scatterpolargl": [
           {
            "marker": {
             "colorbar": {
              "outlinewidth": 0,
              "ticks": ""
             }
            },
            "type": "scatterpolargl"
           }
          ],
          "scatterternary": [
           {
            "marker": {
             "colorbar": {
              "outlinewidth": 0,
              "ticks": ""
             }
            },
            "type": "scatterternary"
           }
          ],
          "surface": [
           {
            "colorbar": {
             "outlinewidth": 0,
             "ticks": ""
            },
            "colorscale": [
             [
              0,
              "#0d0887"
             ],
             [
              0.1111111111111111,
              "#46039f"
             ],
             [
              0.2222222222222222,
              "#7201a8"
             ],
             [
              0.3333333333333333,
              "#9c179e"
             ],
             [
              0.4444444444444444,
              "#bd3786"
             ],
             [
              0.5555555555555556,
              "#d8576b"
             ],
             [
              0.6666666666666666,
              "#ed7953"
             ],
             [
              0.7777777777777778,
              "#fb9f3a"
             ],
             [
              0.8888888888888888,
              "#fdca26"
             ],
             [
              1,
              "#f0f921"
             ]
            ],
            "type": "surface"
           }
          ],
          "table": [
           {
            "cells": {
             "fill": {
              "color": "#EBF0F8"
             },
             "line": {
              "color": "white"
             }
            },
            "header": {
             "fill": {
              "color": "#C8D4E3"
             },
             "line": {
              "color": "white"
             }
            },
            "type": "table"
           }
          ]
         },
         "layout": {
          "annotationdefaults": {
           "arrowcolor": "#2a3f5f",
           "arrowhead": 0,
           "arrowwidth": 1
          },
          "autotypenumbers": "strict",
          "coloraxis": {
           "colorbar": {
            "outlinewidth": 0,
            "ticks": ""
           }
          },
          "colorscale": {
           "diverging": [
            [
             0,
             "#8e0152"
            ],
            [
             0.1,
             "#c51b7d"
            ],
            [
             0.2,
             "#de77ae"
            ],
            [
             0.3,
             "#f1b6da"
            ],
            [
             0.4,
             "#fde0ef"
            ],
            [
             0.5,
             "#f7f7f7"
            ],
            [
             0.6,
             "#e6f5d0"
            ],
            [
             0.7,
             "#b8e186"
            ],
            [
             0.8,
             "#7fbc41"
            ],
            [
             0.9,
             "#4d9221"
            ],
            [
             1,
             "#276419"
            ]
           ],
           "sequential": [
            [
             0,
             "#0d0887"
            ],
            [
             0.1111111111111111,
             "#46039f"
            ],
            [
             0.2222222222222222,
             "#7201a8"
            ],
            [
             0.3333333333333333,
             "#9c179e"
            ],
            [
             0.4444444444444444,
             "#bd3786"
            ],
            [
             0.5555555555555556,
             "#d8576b"
            ],
            [
             0.6666666666666666,
             "#ed7953"
            ],
            [
             0.7777777777777778,
             "#fb9f3a"
            ],
            [
             0.8888888888888888,
             "#fdca26"
            ],
            [
             1,
             "#f0f921"
            ]
           ],
           "sequentialminus": [
            [
             0,
             "#0d0887"
            ],
            [
             0.1111111111111111,
             "#46039f"
            ],
            [
             0.2222222222222222,
             "#7201a8"
            ],
            [
             0.3333333333333333,
             "#9c179e"
            ],
            [
             0.4444444444444444,
             "#bd3786"
            ],
            [
             0.5555555555555556,
             "#d8576b"
            ],
            [
             0.6666666666666666,
             "#ed7953"
            ],
            [
             0.7777777777777778,
             "#fb9f3a"
            ],
            [
             0.8888888888888888,
             "#fdca26"
            ],
            [
             1,
             "#f0f921"
            ]
           ]
          },
          "colorway": [
           "#636efa",
           "#EF553B",
           "#00cc96",
           "#ab63fa",
           "#FFA15A",
           "#19d3f3",
           "#FF6692",
           "#B6E880",
           "#FF97FF",
           "#FECB52"
          ],
          "font": {
           "color": "#2a3f5f"
          },
          "geo": {
           "bgcolor": "white",
           "lakecolor": "white",
           "landcolor": "#E5ECF6",
           "showlakes": true,
           "showland": true,
           "subunitcolor": "white"
          },
          "hoverlabel": {
           "align": "left"
          },
          "hovermode": "closest",
          "mapbox": {
           "style": "light"
          },
          "paper_bgcolor": "white",
          "plot_bgcolor": "#E5ECF6",
          "polar": {
           "angularaxis": {
            "gridcolor": "white",
            "linecolor": "white",
            "ticks": ""
           },
           "bgcolor": "#E5ECF6",
           "radialaxis": {
            "gridcolor": "white",
            "linecolor": "white",
            "ticks": ""
           }
          },
          "scene": {
           "xaxis": {
            "backgroundcolor": "#E5ECF6",
            "gridcolor": "white",
            "gridwidth": 2,
            "linecolor": "white",
            "showbackground": true,
            "ticks": "",
            "zerolinecolor": "white"
           },
           "yaxis": {
            "backgroundcolor": "#E5ECF6",
            "gridcolor": "white",
            "gridwidth": 2,
            "linecolor": "white",
            "showbackground": true,
            "ticks": "",
            "zerolinecolor": "white"
           },
           "zaxis": {
            "backgroundcolor": "#E5ECF6",
            "gridcolor": "white",
            "gridwidth": 2,
            "linecolor": "white",
            "showbackground": true,
            "ticks": "",
            "zerolinecolor": "white"
           }
          },
          "shapedefaults": {
           "line": {
            "color": "#2a3f5f"
           }
          },
          "ternary": {
           "aaxis": {
            "gridcolor": "white",
            "linecolor": "white",
            "ticks": ""
           },
           "baxis": {
            "gridcolor": "white",
            "linecolor": "white",
            "ticks": ""
           },
           "bgcolor": "#E5ECF6",
           "caxis": {
            "gridcolor": "white",
            "linecolor": "white",
            "ticks": ""
           }
          },
          "title": {
           "x": 0.05
          },
          "xaxis": {
           "automargin": true,
           "gridcolor": "white",
           "linecolor": "white",
           "ticks": "",
           "title": {
            "standoff": 15
           },
           "zerolinecolor": "white",
           "zerolinewidth": 2
          },
          "yaxis": {
           "automargin": true,
           "gridcolor": "white",
           "linecolor": "white",
           "ticks": "",
           "title": {
            "standoff": 15
           },
           "zerolinecolor": "white",
           "zerolinewidth": 2
          }
         }
        },
        "title": {
         "text": "CO2, Methane, and Temperature Z-Scores in China"
        },
        "width": 780,
        "xaxis": {
         "title": {
          "text": "CO2"
         }
        },
        "yaxis": {
         "title": {
          "text": "Methane"
         }
        }
       }
      }
     },
     "metadata": {},
     "output_type": "display_data"
    }
   ],
   "source": [
    "# Daniel\n",
    "\n",
    "# China\n",
    "co2_china = new_co2_dataframe[\n",
    "    (new_co2_dataframe['country_name'] == 'China') &\n",
    "    (new_co2_dataframe['year'].between(1960, 2023))\n",
    "]\n",
    "\n",
    "methane_china = new_methane_dataframe[\n",
    "    (new_methane_dataframe['Country'] == 'China') &\n",
    "    (new_methane_dataframe['Year'].between(1960, 2023))\n",
    "]\n",
    "\n",
    "temperature_china = new_temperature_dataframe[\n",
    "    (new_temperature_dataframe['Area'] == 'China') &\n",
    "    (new_temperature_dataframe['Year'].between(1960, 2023)) &\n",
    "    (new_temperature_dataframe['Months'] == 'Meteorological year')\n",
    "]\n",
    "\n",
    "trace = go.Scatter(\n",
    "    x=co2_china['z-score'],\n",
    "    y=methane_china['z-score'],\n",
    "    mode='markers',\n",
    "    marker=dict(\n",
    "        size=abs(temperature_china['Temperature']) * 10,\n",
    "        sizemode='diameter',\n",
    "        sizeref=0.1,\n",
    "        color=temperature_china['Temperature'],\n",
    "        colorscale='Viridis',\n",
    "        showscale=True,\n",
    "        cmin=temperature_china['Temperature'].min(),\n",
    "        cmax=temperature_china['Temperature'].max()\n",
    "    ),\n",
    "    text=co2_china['z-score'],\n",
    "    hovertemplate=\n",
    "    '<b>CO2: %{x}</b><br>'+\n",
    "    '<b>Methane: %{y}</b><br>'+\n",
    "    '<b>Temperature Z-Score: %{marker.size}</b><br>',\n",
    ")\n",
    "\n",
    "layout = go.Layout(\n",
    "    title='CO2, Methane, and Temperature Z-Scores in China',\n",
    "    xaxis=dict(title='CO2'),\n",
    "    yaxis=dict(title='Methane'),\n",
    "    hovermode='closest',\n",
    "    margin=dict(\n",
    "        l=100,\n",
    "        r=80,\n",
    "        t=100,\n",
    "        b=130 \n",
    "    )\n",
    ")\n",
    "\n",
    "fig = go.Figure(data=[trace], layout=layout)\n",
    "\n",
    "fig.update_layout(\n",
    "    annotations=[\n",
    "        dict(\n",
    "            text='Caption: Bubble chart showing the relationship between CO2 and Methane z-scores in China, <br>'+ \n",
    "            'with the size of the dots representing the intensity of the Temperature Z-Scores. <br>'+\n",
    "            'The blue dots represent a higher temperature than the purple dots, <br>'+\n",
    "            'indicating a relationship between higher temperatures and rising CO2 and methane levels.',\n",
    "            xref='paper',\n",
    "            yref='paper',\n",
    "            x=0,\n",
    "            y=-0.42,\n",
    "            showarrow=False,\n",
    "            font=dict(\n",
    "                size=12,\n",
    "                color='black'\n",
    "            )\n",
    "        )\n",
    "    ],\n",
    "    height=500, \n",
    "    width=780  \n",
    ")\n",
    "\n",
    "\n",
    "fig.show()"
   ]
  },
  {
   "attachments": {},
   "cell_type": "markdown",
   "metadata": {},
   "source": [
    "# Greenhouse Gas Emissions do not have an influence on global warming"
   ]
  },
  {
   "cell_type": "code",
   "execution_count": 14,
   "metadata": {
    "tags": [
     "hide-input"
    ]
   },
   "outputs": [
    {
     "data": {
      "image/png": "[encoded data removed]",
      "text/plain": [
       "<Figure size 1500x600 with 2 Axes>"
      ]
     },
     "metadata": {},
     "output_type": "display_data"
    }
   ],
   "source": [
    "# Chris\n",
    "\n",
    "fig, (chart1, chart2) = plt.subplots(1, 2, figsize=(15, 6))\n",
    "\n",
    "# Bulgaria\n",
    "co2_bulgaria = new_co2_dataframe[\n",
    "    (new_co2_dataframe['country_name'] == 'Bulgaria') &\n",
    "    (new_co2_dataframe['year'].between(1960, 2023))\n",
    "]\n",
    "\n",
    "methane_bulgaria = new_methane_dataframe[\n",
    "    (new_methane_dataframe['Country'] == 'Bulgaria') &\n",
    "    (new_methane_dataframe['Year'].between(1960, 2023))\n",
    "]\n",
    "\n",
    "temperature_bulgaria = new_temperature_dataframe[\n",
    "    (new_temperature_dataframe['Area'] == 'Bulgaria') &\n",
    "    (new_temperature_dataframe['Year'].between(1960, 2023)) &\n",
    "    (new_temperature_dataframe['Months'] == 'Meteorological year')\n",
    "]\n",
    "\n",
    "chart1.plot(co2_bulgaria['year'], co2_bulgaria['z-score'], label='CO2', color='blue')\n",
    "chart1.plot(methane_bulgaria['Year'], methane_bulgaria['z-score'], label='Methane', color='green')\n",
    "chart1.plot(temperature_bulgaria['Year'], temperature_bulgaria['Temperature'], label='Temperature', color='red')\n",
    "\n",
    "chart1.set_xlabel('Year')\n",
    "chart1.set_ylabel('Z-score')\n",
    "chart1.set_title('Z-scores of CO2 and methane emissions and temperature change in Bulgaria')\n",
    "chart1.legend()\n",
    "\n",
    "# Denmark\n",
    "co2_denmark = new_co2_dataframe[\n",
    "    (new_co2_dataframe['country_name'] == 'Denmark') &\n",
    "    (new_co2_dataframe['year'].between(1960, 2023))\n",
    "]\n",
    "\n",
    "methane_denmark = new_methane_dataframe[\n",
    "    (new_methane_dataframe['Country'] == 'Denmark') &\n",
    "    (new_methane_dataframe['Year'].between(1960, 2023))\n",
    "]\n",
    "\n",
    "temperature_denmark = new_temperature_dataframe[\n",
    "    (new_temperature_dataframe['Area'] == 'Denmark') &\n",
    "    (new_temperature_dataframe['Year'].between(1960, 2023)) &\n",
    "    (new_temperature_dataframe['Months'] == 'Meteorological year')\n",
    "]\n",
    "\n",
    "chart2.plot(co2_denmark['year'], co2_denmark['z-score'], label='CO2', color='blue')\n",
    "chart2.plot(methane_denmark['Year'], methane_denmark['z-score'], label='Methane', color='green')\n",
    "chart2.plot(temperature_denmark['Year'], temperature_denmark['Temperature'], label='Temperature', color='red')\n",
    "\n",
    "chart2.set_xlabel('Year')\n",
    "chart2.set_ylabel('Z-score')\n",
    "chart2.set_title('Z-scores of CO2 and methane emissions and temperature change in Denmark')\n",
    "chart2.legend()\n",
    "\n",
    "captiontext = '''These are two line charts that each contain three lines: CO2 emissions, methane emissions, \n",
    "and temperature change. The x-axis represents the years from 1960 to 2020, with methane emissions data starting from 1990.\n",
    "The y-axis represents the z-score, which is used to normalize the different values in the datasets,\n",
    "ranging between -2 and 2. As you can see in both Bulgaria and Denmark, the temperature keeps rising whilst the emissions are getting less.\n",
    "Thus, we can conclude that these emissions are not contributing factors to climate change.'''\n",
    "\n",
    "fig.text(0.5, -0.15, captiontext, horizontalalignment='center', fontsize=11)\n",
    "\n",
    "plt.tight_layout()\n",
    "plt.show()\n"
   ]
  },
  {
   "cell_type": "code",
   "execution_count": 15,
   "metadata": {
    "tags": [
     "hide-input"
    ]
   },
   "outputs": [
    {
     "data": {
      "application/vnd.plotly.v1+json": {
       "config": {
        "plotlyServerURL": "https://plot.ly"
       },
       "data": [
        {
         "hovertemplate": "<b>CO2: %{x}</b><br><b>Methane: %{y}</b><br><b>Temperature Z-Score: %{marker.size}</b><br>",
         "marker": {
          "cmax": 1.647,
          "cmin": -1.131,
          "color": [
           -0.08,
           -0.12,
           0.882,
           -0.727,
           -0.2,
           0.176,
           -0.361,
           -0.373,
           -0.491,
           0.858,
           0.617,
           -1.131,
           0.22,
           -0.487,
           -0.468,
           -0.292,
           0.529,
           0.137,
           0.334,
           0.583,
           0.469,
           -0.35,
           0.134,
           0.123,
           0.237,
           -0.105,
           0.349,
           0.872,
           -0.167,
           0.766,
           -0.178,
           -0.32,
           0.172,
           0.423,
           0.363,
           -0.106,
           0.48,
           0.669,
           1.178,
           0.996,
           1.315,
           1.317,
           0.598,
           1.317,
           0.386,
           1.647,
           0.616,
           0.671,
           0.841,
           1.564,
           1.342,
           0.102,
           1.237,
           0.474,
           1.096,
           1.473,
           1.483,
           1.524,
           0.893
          ],
          "colorscale": [
           [
            0,
            "#440154"
           ],
           [
            0.1111111111111111,
            "#482878"
           ],
           [
            0.2222222222222222,
            "#3e4989"
           ],
           [
            0.3333333333333333,
            "#31688e"
           ],
           [
            0.4444444444444444,
            "#26828e"
           ],
           [
            0.5555555555555556,
            "#1f9e89"
           ],
           [
            0.6666666666666666,
            "#35b779"
           ],
           [
            0.7777777777777778,
            "#6ece58"
           ],
           [
            0.8888888888888888,
            "#b5de2b"
           ],
           [
            1,
            "#fde725"
           ]
          ],
          "showscale": true,
          "size": [
           0.56,
           0.84,
           6.174,
           5.0889999999999995,
           1.4000000000000001,
           1.232,
           2.527,
           2.6109999999999998,
           3.437,
           6.006,
           4.319,
           7.917,
           1.54,
           3.409,
           3.2760000000000002,
           2.044,
           3.7030000000000003,
           0.9590000000000001,
           2.338,
           4.0809999999999995,
           3.283,
           2.4499999999999997,
           0.9380000000000001,
           0.861,
           1.6589999999999998,
           0.735,
           2.4429999999999996,
           6.104,
           1.169,
           5.362,
           1.246,
           2.24,
           1.204,
           2.961,
           2.541,
           0.742,
           3.36,
           4.683,
           8.245999999999999,
           6.9719999999999995,
           9.205,
           9.219,
           4.186,
           9.219,
           2.702,
           11.529,
           4.312,
           4.697,
           5.887,
           10.948,
           9.394,
           0.714,
           8.659,
           3.3179999999999996,
           7.672000000000001,
           10.311,
           10.381,
           10.668,
           6.251
          ],
          "sizemode": "diameter",
          "sizeref": 0.1
         },
         "mode": "markers",
         "text": [
          -1.0556799669404862,
          -1.0168060212784855,
          -0.9168444467190549,
          -0.9075887453709592,
          -0.8409476956646722,
          -0.7557952432621942,
          -0.7132190170609551,
          -0.6169597230407626,
          -0.646577967354668,
          -0.7891157681153378,
          -0.4207388544611394,
          -0.3078192980143751,
          -0.4910821847066647,
          -0.4373991168877112,
          -0.2967124563966606,
          -0.1911974610283725,
          -0.261540791273898,
          -0.0579153616157983,
          -0.1745371986018009,
          -0.133812112670181,
          -0.3763114879902813,
          -0.263391931543517,
          -0.2041554429157063,
          0.0087256880904888,
          0.164221470738492,
          0.5066824206180232,
          0.3215683936561145,
          0.3123126923080191,
          0.1827328734346829,
          0.1364543666942057,
          -0.0634097195908554,
          -0.1391313013860184,
          -0.5631721594389318,
          -0.5884126867039862,
          -0.6136532139690405,
          -0.6388937412340949,
          -0.6691823739521601,
          -0.7095672175762471,
          -0.7398558502943123,
          -0.8559622757135624,
          -0.8812028029786168,
          -0.8963471193376494,
          -0.744903970190069,
          -0.6489899376973709,
          -0.744903970190069,
          -0.4824024962620025,
          -0.3763922624917764,
          -0.3713441618530175,
          0.532266694978936,
          1.198616701432846,
          2.324344227082765,
          3.243099506187218,
          2.814010350111352,
          1.7589562334041031,
          1.198616701432846,
          1.7387638308490576,
          1.410637168973288,
          1.1481356950452215,
          1.7993412792266312,
          1.804389259509177
         ],
         "type": "scatter",
         "x": [
          -1.0556799669404862,
          -1.0168060212784855,
          -0.9168444467190549,
          -0.9075887453709592,
          -0.8409476956646722,
          -0.7557952432621942,
          -0.7132190170609551,
          -0.6169597230407626,
          -0.646577967354668,
          -0.7891157681153378,
          -0.4207388544611394,
          -0.3078192980143751,
          -0.4910821847066647,
          -0.4373991168877112,
          -0.2967124563966606,
          -0.1911974610283725,
          -0.261540791273898,
          -0.0579153616157983,
          -0.1745371986018009,
          -0.133812112670181,
          -0.3763114879902813,
          -0.263391931543517,
          -0.2041554429157063,
          0.0087256880904888,
          0.164221470738492,
          0.5066824206180232,
          0.3215683936561145,
          0.3123126923080191,
          0.1827328734346829,
          0.1364543666942057,
          -0.0634097195908554,
          -0.1391313013860184,
          -0.5631721594389318,
          -0.5884126867039862,
          -0.6136532139690405,
          -0.6388937412340949,
          -0.6691823739521601,
          -0.7095672175762471,
          -0.7398558502943123,
          -0.8559622757135624,
          -0.8812028029786168,
          -0.8963471193376494,
          -0.744903970190069,
          -0.6489899376973709,
          -0.744903970190069,
          -0.4824024962620025,
          -0.3763922624917764,
          -0.3713441618530175,
          0.532266694978936,
          1.198616701432846,
          2.324344227082765,
          3.243099506187218,
          2.814010350111352,
          1.7589562334041031,
          1.198616701432846,
          1.7387638308490576,
          1.410637168973288,
          1.1481356950452215,
          1.7993412792266312,
          1.804389259509177
         ],
         "y": [
          -0.7225642074613481,
          -0.7187106025591158,
          -0.7217934864809018,
          -0.7256470913831341,
          -0.7229495679515714,
          -0.7160130791275531,
          -0.6855696003999169,
          -0.6597504475549596,
          -0.6404824230437974,
          -0.6108096652966076,
          -0.6601358080451828,
          -0.7075351483426418,
          -0.6370141786317881,
          -0.6258387244153141,
          -0.6266094453957605,
          -0.6185168751010724,
          -0.4944307972491879,
          -0.37073007988752665,
          -0.21388836036666647,
          -0.08826084055388912,
          0.08823426396835655,
          0.45317064820976816,
          0.811555904117385,
          1.171867962476118,
          1.5433554750513245,
          1.883243427428226,
          1.943359663903052,
          1.9996222954756453,
          2.0728407886180618
         ]
        }
       ],
       "layout": {
        "annotations": [
         {
          "font": {
           "color": "black",
           "size": 12
          },
          "showarrow": false,
          "text": "Caption: Bubble chart showing the relationship between CO2 and Methane z-scores in Afghanistan, <br>with the size of the dots representing the intensity of the Temperature Z-Scores.  <br>The green dots represent a higher temperature than the purple dots, <br>you can see big green dots in the lower left and upper right corners, <br>indicating that there is no relationship between higher temperatures and rising CO2 and methane levels.",
          "x": 0,
          "xref": "paper",
          "y": -0.46,
          "yref": "paper"
         }
        ],
        "height": 500,
        "hovermode": "closest",
        "margin": {
         "b": 130,
         "l": 100,
         "r": 80,
         "t": 100
        },
        "template": {
         "data": {
          "bar": [
           {
            "error_x": {
             "color": "#2a3f5f"
            },
            "error_y": {
             "color": "#2a3f5f"
            },
            "marker": {
             "line": {
              "color": "#E5ECF6",
              "width": 0.5
             },
             "pattern": {
              "fillmode": "overlay",
              "size": 10,
              "solidity": 0.2
             }
            },
            "type": "bar"
           }
          ],
          "barpolar": [
           {
            "marker": {
             "line": {
              "color": "#E5ECF6",
              "width": 0.5
             },
             "pattern": {
              "fillmode": "overlay",
              "size": 10,
              "solidity": 0.2
             }
            },
            "type": "barpolar"
           }
          ],
          "carpet": [
           {
            "aaxis": {
             "endlinecolor": "#2a3f5f",
             "gridcolor": "white",
             "linecolor": "white",
             "minorgridcolor": "white",
             "startlinecolor": "#2a3f5f"
            },
            "baxis": {
             "endlinecolor": "#2a3f5f",
             "gridcolor": "white",
             "linecolor": "white",
             "minorgridcolor": "white",
             "startlinecolor": "#2a3f5f"
            },
            "type": "carpet"
           }
          ],
          "choropleth": [
           {
            "colorbar": {
             "outlinewidth": 0,
             "ticks": ""
            },
            "type": "choropleth"
           }
          ],
          "contour": [
           {
            "colorbar": {
             "outlinewidth": 0,
             "ticks": ""
            },
            "colorscale": [
             [
              0,
              "#0d0887"
             ],
             [
              0.1111111111111111,
              "#46039f"
             ],
             [
              0.2222222222222222,
              "#7201a8"
             ],
             [
              0.3333333333333333,
              "#9c179e"
             ],
             [
              0.4444444444444444,
              "#bd3786"
             ],
             [
              0.5555555555555556,
              "#d8576b"
             ],
             [
              0.6666666666666666,
              "#ed7953"
             ],
             [
              0.7777777777777778,
              "#fb9f3a"
             ],
             [
              0.8888888888888888,
              "#fdca26"
             ],
             [
              1,
              "#f0f921"
             ]
            ],
            "type": "contour"
           }
          ],
          "contourcarpet": [
           {
            "colorbar": {
             "outlinewidth": 0,
             "ticks": ""
            },
            "type": "contourcarpet"
           }
          ],
          "heatmap": [
           {
            "colorbar": {
             "outlinewidth": 0,
             "ticks": ""
            },
            "colorscale": [
             [
              0,
              "#0d0887"
             ],
             [
              0.1111111111111111,
              "#46039f"
             ],
             [
              0.2222222222222222,
              "#7201a8"
             ],
             [
              0.3333333333333333,
              "#9c179e"
             ],
             [
              0.4444444444444444,
              "#bd3786"
             ],
             [
              0.5555555555555556,
              "#d8576b"
             ],
             [
              0.6666666666666666,
              "#ed7953"
             ],
             [
              0.7777777777777778,
              "#fb9f3a"
             ],
             [
              0.8888888888888888,
              "#fdca26"
             ],
             [
              1,
              "#f0f921"
             ]
            ],
            "type": "heatmap"
           }
          ],
          "heatmapgl": [
           {
            "colorbar": {
             "outlinewidth": 0,
             "ticks": ""
            },
            "colorscale": [
             [
              0,
              "#0d0887"
             ],
             [
              0.1111111111111111,
              "#46039f"
             ],
             [
              0.2222222222222222,
              "#7201a8"
             ],
             [
              0.3333333333333333,
              "#9c179e"
             ],
             [
              0.4444444444444444,
              "#bd3786"
             ],
             [
              0.5555555555555556,
              "#d8576b"
             ],
             [
              0.6666666666666666,
              "#ed7953"
             ],
             [
              0.7777777777777778,
              "#fb9f3a"
             ],
             [
              0.8888888888888888,
              "#fdca26"
             ],
             [
              1,
              "#f0f921"
             ]
            ],
            "type": "heatmapgl"
           }
          ],
          "histogram": [
           {
            "marker": {
             "pattern": {
              "fillmode": "overlay",
              "size": 10,
              "solidity": 0.2
             }
            },
            "type": "histogram"
           }
          ],
          "histogram2d": [
           {
            "colorbar": {
             "outlinewidth": 0,
             "ticks": ""
            },
            "colorscale": [
             [
              0,
              "#0d0887"
             ],
             [
              0.1111111111111111,
              "#46039f"
             ],
             [
              0.2222222222222222,
              "#7201a8"
             ],
             [
              0.3333333333333333,
              "#9c179e"
             ],
             [
              0.4444444444444444,
              "#bd3786"
             ],
             [
              0.5555555555555556,
              "#d8576b"
             ],
             [
              0.6666666666666666,
              "#ed7953"
             ],
             [
              0.7777777777777778,
              "#fb9f3a"
             ],
             [
              0.8888888888888888,
              "#fdca26"
             ],
             [
              1,
              "#f0f921"
             ]
            ],
            "type": "histogram2d"
           }
          ],
          "histogram2dcontour": [
           {
            "colorbar": {
             "outlinewidth": 0,
             "ticks": ""
            },
            "colorscale": [
             [
              0,
              "#0d0887"
             ],
             [
              0.1111111111111111,
              "#46039f"
             ],
             [
              0.2222222222222222,
              "#7201a8"
             ],
             [
              0.3333333333333333,
              "#9c179e"
             ],
             [
              0.4444444444444444,
              "#bd3786"
             ],
             [
              0.5555555555555556,
              "#d8576b"
             ],
             [
              0.6666666666666666,
              "#ed7953"
             ],
             [
              0.7777777777777778,
              "#fb9f3a"
             ],
             [
              0.8888888888888888,
              "#fdca26"
             ],
             [
              1,
              "#f0f921"
             ]
            ],
            "type": "histogram2dcontour"
           }
          ],
          "mesh3d": [
           {
            "colorbar": {
             "outlinewidth": 0,
             "ticks": ""
            },
            "type": "mesh3d"
           }
          ],
          "parcoords": [
           {
            "line": {
             "colorbar": {
              "outlinewidth": 0,
              "ticks": ""
             }
            },
            "type": "parcoords"
           }
          ],
          "pie": [
           {
            "automargin": true,
            "type": "pie"
           }
          ],
          "scatter": [
           {
            "fillpattern": {
             "fillmode": "overlay",
             "size": 10,
             "solidity": 0.2
            },
            "type": "scatter"
           }
          ],
          "scatter3d": [
           {
            "line": {
             "colorbar": {
              "outlinewidth": 0,
              "ticks": ""
             }
            },
            "marker": {
             "colorbar": {
              "outlinewidth": 0,
              "ticks": ""
             }
            },
            "type": "scatter3d"
           }
          ],
          "scattercarpet": [
           {
            "marker": {
             "colorbar": {
              "outlinewidth": 0,
              "ticks": ""
             }
            },
            "type": "scattercarpet"
           }
          ],
          "scattergeo": [
           {
            "marker": {
             "colorbar": {
              "outlinewidth": 0,
              "ticks": ""
             }
            },
            "type": "scattergeo"
           }
          ],
          "scattergl": [
           {
            "marker": {
             "colorbar": {
              "outlinewidth": 0,
              "ticks": ""
             }
            },
            "type": "scattergl"
           }
          ],
          "scattermapbox": [
           {
            "marker": {
             "colorbar": {
              "outlinewidth": 0,
              "ticks": ""
             }
            },
            "type": "scattermapbox"
           }
          ],
          "scatterpolar": [
           {
            "marker": {
             "colorbar": {
              "outlinewidth": 0,
              "ticks": ""
             }
            },
            "type": "scatterpolar"
           }
          ],
          "scatterpolargl": [
           {
            "marker": {
             "colorbar": {
              "outlinewidth": 0,
              "ticks": ""
             }
            },
            "type": "scatterpolargl"
           }
          ],
          "scatterternary": [
           {
            "marker": {
             "colorbar": {
              "outlinewidth": 0,
              "ticks": ""
             }
            },
            "type": "scatterternary"
           }
          ],
          "surface": [
           {
            "colorbar": {
             "outlinewidth": 0,
             "ticks": ""
            },
            "colorscale": [
             [
              0,
              "#0d0887"
             ],
             [
              0.1111111111111111,
              "#46039f"
             ],
             [
              0.2222222222222222,
              "#7201a8"
             ],
             [
              0.3333333333333333,
              "#9c179e"
             ],
             [
              0.4444444444444444,
              "#bd3786"
             ],
             [
              0.5555555555555556,
              "#d8576b"
             ],
             [
              0.6666666666666666,
              "#ed7953"
             ],
             [
              0.7777777777777778,
              "#fb9f3a"
             ],
             [
              0.8888888888888888,
              "#fdca26"
             ],
             [
              1,
              "#f0f921"
             ]
            ],
            "type": "surface"
           }
          ],
          "table": [
           {
            "cells": {
             "fill": {
              "color": "#EBF0F8"
             },
             "line": {
              "color": "white"
             }
            },
            "header": {
             "fill": {
              "color": "#C8D4E3"
             },
             "line": {
              "color": "white"
             }
            },
            "type": "table"
           }
          ]
         },
         "layout": {
          "annotationdefaults": {
           "arrowcolor": "#2a3f5f",
           "arrowhead": 0,
           "arrowwidth": 1
          },
          "autotypenumbers": "strict",
          "coloraxis": {
           "colorbar": {
            "outlinewidth": 0,
            "ticks": ""
           }
          },
          "colorscale": {
           "diverging": [
            [
             0,
             "#8e0152"
            ],
            [
             0.1,
             "#c51b7d"
            ],
            [
             0.2,
             "#de77ae"
            ],
            [
             0.3,
             "#f1b6da"
            ],
            [
             0.4,
             "#fde0ef"
            ],
            [
             0.5,
             "#f7f7f7"
            ],
            [
             0.6,
             "#e6f5d0"
            ],
            [
             0.7,
             "#b8e186"
            ],
            [
             0.8,
             "#7fbc41"
            ],
            [
             0.9,
             "#4d9221"
            ],
            [
             1,
             "#276419"
            ]
           ],
           "sequential": [
            [
             0,
             "#0d0887"
            ],
            [
             0.1111111111111111,
             "#46039f"
            ],
            [
             0.2222222222222222,
             "#7201a8"
            ],
            [
             0.3333333333333333,
             "#9c179e"
            ],
            [
             0.4444444444444444,
             "#bd3786"
            ],
            [
             0.5555555555555556,
             "#d8576b"
            ],
            [
             0.6666666666666666,
             "#ed7953"
            ],
            [
             0.7777777777777778,
             "#fb9f3a"
            ],
            [
             0.8888888888888888,
             "#fdca26"
            ],
            [
             1,
             "#f0f921"
            ]
           ],
           "sequentialminus": [
            [
             0,
             "#0d0887"
            ],
            [
             0.1111111111111111,
             "#46039f"
            ],
            [
             0.2222222222222222,
             "#7201a8"
            ],
            [
             0.3333333333333333,
             "#9c179e"
            ],
            [
             0.4444444444444444,
             "#bd3786"
            ],
            [
             0.5555555555555556,
             "#d8576b"
            ],
            [
             0.6666666666666666,
             "#ed7953"
            ],
            [
             0.7777777777777778,
             "#fb9f3a"
            ],
            [
             0.8888888888888888,
             "#fdca26"
            ],
            [
             1,
             "#f0f921"
            ]
           ]
          },
          "colorway": [
           "#636efa",
           "#EF553B",
           "#00cc96",
           "#ab63fa",
           "#FFA15A",
           "#19d3f3",
           "#FF6692",
           "#B6E880",
           "#FF97FF",
           "#FECB52"
          ],
          "font": {
           "color": "#2a3f5f"
          },
          "geo": {
           "bgcolor": "white",
           "lakecolor": "white",
           "landcolor": "#E5ECF6",
           "showlakes": true,
           "showland": true,
           "subunitcolor": "white"
          },
          "hoverlabel": {
           "align": "left"
          },
          "hovermode": "closest",
          "mapbox": {
           "style": "light"
          },
          "paper_bgcolor": "white",
          "plot_bgcolor": "#E5ECF6",
          "polar": {
           "angularaxis": {
            "gridcolor": "white",
            "linecolor": "white",
            "ticks": ""
           },
           "bgcolor": "#E5ECF6",
           "radialaxis": {
            "gridcolor": "white",
            "linecolor": "white",
            "ticks": ""
           }
          },
          "scene": {
           "xaxis": {
            "backgroundcolor": "#E5ECF6",
            "gridcolor": "white",
            "gridwidth": 2,
            "linecolor": "white",
            "showbackground": true,
            "ticks": "",
            "zerolinecolor": "white"
           },
           "yaxis": {
            "backgroundcolor": "#E5ECF6",
            "gridcolor": "white",
            "gridwidth": 2,
            "linecolor": "white",
            "showbackground": true,
            "ticks": "",
            "zerolinecolor": "white"
           },
           "zaxis": {
            "backgroundcolor": "#E5ECF6",
            "gridcolor": "white",
            "gridwidth": 2,
            "linecolor": "white",
            "showbackground": true,
            "ticks": "",
            "zerolinecolor": "white"
           }
          },
          "shapedefaults": {
           "line": {
            "color": "#2a3f5f"
           }
          },
          "ternary": {
           "aaxis": {
            "gridcolor": "white",
            "linecolor": "white",
            "ticks": ""
           },
           "baxis": {
            "gridcolor": "white",
            "linecolor": "white",
            "ticks": ""
           },
           "bgcolor": "#E5ECF6",
           "caxis": {
            "gridcolor": "white",
            "linecolor": "white",
            "ticks": ""
           }
          },
          "title": {
           "x": 0.05
          },
          "xaxis": {
           "automargin": true,
           "gridcolor": "white",
           "linecolor": "white",
           "ticks": "",
           "title": {
            "standoff": 15
           },
           "zerolinecolor": "white",
           "zerolinewidth": 2
          },
          "yaxis": {
           "automargin": true,
           "gridcolor": "white",
           "linecolor": "white",
           "ticks": "",
           "title": {
            "standoff": 15
           },
           "zerolinecolor": "white",
           "zerolinewidth": 2
          }
         }
        },
        "title": {
         "text": "CO2, Methane, and Temperature Z-Scores in Afghanistan"
        },
        "width": 780,
        "xaxis": {
         "title": {
          "text": "CO2"
         }
        },
        "yaxis": {
         "title": {
          "text": "Methane"
         }
        }
       }
      }
     },
     "metadata": {},
     "output_type": "display_data"
    }
   ],
   "source": [
    "# Daniel\n",
    "\n",
    "# Afghanistan\n",
    "co2_afghanistan = new_co2_dataframe[\n",
    "    (new_co2_dataframe['country_name'] == 'Afghanistan') &\n",
    "    (new_co2_dataframe['year'].between(1960, 2023))\n",
    "]\n",
    "\n",
    "methane_afghanistan = new_methane_dataframe[\n",
    "    (new_methane_dataframe['Country'] == 'Afghanistan') &\n",
    "    (new_methane_dataframe['Year'].between(1960, 2023))\n",
    "]\n",
    "\n",
    "temperature_afghanistan = new_temperature_dataframe[\n",
    "    (new_temperature_dataframe['Area'] == 'Afghanistan') &\n",
    "    (new_temperature_dataframe['Year'].between(1960, 2023)) &\n",
    "    (new_temperature_dataframe['Months'] == 'Meteorological year')\n",
    "]\n",
    "\n",
    "trace = go.Scatter(\n",
    "    x=co2_afghanistan['z-score'],\n",
    "    y=methane_afghanistan['z-score'],\n",
    "    mode='markers',\n",
    "    marker=dict(\n",
    "        size=abs(temperature_afghanistan['Temperature']) * 7,\n",
    "        sizemode='diameter',\n",
    "        sizeref=0.1,\n",
    "        color=temperature_afghanistan['Temperature'],\n",
    "        colorscale='Viridis',\n",
    "        showscale=True,\n",
    "        cmin=temperature_afghanistan['Temperature'].min(),\n",
    "        cmax=temperature_afghanistan['Temperature'].max()\n",
    "    ),\n",
    "    text=co2_afghanistan['z-score'],\n",
    "    hovertemplate=\n",
    "    '<b>CO2: %{x}</b><br>'+\n",
    "    '<b>Methane: %{y}</b><br>'+\n",
    "    '<b>Temperature Z-Score: %{marker.size}</b><br>',\n",
    ")\n",
    "\n",
    "layout = go.Layout(\n",
    "    title='CO2, Methane, and Temperature Z-Scores in Afghanistan',\n",
    "    xaxis=dict(title='CO2'),\n",
    "    yaxis=dict(title='Methane'),\n",
    "    hovermode='closest',\n",
    "     margin=dict(\n",
    "        l=100,\n",
    "        r=80,\n",
    "        t=100,\n",
    "        b=130 \n",
    "    )\n",
    ")\n",
    "\n",
    "fig = go.Figure(data=[trace], layout=layout)\n",
    "\n",
    "fig.update_layout(\n",
    "    annotations=[\n",
    "        dict(\n",
    "            text='Caption: Bubble chart showing the relationship between CO2 and Methane z-scores in Afghanistan, <br>'+\n",
    "            'with the size of the dots representing the intensity of the Temperature Z-Scores.  <br>'+\n",
    "            'The green dots represent a higher temperature than the purple dots, <br>'+\n",
    "            'you can see big green dots in the lower left and upper right corners, <br>'+\n",
    "            'indicating that there is no relationship between higher temperatures and rising CO2 and methane levels.',\n",
    "            xref='paper',\n",
    "            yref='paper',\n",
    "            x=0,\n",
    "            y=-0.46,\n",
    "            showarrow=False,\n",
    "            font=dict(\n",
    "                size=12,\n",
    "                color='black'\n",
    "            )\n",
    "        )\n",
    "    ],\n",
    "    height=500, \n",
    "    width=780 \n",
    ")\n",
    "\n",
    "fig.show()"
   ]
  },
  {
   "attachments": {},
   "cell_type": "markdown",
   "metadata": {},
   "source": [
    "# El-Nino's and La-Nina's causes CO2 levels to rise"
   ]
  },
  {
   "cell_type": "code",
   "execution_count": 16,
   "metadata": {
    "tags": [
     "hide-input"
    ]
   },
   "outputs": [
    {
     "data": {
      "image/png": "[encoded data removed]",
      "text/plain": [
       "<Figure size 500x500 with 1 Axes>"
      ]
     },
     "metadata": {},
     "output_type": "display_data"
    }
   ],
   "source": [
    "# Daniel\n",
    "\n",
    "CO2_elnino_df = pd.read_csv('CO2_merge_elnino_lanina.csv')\n",
    "\n",
    "only_elnino = CO2_elnino_df[CO2_elnino_df['z-score_y'] >= 0.5]\n",
    "\n",
    "z_score_x = CO2_elnino_df['z-score_x']\n",
    "z_score_y = CO2_elnino_df['z-score_y']\n",
    "\n",
    "sns.lmplot(data=CO2_elnino_df, x='year', y='z-score_x', line_kws={'color': 'red'})\n",
    "plt.xlabel('year')\n",
    "plt.ylabel('CO2 z-score')\n",
    "plt.title('Linear Regression: year vs. CO2 z-score')\n",
    "plt.show()"
   ]
  },
  {
   "cell_type": "code",
   "execution_count": 17,
   "metadata": {
    "tags": [
     "hide-input"
    ]
   },
   "outputs": [
    {
     "data": {
      "application/vnd.jupyter.widget-view+json": {
       "model_id": "fe381abbbda5467eb11032a234147320",
       "version_major": 2,
       "version_minor": 0
      },
      "text/plain": [
       "interactive(children=(IntSlider(value=1990, description='year', max=2018, min=1990), Output()), _dom_classes=(…"
      ]
     },
     "metadata": {},
     "output_type": "display_data"
    },
    {
     "data": {
      "text/plain": [
       "<function __main__.plot_data(year)>"
      ]
     },
     "execution_count": 17,
     "metadata": {},
     "output_type": "execute_result"
    }
   ],
   "source": [
    "data_all_values = pd.read_csv('all_data_and_long_lat.csv')\n",
    "data_all_values_df = pd.DataFrame(data_all_values)\n",
    "data_all_values_df = data_all_values_df[np.isfinite(data_all_values_df['z-score-methane'])]\n",
    "data_all_values_df['z-score-elnino-lanina'] = data_all_values_df['z-score-elnino-lanina'] + 3\n",
    "\n",
    "\n",
    "\n",
    "def plot_data(year):\n",
    "    # Create the figure and axes objects\n",
    "    figure = plt.figure(figsize=(8, 6))\n",
    "    ax = figure.add_subplot(1,1,1, projection=ccrs.PlateCarree())\n",
    "    figure.subplots_adjust(left=0.1, right=0.9, bottom=0.2, top=0.5)\n",
    "\n",
    "    # Create a dummy scatter plot to initialize the colorbar\n",
    "    sc = ax.scatter([], [], c=[], cmap='coolwarm')\n",
    "\n",
    "    bins = [-np.inf, 2.5, 3.5, np.inf]\n",
    "    shapes = ['o', 's', '^']\n",
    "\n",
    "    data_all_values_df['marker'] = pd.cut(data_all_values_df['z-score-elnino-lanina'], bins=bins, labels=shapes)\n",
    "\n",
    "    # Create the colorbar\n",
    "    cbar = plt.colorbar(sc, ax=ax, orientation='vertical', fraction=0.03, pad=0.05)\n",
    "    cbar.set_label('CO2 Z-Score')\n",
    "    # Filter the data for the selected year\n",
    "    data = data_all_values_df[data_all_values_df['Year'] == year]\n",
    "\n",
    "    # Clear the previous plot\n",
    "    ax.clear()\n",
    "\n",
    "    # Add the map features\n",
    "    ax.add_feature(cfeature.BORDERS)\n",
    "    ax.add_feature(cfeature.COASTLINE)\n",
    "\n",
    "    # Plot the data using the marker column\n",
    "    for shape in shapes:\n",
    "        data_subset = data[data['marker'] == shape]\n",
    "        sc = ax.scatter(data_subset['longitude'], data_subset['latitude'], c=data_subset['z-score-co2'], cmap='coolwarm', s=data_subset['z-score-elnino-lanina']*20, marker=shape, transform=ccrs.PlateCarree())\n",
    "\n",
    "    # Set the title and axis labels\n",
    "    ax.set_title('Relation between CO2 and El Nino/La Nina | 1990-2018')\n",
    "    ax.set_xlabel('Longitude')\n",
    "    ax.set_ylabel('Latitude')\n",
    "\n",
    "    legend_labels = ['La Nina', 'Neither', 'El Nino']\n",
    "    legend_shapes = ['o', 's', '^']\n",
    "\n",
    "    legend_handles = [plt.scatter([], [], marker=shape, label=label, facecolor='black', edgecolor='black') for label, shape in zip(legend_labels, legend_shapes)]\n",
    "    ax.legend(handles=legend_handles, title='Legend', loc='center left', bbox_to_anchor=(-0.015, -0.3))\n",
    "\n",
    "    # Update the colorbar\n",
    "    cbar.update_normal(sc)\n",
    "\n",
    "\n",
    "year_slider = IntSlider(min=data_all_values_df['Year'].min(), max=data_all_values_df['Year'].max(), step=1, value=data_all_values_df['Year'].min())\n",
    "\n",
    "interact(plot_data, year=year_slider)\n",
    "\n",
    "\n",
    "\n"
   ]
  }
 ],
 "metadata": {
  "kernelspec": {
   "display_name": "jupyterbook",
   "language": "python",
   "name": "python3"
  },
  "language_info": {
   "codemirror_mode": {
    "name": "ipython",
    "version": 3
   },
   "file_extension": ".py",
   "mimetype": "text/x-python",
   "name": "python",
   "nbconvert_exporter": "python",
   "pygments_lexer": "ipython3",
   "version": "3.9.16"
  },
  "orig_nbformat": 4
 },
 "nbformat": 4,
 "nbformat_minor": 2
}
